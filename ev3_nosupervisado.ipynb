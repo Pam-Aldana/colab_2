{
 "cells": [
  {
   "cell_type": "markdown",
   "metadata": {
    "id": "HXhwPon6TX8Z"
   },
   "source": [
    "# Informe Técnico evaluacion3 : Aprendizaje no supervisado\n",
    "\n",
    "Integrantes:\n",
    "* Pamela Aldana\n",
    " \n",
    "\n",
    "Sección:MACHINE LEARNING_003V"
   ]
  },
  {
   "cell_type": "markdown",
   "metadata": {
    "id": "4ECi2s_YTlIK"
   },
   "source": [
    "Variable Descripción\n",
    "\n",
    "Región = Región de Residencia\n",
    "\n",
    "Renta = Renta del cliente\n",
    "\n",
    "Sexo = Sexo\n",
    "\n",
    "Subsegmento = Subsegmento\n",
    "\n",
    "Edad = Edad\n",
    "\n",
    "Adicional = Indicador de Tenencia de TC adicionales\n",
    "\n",
    "Antiguedad = Antigüedad del cliente (meses)\n",
    "\n",
    "CambioPin = Indicador del cambio de clave secreta de la tarjeta\n",
    "\n",
    "Consumo = Indicador de Crédito de Consumo\n",
    "\n",
    "Debito = Indicador de Tenencia de TD\n",
    "\n",
    "Ctacte = Indicador de Cuenta Corriente\n",
    "\n",
    "Cuentas = Número de cuentas que tiene el cliente\n",
    "\n",
    "Hipotecario = Indicador de Crédito Hipotecario\n",
    "\n",
    "Internauta = Indicador de cliente Internauta que usa la web del banco\n",
    "\n",
    "Monoproducto = Indicador de si el cliente es solo poseedor de una TC\n",
    "\n",
    "TC = Número de TC que tiene el cliente\n",
    "\n",
    "Dualidad = Indicador de Dualidad (Cliente es dual si tiene 2 o más TC)\n",
    "\n",
    "CUPO_L1 = Cupo de la tarjeta crédito para compras nacionales\n",
    "\n",
    "CUPO_MX = Cupo de la tarjeta crédito para compras internacionales\n",
    "\n",
    "CUPO_L2 = Cupo de la tarjeta crédito para avances en cuotas\n",
    "\n",
    "Col_T12 = Colocación del cliente en TC en el mes X\n",
    "\n",
    "ColL1TE_T12 = Revolving del cliente en TC en el mes X\n",
    "\n",
    "EeccInt_T12 = Monto internacional exigido en el estado de cuenta del cliente en el mes X\n",
    "\n",
    "EeccNac_T12 = Monto nacional exigido en el estado de cuenta del cliente en el mes X\n",
    "\n",
    "Fac_T12 Monto = facturado por el cliente en TC en el mes X\n",
    "\n",
    "FacAI_T12 = Monto facturado en avances internacionales por el cliente en TC en el mes X\n",
    "\n",
    "FacAN_T12 = Monto facturado en avances nacionales por el cliente en TC en el mes X\n",
    "\n",
    "FacCCOT_T12 = Monto facturado en compras en cuotas con tasa por el cliente en TC en el mes X\n",
    "\n",
    "FacCCPC_T12 = Monto facturado en compras en cuotas precio contado por el cliente en TC en el mes X\n",
    "\n",
    "FacCI_T12 = Monto facturado en compras internacionales por el cliente en TC en el mes X\n",
    "\n",
    "FacCN_T12 = Monto facturado en compras nacionales por el cliente en TC en el mes X\n",
    "\n",
    "FacCOL_T12 = Monto facturado en avances en cuotas por el cliente en TC en el mes X\n",
    "\n",
    "FacDebAtm_T12 = Monto facturado en avances por el cliente en TD en el mes X\n",
    "\n",
    "FacDebCom_T12 = Monto facturado en compras por el cliente en TD en el mes X\n",
    "\n",
    "FacPAT_T12 = Monto facturado en PAT por el cliente en TC en el mes X\n",
    "\n",
    "FlgAct_T12 = Indicador de actividad en el mes X en la TC\n",
    "\n",
    "FlgActAI_T12 = Indicador de actividad en avances internacionales en el mes X en la TC\n",
    "\n",
    "FlgActAN_T12 = Indicador de actividad en avances nacionales en el mes X en la TC\n",
    "\n",
    "FlgActCCOT_T12 = Indicador de actividad en compras nacionales en cuotas con tasa en el mes X en la TC\n",
    "\n",
    "FlgActCCPC_T12 = Indicador de actividad en compras nacionales en cuotas precio contado en el mes X en la TC\n",
    "\n",
    "FlgActCI_T12 = Indicador de actividad en compras internacionales en el mes X en la TC\n",
    "\n",
    "FlgActCN_T12 = Indicador de actividad en compras nacionales en el mes X en la TC\n",
    "\n",
    "FlgActCOL_T12 = Indicador de actividad en avances en cuotas con tasa en el mes X en la TC\n",
    "\n",
    "FlgActPAT_T12 = Indicador de actividad en PAT en el mes X en la TC\n",
    "\n",
    "PagoInt_T12 = Monto de pagos de deuda internacional del cliente en el mes X\n",
    "\n",
    "PagoNac_T12 = Monto de pagos de deuda nacional del cliente en el mes X\n",
    "\n",
    "Txs_T12 = Número de transacciones realizados por el cliente en TC en el mes X\n",
    "\n",
    "TxsAI_T12 = Número de transacciones en avances internacionales realizados por el cliente en TC en el mes X\n",
    "\n",
    "TxsAN_T12 = Número de transacciones en avances nacionales realizados por el cliente en TC en el mes X\n",
    "\n",
    "TxsCCOT_T12 = Número de transacciones en compras en cuotas con tasa realizados por el cliente en TC en el mes X\n",
    "\n",
    "TxsCCPC_T12 = Número de transacciones en compras en cuotas precio contado realizados por el cliente en TC en el mes X\n",
    "\n",
    "TxsCI_T12 = Número de transacciones en compras internacionales realizados por el cliente en TC en el mes X\n",
    "\n",
    "TxsCN_T12 = Número de transacciones en compras nacionales realizados por el cliente en TC en el mes X\n",
    "\n",
    "TxsCOL_T12 = Número de transacciones en avances en cuotas por el cliente en TC en el mes X\n",
    "\n",
    "TxsDebAtm_T12 = Número de transacciones en avances realizados por el cliente en TD en el mes X\n",
    "\n",
    "TxsDebCom_T12 = Número de transacciones en compras realizados por el cliente en TD en el mes X\n",
    "\n",
    "TxsPAT_T12 = Número de transacciones en PAT realizados por el cliente en TC en el mes X\n",
    "\n",
    "UsoL1_T12 = Monto de deuda en la línea de compras en la TC en el mes X\n",
    "\n",
    "UsoL2_T12 = Monto de deuda en la línea de avances en cuotas en la TC en el mes X\n",
    "\n",
    "UsoLI_T12 = Monto de deuda en la línea de compras internacionales en la TC en el mes X\n",
    "\n"
   ]
  },
  {
   "cell_type": "markdown",
   "metadata": {
    "id": "BRTNkqde3ECf"
   },
   "source": [
    "##**Apuntes**\n",
    "\n",
    " dbscan , k-means, clustering jerarquico(aglomerativo, jerarquico(dendrogramas))\n",
    "\n",
    " 2 metrica : siluet,   (1,-1)\n",
    "\n",
    " k-means:  caracteristicas de un cluster :  "
   ]
  },
  {
   "cell_type": "code",
   "execution_count": 1,
   "metadata": {
    "executionInfo": {
     "elapsed": 25449,
     "status": "ok",
     "timestamp": 1734557983697,
     "user": {
      "displayName": "PAMELA ROSA ALDANA ROJAS",
      "userId": "08455162234145327811"
     },
     "user_tz": 240
    },
    "id": "RYllrCUK4HA2"
   },
   "outputs": [],
   "source": [
    "# Insertar cuantos bloques de código y markdown consideren necesarios\n",
    "\n",
    "import numpy as np # Programación vectorial\n",
    "\n",
    "import pandas as pd # Estructura y manipulación de datos\n",
    "import seaborn as sns\n",
    "from seaborn import boxplot\n",
    "from numpy import array\n",
    "\n",
    "# Gráficos\n",
    "\n",
    "import matplotlib.pyplot as plt # Visualización\n",
    "from matplotlib import style\n",
    "\n",
    "\n",
    "# Preprocesado y modelado\n",
    "from scipy.stats import pearsonr\n",
    "from sklearn.linear_model import LinearRegression\n",
    "from sklearn.model_selection import train_test_split\n",
    "from sklearn.metrics import r2_score\n",
    "from sklearn.metrics import mean_squared_error\n",
    "#import statsmodels.api as sm\n",
    "#import statsmodels.formula.api as smf\n",
    "# Configuración warnings\n",
    "import warnings\n",
    "warnings.filterwarnings('ignore')\n",
    "\n",
    "# Configuración matplotlib\n",
    "plt.rcParams['image.cmap'] = \"bwr\"\n",
    "#plt.rcParams['figure.dpi'] = \"100\"\n",
    "plt.rcParams['savefig.bbox'] = \"tight\"\n",
    "style.use('ggplot') or plt.style.use('ggplot')\n",
    "\n",
    "import statsmodels.api as sm\n",
    "\n",
    "# Preprocesado y modelado\n",
    "# ==============================================================================\n",
    "from sklearn.decomposition import PCA\n",
    "from sklearn.preprocessing import StandardScaler,MinMaxScaler"
   ]
  },
  {
   "cell_type": "code",
   "execution_count": 2,
   "metadata": {
    "executionInfo": {
     "elapsed": 2339,
     "status": "ok",
     "timestamp": 1734557993765,
     "user": {
      "displayName": "PAMELA ROSA ALDANA ROJAS",
      "userId": "08455162234145327811"
     },
     "user_tz": 240
    },
    "id": "dMbSdhRYLZQV"
   },
   "outputs": [],
   "source": [
    "from sklearn.cluster import KMeans\n",
    "from sklearn.metrics import silhouette_score"
   ]
  },
  {
   "cell_type": "code",
   "execution_count": null,
   "metadata": {
    "colab": {
     "background_save": true,
     "base_uri": "https://localhost:8080/",
     "height": 52
    },
    "id": "6--Rr-fWt9md"
   },
   "outputs": [
    {
     "data": {
      "text/html": [
       "\n",
       "     <input type=\"file\" id=\"files-fc8c1787-4ac8-4ea2-981f-668dfc9c785c\" name=\"files[]\" multiple disabled\n",
       "        style=\"border:none\" />\n",
       "     <output id=\"result-fc8c1787-4ac8-4ea2-981f-668dfc9c785c\">\n",
       "      Upload widget is only available when the cell has been executed in the\n",
       "      current browser session. Please rerun this cell to enable.\n",
       "      </output>\n",
       "      <script>// Copyright 2017 Google LLC\n",
       "//\n",
       "// Licensed under the Apache License, Version 2.0 (the \"License\");\n",
       "// you may not use this file except in compliance with the License.\n",
       "// You may obtain a copy of the License at\n",
       "//\n",
       "//      http://www.apache.org/licenses/LICENSE-2.0\n",
       "//\n",
       "// Unless required by applicable law or agreed to in writing, software\n",
       "// distributed under the License is distributed on an \"AS IS\" BASIS,\n",
       "// WITHOUT WARRANTIES OR CONDITIONS OF ANY KIND, either express or implied.\n",
       "// See the License for the specific language governing permissions and\n",
       "// limitations under the License.\n",
       "\n",
       "/**\n",
       " * @fileoverview Helpers for google.colab Python module.\n",
       " */\n",
       "(function(scope) {\n",
       "function span(text, styleAttributes = {}) {\n",
       "  const element = document.createElement('span');\n",
       "  element.textContent = text;\n",
       "  for (const key of Object.keys(styleAttributes)) {\n",
       "    element.style[key] = styleAttributes[key];\n",
       "  }\n",
       "  return element;\n",
       "}\n",
       "\n",
       "// Max number of bytes which will be uploaded at a time.\n",
       "const MAX_PAYLOAD_SIZE = 100 * 1024;\n",
       "\n",
       "function _uploadFiles(inputId, outputId) {\n",
       "  const steps = uploadFilesStep(inputId, outputId);\n",
       "  const outputElement = document.getElementById(outputId);\n",
       "  // Cache steps on the outputElement to make it available for the next call\n",
       "  // to uploadFilesContinue from Python.\n",
       "  outputElement.steps = steps;\n",
       "\n",
       "  return _uploadFilesContinue(outputId);\n",
       "}\n",
       "\n",
       "// This is roughly an async generator (not supported in the browser yet),\n",
       "// where there are multiple asynchronous steps and the Python side is going\n",
       "// to poll for completion of each step.\n",
       "// This uses a Promise to block the python side on completion of each step,\n",
       "// then passes the result of the previous step as the input to the next step.\n",
       "function _uploadFilesContinue(outputId) {\n",
       "  const outputElement = document.getElementById(outputId);\n",
       "  const steps = outputElement.steps;\n",
       "\n",
       "  const next = steps.next(outputElement.lastPromiseValue);\n",
       "  return Promise.resolve(next.value.promise).then((value) => {\n",
       "    // Cache the last promise value to make it available to the next\n",
       "    // step of the generator.\n",
       "    outputElement.lastPromiseValue = value;\n",
       "    return next.value.response;\n",
       "  });\n",
       "}\n",
       "\n",
       "/**\n",
       " * Generator function which is called between each async step of the upload\n",
       " * process.\n",
       " * @param {string} inputId Element ID of the input file picker element.\n",
       " * @param {string} outputId Element ID of the output display.\n",
       " * @return {!Iterable<!Object>} Iterable of next steps.\n",
       " */\n",
       "function* uploadFilesStep(inputId, outputId) {\n",
       "  const inputElement = document.getElementById(inputId);\n",
       "  inputElement.disabled = false;\n",
       "\n",
       "  const outputElement = document.getElementById(outputId);\n",
       "  outputElement.innerHTML = '';\n",
       "\n",
       "  const pickedPromise = new Promise((resolve) => {\n",
       "    inputElement.addEventListener('change', (e) => {\n",
       "      resolve(e.target.files);\n",
       "    });\n",
       "  });\n",
       "\n",
       "  const cancel = document.createElement('button');\n",
       "  inputElement.parentElement.appendChild(cancel);\n",
       "  cancel.textContent = 'Cancel upload';\n",
       "  const cancelPromise = new Promise((resolve) => {\n",
       "    cancel.onclick = () => {\n",
       "      resolve(null);\n",
       "    };\n",
       "  });\n",
       "\n",
       "  // Wait for the user to pick the files.\n",
       "  const files = yield {\n",
       "    promise: Promise.race([pickedPromise, cancelPromise]),\n",
       "    response: {\n",
       "      action: 'starting',\n",
       "    }\n",
       "  };\n",
       "\n",
       "  cancel.remove();\n",
       "\n",
       "  // Disable the input element since further picks are not allowed.\n",
       "  inputElement.disabled = true;\n",
       "\n",
       "  if (!files) {\n",
       "    return {\n",
       "      response: {\n",
       "        action: 'complete',\n",
       "      }\n",
       "    };\n",
       "  }\n",
       "\n",
       "  for (const file of files) {\n",
       "    const li = document.createElement('li');\n",
       "    li.append(span(file.name, {fontWeight: 'bold'}));\n",
       "    li.append(span(\n",
       "        `(${file.type || 'n/a'}) - ${file.size} bytes, ` +\n",
       "        `last modified: ${\n",
       "            file.lastModifiedDate ? file.lastModifiedDate.toLocaleDateString() :\n",
       "                                    'n/a'} - `));\n",
       "    const percent = span('0% done');\n",
       "    li.appendChild(percent);\n",
       "\n",
       "    outputElement.appendChild(li);\n",
       "\n",
       "    const fileDataPromise = new Promise((resolve) => {\n",
       "      const reader = new FileReader();\n",
       "      reader.onload = (e) => {\n",
       "        resolve(e.target.result);\n",
       "      };\n",
       "      reader.readAsArrayBuffer(file);\n",
       "    });\n",
       "    // Wait for the data to be ready.\n",
       "    let fileData = yield {\n",
       "      promise: fileDataPromise,\n",
       "      response: {\n",
       "        action: 'continue',\n",
       "      }\n",
       "    };\n",
       "\n",
       "    // Use a chunked sending to avoid message size limits. See b/62115660.\n",
       "    let position = 0;\n",
       "    do {\n",
       "      const length = Math.min(fileData.byteLength - position, MAX_PAYLOAD_SIZE);\n",
       "      const chunk = new Uint8Array(fileData, position, length);\n",
       "      position += length;\n",
       "\n",
       "      const base64 = btoa(String.fromCharCode.apply(null, chunk));\n",
       "      yield {\n",
       "        response: {\n",
       "          action: 'append',\n",
       "          file: file.name,\n",
       "          data: base64,\n",
       "        },\n",
       "      };\n",
       "\n",
       "      let percentDone = fileData.byteLength === 0 ?\n",
       "          100 :\n",
       "          Math.round((position / fileData.byteLength) * 100);\n",
       "      percent.textContent = `${percentDone}% done`;\n",
       "\n",
       "    } while (position < fileData.byteLength);\n",
       "  }\n",
       "\n",
       "  // All done.\n",
       "  yield {\n",
       "    response: {\n",
       "      action: 'complete',\n",
       "    }\n",
       "  };\n",
       "}\n",
       "\n",
       "scope.google = scope.google || {};\n",
       "scope.google.colab = scope.google.colab || {};\n",
       "scope.google.colab._files = {\n",
       "  _uploadFiles,\n",
       "  _uploadFilesContinue,\n",
       "};\n",
       "})(self);\n",
       "</script> "
      ],
      "text/plain": [
       "<IPython.core.display.HTML object>"
      ]
     },
     "metadata": {},
     "output_type": "display_data"
    }
   ],
   "source": [
    "from google.colab import files\n",
    "import pandas as pd\n",
    "\n",
    "# Subir el archivo desde tu computadora\n",
    "uploaded = files.upload()\n",
    "\n",
    "# Leer el archivo subido (la clave será el nombre del archivo)\n",
    "for fn in uploaded.keys():\n",
    "    name = fn\n",
    "\n",
    "# Cargar el archivo de Excel en un DataFrame\n",
    "df = pd.read_excel(name)\n",
    "\n",
    "# Mostrar las primeras 5 filas del DataFrame\n",
    "df.head(5)\n"
   ]
  },
  {
   "cell_type": "markdown",
   "metadata": {
    "id": "b73wc3jj4aXb"
   },
   "source": [
    "Cargar el dataset"
   ]
  },
  {
   "cell_type": "code",
   "execution_count": 3,
   "metadata": {
    "colab": {
     "base_uri": "https://localhost:8080/",
     "height": 356
    },
    "executionInfo": {
     "elapsed": 29433,
     "status": "error",
     "timestamp": 1734558032364,
     "user": {
      "displayName": "PAMELA ROSA ALDANA ROJAS",
      "userId": "08455162234145327811"
     },
     "user_tz": 240
    },
    "id": "urafNOdg4Ymh",
    "outputId": "3fb5d9d6-e50c-43b2-e5a1-b05b70477470"
   },
   "outputs": [
    {
     "name": "stdout",
     "output_type": "stream",
     "text": [
      "Mounted at /content/drive\n"
     ]
    },
    {
     "ename": "FileNotFoundError",
     "evalue": "[Errno 2] No such file or directory: '/content/drive/MyDrive/solo_base__clientes_Monopoly.xlsx'",
     "output_type": "error",
     "traceback": [
      "\u001b[0;31m---------------------------------------------------------------------------\u001b[0m",
      "\u001b[0;31mFileNotFoundError\u001b[0m                         Traceback (most recent call last)",
      "\u001b[0;32m<ipython-input-3-fe9e1d3535fb>\u001b[0m in \u001b[0;36m<cell line: 7>\u001b[0;34m()\u001b[0m\n\u001b[1;32m      5\u001b[0m \u001b[0mrt\u001b[0m\u001b[0;34m=\u001b[0m\u001b[0;34m\"/content/drive/MyDrive/solo_base__clientes_Monopoly.xlsx\"\u001b[0m\u001b[0;34m\u001b[0m\u001b[0;34m\u001b[0m\u001b[0m\n\u001b[1;32m      6\u001b[0m \u001b[0;34m\u001b[0m\u001b[0m\n\u001b[0;32m----> 7\u001b[0;31m \u001b[0mdf\u001b[0m \u001b[0;34m=\u001b[0m \u001b[0mpd\u001b[0m\u001b[0;34m.\u001b[0m\u001b[0mread_excel\u001b[0m\u001b[0;34m(\u001b[0m\u001b[0mrt\u001b[0m\u001b[0;34m)\u001b[0m\u001b[0;34m\u001b[0m\u001b[0;34m\u001b[0m\u001b[0m\n\u001b[0m\u001b[1;32m      8\u001b[0m \u001b[0mdf\u001b[0m\u001b[0;34m.\u001b[0m\u001b[0mhead\u001b[0m\u001b[0;34m(\u001b[0m\u001b[0;36m10\u001b[0m\u001b[0;34m)\u001b[0m\u001b[0;34m\u001b[0m\u001b[0;34m\u001b[0m\u001b[0m\n",
      "\u001b[0;32m/usr/local/lib/python3.10/dist-packages/pandas/io/excel/_base.py\u001b[0m in \u001b[0;36mread_excel\u001b[0;34m(io, sheet_name, header, names, index_col, usecols, dtype, engine, converters, true_values, false_values, skiprows, nrows, na_values, keep_default_na, na_filter, verbose, parse_dates, date_parser, date_format, thousands, decimal, comment, skipfooter, storage_options, dtype_backend, engine_kwargs)\u001b[0m\n\u001b[1;32m    493\u001b[0m     \u001b[0;32mif\u001b[0m \u001b[0;32mnot\u001b[0m \u001b[0misinstance\u001b[0m\u001b[0;34m(\u001b[0m\u001b[0mio\u001b[0m\u001b[0;34m,\u001b[0m \u001b[0mExcelFile\u001b[0m\u001b[0;34m)\u001b[0m\u001b[0;34m:\u001b[0m\u001b[0;34m\u001b[0m\u001b[0;34m\u001b[0m\u001b[0m\n\u001b[1;32m    494\u001b[0m         \u001b[0mshould_close\u001b[0m \u001b[0;34m=\u001b[0m \u001b[0;32mTrue\u001b[0m\u001b[0;34m\u001b[0m\u001b[0;34m\u001b[0m\u001b[0m\n\u001b[0;32m--> 495\u001b[0;31m         io = ExcelFile(\n\u001b[0m\u001b[1;32m    496\u001b[0m             \u001b[0mio\u001b[0m\u001b[0;34m,\u001b[0m\u001b[0;34m\u001b[0m\u001b[0;34m\u001b[0m\u001b[0m\n\u001b[1;32m    497\u001b[0m             \u001b[0mstorage_options\u001b[0m\u001b[0;34m=\u001b[0m\u001b[0mstorage_options\u001b[0m\u001b[0;34m,\u001b[0m\u001b[0;34m\u001b[0m\u001b[0;34m\u001b[0m\u001b[0m\n",
      "\u001b[0;32m/usr/local/lib/python3.10/dist-packages/pandas/io/excel/_base.py\u001b[0m in \u001b[0;36m__init__\u001b[0;34m(self, path_or_buffer, engine, storage_options, engine_kwargs)\u001b[0m\n\u001b[1;32m   1548\u001b[0m                 \u001b[0mext\u001b[0m \u001b[0;34m=\u001b[0m \u001b[0;34m\"xls\"\u001b[0m\u001b[0;34m\u001b[0m\u001b[0;34m\u001b[0m\u001b[0m\n\u001b[1;32m   1549\u001b[0m             \u001b[0;32melse\u001b[0m\u001b[0;34m:\u001b[0m\u001b[0;34m\u001b[0m\u001b[0;34m\u001b[0m\u001b[0m\n\u001b[0;32m-> 1550\u001b[0;31m                 ext = inspect_excel_format(\n\u001b[0m\u001b[1;32m   1551\u001b[0m                     \u001b[0mcontent_or_path\u001b[0m\u001b[0;34m=\u001b[0m\u001b[0mpath_or_buffer\u001b[0m\u001b[0;34m,\u001b[0m \u001b[0mstorage_options\u001b[0m\u001b[0;34m=\u001b[0m\u001b[0mstorage_options\u001b[0m\u001b[0;34m\u001b[0m\u001b[0;34m\u001b[0m\u001b[0m\n\u001b[1;32m   1552\u001b[0m                 )\n",
      "\u001b[0;32m/usr/local/lib/python3.10/dist-packages/pandas/io/excel/_base.py\u001b[0m in \u001b[0;36minspect_excel_format\u001b[0;34m(content_or_path, storage_options)\u001b[0m\n\u001b[1;32m   1400\u001b[0m         \u001b[0mcontent_or_path\u001b[0m \u001b[0;34m=\u001b[0m \u001b[0mBytesIO\u001b[0m\u001b[0;34m(\u001b[0m\u001b[0mcontent_or_path\u001b[0m\u001b[0;34m)\u001b[0m\u001b[0;34m\u001b[0m\u001b[0;34m\u001b[0m\u001b[0m\n\u001b[1;32m   1401\u001b[0m \u001b[0;34m\u001b[0m\u001b[0m\n\u001b[0;32m-> 1402\u001b[0;31m     with get_handle(\n\u001b[0m\u001b[1;32m   1403\u001b[0m         \u001b[0mcontent_or_path\u001b[0m\u001b[0;34m,\u001b[0m \u001b[0;34m\"rb\"\u001b[0m\u001b[0;34m,\u001b[0m \u001b[0mstorage_options\u001b[0m\u001b[0;34m=\u001b[0m\u001b[0mstorage_options\u001b[0m\u001b[0;34m,\u001b[0m \u001b[0mis_text\u001b[0m\u001b[0;34m=\u001b[0m\u001b[0;32mFalse\u001b[0m\u001b[0;34m\u001b[0m\u001b[0;34m\u001b[0m\u001b[0m\n\u001b[1;32m   1404\u001b[0m     ) as handle:\n",
      "\u001b[0;32m/usr/local/lib/python3.10/dist-packages/pandas/io/common.py\u001b[0m in \u001b[0;36mget_handle\u001b[0;34m(path_or_buf, mode, encoding, compression, memory_map, is_text, errors, storage_options)\u001b[0m\n\u001b[1;32m    880\u001b[0m         \u001b[0;32melse\u001b[0m\u001b[0;34m:\u001b[0m\u001b[0;34m\u001b[0m\u001b[0;34m\u001b[0m\u001b[0m\n\u001b[1;32m    881\u001b[0m             \u001b[0;31m# Binary mode\u001b[0m\u001b[0;34m\u001b[0m\u001b[0;34m\u001b[0m\u001b[0m\n\u001b[0;32m--> 882\u001b[0;31m             \u001b[0mhandle\u001b[0m \u001b[0;34m=\u001b[0m \u001b[0mopen\u001b[0m\u001b[0;34m(\u001b[0m\u001b[0mhandle\u001b[0m\u001b[0;34m,\u001b[0m \u001b[0mioargs\u001b[0m\u001b[0;34m.\u001b[0m\u001b[0mmode\u001b[0m\u001b[0;34m)\u001b[0m\u001b[0;34m\u001b[0m\u001b[0;34m\u001b[0m\u001b[0m\n\u001b[0m\u001b[1;32m    883\u001b[0m         \u001b[0mhandles\u001b[0m\u001b[0;34m.\u001b[0m\u001b[0mappend\u001b[0m\u001b[0;34m(\u001b[0m\u001b[0mhandle\u001b[0m\u001b[0;34m)\u001b[0m\u001b[0;34m\u001b[0m\u001b[0;34m\u001b[0m\u001b[0m\n\u001b[1;32m    884\u001b[0m \u001b[0;34m\u001b[0m\u001b[0m\n",
      "\u001b[0;31mFileNotFoundError\u001b[0m: [Errno 2] No such file or directory: '/content/drive/MyDrive/solo_base__clientes_Monopoly.xlsx'"
     ]
    }
   ],
   "source": [
    "from google.colab import drive\n",
    "drive.mount('/content/drive')\n",
    "\n",
    "#rt =\"/content/drive/MyDrive/Base_clientes_Monopoly THIS.xlsx\"\n",
    "rt=\"/content/drive/MyDrive/solo_base__clientes_Monopoly.xlsx\"\n",
    "\n",
    "df = pd.read_excel(rt)\n",
    "df.head(10)\n"
   ]
  },
  {
   "cell_type": "markdown",
   "metadata": {
    "id": "FNo3xNj3TTb1"
   },
   "source": [
    "\n",
    " ## FASE 1 : COMPRENDER EL NEGOCIO\n"
   ]
  },
  {
   "cell_type": "markdown",
   "metadata": {
    "id": "JXX5MLS9TOgD"
   },
   "source": [
    "#El caso \"Banco Monopoly/Dormammu\"\n",
    "El banco extranjero llamado \"Dormammu\" adquiere el banco chileno Monopoly . Dormammu ha encargado a sus ingenieros realizar un análisis de los clientes de Monopoly, comprendiendo su comportamiento y patrones de uso de productos financieros, con el objetivo de desarrollar una estrategia efectiva para abordar este nuevo mercado."
   ]
  },
  {
   "cell_type": "markdown",
   "metadata": {
    "id": "lOVWicrLTLSm"
   },
   "source": [
    "En la base de datos hay que utilizar metodologia Crisp-DM, seleccionar las variables relevantes para su interpretación y proporcionar la información necesaria a los propietarios de Dormammu para que puedan comprender a los clientes de Monopoly y desarrollar una estrategia efectiva para abordar este nuevo mercado."
   ]
  },
  {
   "cell_type": "markdown",
   "metadata": {
    "id": "5GAG_U3rTrod"
   },
   "source": [
    "#Datos:\n",
    " La base de datos muestra  información clientes de Monopoly que contiene 12 meses de información mensual para cada cliente, lo que resulta en un total de 574 variables y 51124 registros."
   ]
  },
  {
   "cell_type": "code",
   "execution_count": null,
   "metadata": {
    "id": "4W5BKFYi6SLi"
   },
   "outputs": [],
   "source": [
    "pd.set_option('display.max_columns',547)#ver todas las variables"
   ]
  },
  {
   "cell_type": "markdown",
   "metadata": {
    "id": "6Sv5paPfT6Xx"
   },
   "source": [
    "## FASE 2 : COMPRENDER LO DATOS"
   ]
  },
  {
   "cell_type": "markdown",
   "metadata": {
    "id": "2pGeTTu5T_Lk"
   },
   "source": [
    "##Analisis exploratorio de los datos"
   ]
  },
  {
   "cell_type": "code",
   "execution_count": null,
   "metadata": {
    "colab": {
     "base_uri": "https://localhost:8080/",
     "height": 255
    },
    "id": "2kI2D-mT6H8p",
    "outputId": "064664fe-3514-4224-e6e6-1888925122af"
   },
   "outputs": [
    {
     "data": {
      "text/html": [
       "\n",
       "  <div id=\"df-b31bb12e-ff1b-4f9a-84a6-ce62ee480f40\" class=\"colab-df-container\">\n",
       "    <div>\n",
       "<style scoped>\n",
       "    .dataframe tbody tr th:only-of-type {\n",
       "        vertical-align: middle;\n",
       "    }\n",
       "\n",
       "    .dataframe tbody tr th {\n",
       "        vertical-align: top;\n",
       "    }\n",
       "\n",
       "    .dataframe thead th {\n",
       "        text-align: right;\n",
       "    }\n",
       "</style>\n",
       "<table border=\"1\" class=\"dataframe\">\n",
       "  <thead>\n",
       "    <tr style=\"text-align: right;\">\n",
       "      <th></th>\n",
       "      <th>Id</th>\n",
       "      <th>Subsegmento</th>\n",
       "      <th>Sexo</th>\n",
       "      <th>Region</th>\n",
       "      <th>Edad</th>\n",
       "      <th>Renta</th>\n",
       "      <th>Antiguedad</th>\n",
       "      <th>Internauta</th>\n",
       "      <th>Adicional</th>\n",
       "      <th>Dualidad</th>\n",
       "      <th>...</th>\n",
       "      <th>ColMx_T01</th>\n",
       "      <th>PagoNac_T01</th>\n",
       "      <th>PagoInt_T01</th>\n",
       "      <th>EeccNac_T01</th>\n",
       "      <th>EeccInt_T01</th>\n",
       "      <th>UsoL1_T01</th>\n",
       "      <th>UsoL2_T01</th>\n",
       "      <th>UsoLI_T01</th>\n",
       "      <th>IndRev_T01</th>\n",
       "      <th>target</th>\n",
       "    </tr>\n",
       "  </thead>\n",
       "  <tbody>\n",
       "    <tr>\n",
       "      <th>0</th>\n",
       "      <td>1</td>\n",
       "      <td>160</td>\n",
       "      <td>M</td>\n",
       "      <td>13.0</td>\n",
       "      <td>43</td>\n",
       "      <td>NaN</td>\n",
       "      <td>130</td>\n",
       "      <td>1</td>\n",
       "      <td>1</td>\n",
       "      <td>0</td>\n",
       "      <td>...</td>\n",
       "      <td>0.0</td>\n",
       "      <td>33000</td>\n",
       "      <td>0.0</td>\n",
       "      <td>1099866.0</td>\n",
       "      <td>0.0</td>\n",
       "      <td>1099866.0</td>\n",
       "      <td>15080</td>\n",
       "      <td>0.0</td>\n",
       "      <td>R</td>\n",
       "      <td>0</td>\n",
       "    </tr>\n",
       "    <tr>\n",
       "      <th>1</th>\n",
       "      <td>2</td>\n",
       "      <td>160</td>\n",
       "      <td>H</td>\n",
       "      <td>13.0</td>\n",
       "      <td>46</td>\n",
       "      <td>143640.0</td>\n",
       "      <td>69</td>\n",
       "      <td>1</td>\n",
       "      <td>0</td>\n",
       "      <td>0</td>\n",
       "      <td>...</td>\n",
       "      <td>0.0</td>\n",
       "      <td>300000</td>\n",
       "      <td>0.0</td>\n",
       "      <td>214592.0</td>\n",
       "      <td>0.0</td>\n",
       "      <td>214592.0</td>\n",
       "      <td>83596</td>\n",
       "      <td>0.0</td>\n",
       "      <td>R</td>\n",
       "      <td>0</td>\n",
       "    </tr>\n",
       "    <tr>\n",
       "      <th>2</th>\n",
       "      <td>3</td>\n",
       "      <td>170</td>\n",
       "      <td>H</td>\n",
       "      <td>13.0</td>\n",
       "      <td>45</td>\n",
       "      <td>929106.0</td>\n",
       "      <td>24</td>\n",
       "      <td>1</td>\n",
       "      <td>1</td>\n",
       "      <td>0</td>\n",
       "      <td>...</td>\n",
       "      <td>0.0</td>\n",
       "      <td>216676</td>\n",
       "      <td>0.0</td>\n",
       "      <td>0.0</td>\n",
       "      <td>0.0</td>\n",
       "      <td>7400.0</td>\n",
       "      <td>0</td>\n",
       "      <td>0.0</td>\n",
       "      <td>T</td>\n",
       "      <td>0</td>\n",
       "    </tr>\n",
       "    <tr>\n",
       "      <th>3</th>\n",
       "      <td>4</td>\n",
       "      <td>151</td>\n",
       "      <td>H</td>\n",
       "      <td>13.0</td>\n",
       "      <td>46</td>\n",
       "      <td>172447.0</td>\n",
       "      <td>134</td>\n",
       "      <td>0</td>\n",
       "      <td>1</td>\n",
       "      <td>0</td>\n",
       "      <td>...</td>\n",
       "      <td>0.0</td>\n",
       "      <td>60000</td>\n",
       "      <td>0.0</td>\n",
       "      <td>272762.0</td>\n",
       "      <td>0.0</td>\n",
       "      <td>272762.0</td>\n",
       "      <td>10591</td>\n",
       "      <td>0.0</td>\n",
       "      <td>R</td>\n",
       "      <td>0</td>\n",
       "    </tr>\n",
       "    <tr>\n",
       "      <th>4</th>\n",
       "      <td>5</td>\n",
       "      <td>170</td>\n",
       "      <td>H</td>\n",
       "      <td>13.0</td>\n",
       "      <td>46</td>\n",
       "      <td>805250.0</td>\n",
       "      <td>116</td>\n",
       "      <td>0</td>\n",
       "      <td>1</td>\n",
       "      <td>1</td>\n",
       "      <td>...</td>\n",
       "      <td>0.0</td>\n",
       "      <td>272925</td>\n",
       "      <td>0.0</td>\n",
       "      <td>249562.0</td>\n",
       "      <td>0.0</td>\n",
       "      <td>75339.0</td>\n",
       "      <td>377782</td>\n",
       "      <td>0.0</td>\n",
       "      <td>R</td>\n",
       "      <td>0</td>\n",
       "    </tr>\n",
       "  </tbody>\n",
       "</table>\n",
       "<p>5 rows × 574 columns</p>\n",
       "</div>\n",
       "    <div class=\"colab-df-buttons\">\n",
       "\n",
       "  <div class=\"colab-df-container\">\n",
       "    <button class=\"colab-df-convert\" onclick=\"convertToInteractive('df-b31bb12e-ff1b-4f9a-84a6-ce62ee480f40')\"\n",
       "            title=\"Convert this dataframe to an interactive table.\"\n",
       "            style=\"display:none;\">\n",
       "\n",
       "  <svg xmlns=\"http://www.w3.org/2000/svg\" height=\"24px\" viewBox=\"0 -960 960 960\">\n",
       "    <path d=\"M120-120v-720h720v720H120Zm60-500h600v-160H180v160Zm220 220h160v-160H400v160Zm0 220h160v-160H400v160ZM180-400h160v-160H180v160Zm440 0h160v-160H620v160ZM180-180h160v-160H180v160Zm440 0h160v-160H620v160Z\"/>\n",
       "  </svg>\n",
       "    </button>\n",
       "\n",
       "  <style>\n",
       "    .colab-df-container {\n",
       "      display:flex;\n",
       "      gap: 12px;\n",
       "    }\n",
       "\n",
       "    .colab-df-convert {\n",
       "      background-color: #E8F0FE;\n",
       "      border: none;\n",
       "      border-radius: 50%;\n",
       "      cursor: pointer;\n",
       "      display: none;\n",
       "      fill: #1967D2;\n",
       "      height: 32px;\n",
       "      padding: 0 0 0 0;\n",
       "      width: 32px;\n",
       "    }\n",
       "\n",
       "    .colab-df-convert:hover {\n",
       "      background-color: #E2EBFA;\n",
       "      box-shadow: 0px 1px 2px rgba(60, 64, 67, 0.3), 0px 1px 3px 1px rgba(60, 64, 67, 0.15);\n",
       "      fill: #174EA6;\n",
       "    }\n",
       "\n",
       "    .colab-df-buttons div {\n",
       "      margin-bottom: 4px;\n",
       "    }\n",
       "\n",
       "    [theme=dark] .colab-df-convert {\n",
       "      background-color: #3B4455;\n",
       "      fill: #D2E3FC;\n",
       "    }\n",
       "\n",
       "    [theme=dark] .colab-df-convert:hover {\n",
       "      background-color: #434B5C;\n",
       "      box-shadow: 0px 1px 3px 1px rgba(0, 0, 0, 0.15);\n",
       "      filter: drop-shadow(0px 1px 2px rgba(0, 0, 0, 0.3));\n",
       "      fill: #FFFFFF;\n",
       "    }\n",
       "  </style>\n",
       "\n",
       "    <script>\n",
       "      const buttonEl =\n",
       "        document.querySelector('#df-b31bb12e-ff1b-4f9a-84a6-ce62ee480f40 button.colab-df-convert');\n",
       "      buttonEl.style.display =\n",
       "        google.colab.kernel.accessAllowed ? 'block' : 'none';\n",
       "\n",
       "      async function convertToInteractive(key) {\n",
       "        const element = document.querySelector('#df-b31bb12e-ff1b-4f9a-84a6-ce62ee480f40');\n",
       "        const dataTable =\n",
       "          await google.colab.kernel.invokeFunction('convertToInteractive',\n",
       "                                                    [key], {});\n",
       "        if (!dataTable) return;\n",
       "\n",
       "        const docLinkHtml = 'Like what you see? Visit the ' +\n",
       "          '<a target=\"_blank\" href=https://colab.research.google.com/notebooks/data_table.ipynb>data table notebook</a>'\n",
       "          + ' to learn more about interactive tables.';\n",
       "        element.innerHTML = '';\n",
       "        dataTable['output_type'] = 'display_data';\n",
       "        await google.colab.output.renderOutput(dataTable, element);\n",
       "        const docLink = document.createElement('div');\n",
       "        docLink.innerHTML = docLinkHtml;\n",
       "        element.appendChild(docLink);\n",
       "      }\n",
       "    </script>\n",
       "  </div>\n",
       "\n",
       "\n",
       "<div id=\"df-ab691595-6081-46e4-ad8f-99997b2c17ab\">\n",
       "  <button class=\"colab-df-quickchart\" onclick=\"quickchart('df-ab691595-6081-46e4-ad8f-99997b2c17ab')\"\n",
       "            title=\"Suggest charts\"\n",
       "            style=\"display:none;\">\n",
       "\n",
       "<svg xmlns=\"http://www.w3.org/2000/svg\" height=\"24px\"viewBox=\"0 0 24 24\"\n",
       "     width=\"24px\">\n",
       "    <g>\n",
       "        <path d=\"M19 3H5c-1.1 0-2 .9-2 2v14c0 1.1.9 2 2 2h14c1.1 0 2-.9 2-2V5c0-1.1-.9-2-2-2zM9 17H7v-7h2v7zm4 0h-2V7h2v10zm4 0h-2v-4h2v4z\"/>\n",
       "    </g>\n",
       "</svg>\n",
       "  </button>\n",
       "\n",
       "<style>\n",
       "  .colab-df-quickchart {\n",
       "      --bg-color: #E8F0FE;\n",
       "      --fill-color: #1967D2;\n",
       "      --hover-bg-color: #E2EBFA;\n",
       "      --hover-fill-color: #174EA6;\n",
       "      --disabled-fill-color: #AAA;\n",
       "      --disabled-bg-color: #DDD;\n",
       "  }\n",
       "\n",
       "  [theme=dark] .colab-df-quickchart {\n",
       "      --bg-color: #3B4455;\n",
       "      --fill-color: #D2E3FC;\n",
       "      --hover-bg-color: #434B5C;\n",
       "      --hover-fill-color: #FFFFFF;\n",
       "      --disabled-bg-color: #3B4455;\n",
       "      --disabled-fill-color: #666;\n",
       "  }\n",
       "\n",
       "  .colab-df-quickchart {\n",
       "    background-color: var(--bg-color);\n",
       "    border: none;\n",
       "    border-radius: 50%;\n",
       "    cursor: pointer;\n",
       "    display: none;\n",
       "    fill: var(--fill-color);\n",
       "    height: 32px;\n",
       "    padding: 0;\n",
       "    width: 32px;\n",
       "  }\n",
       "\n",
       "  .colab-df-quickchart:hover {\n",
       "    background-color: var(--hover-bg-color);\n",
       "    box-shadow: 0 1px 2px rgba(60, 64, 67, 0.3), 0 1px 3px 1px rgba(60, 64, 67, 0.15);\n",
       "    fill: var(--button-hover-fill-color);\n",
       "  }\n",
       "\n",
       "  .colab-df-quickchart-complete:disabled,\n",
       "  .colab-df-quickchart-complete:disabled:hover {\n",
       "    background-color: var(--disabled-bg-color);\n",
       "    fill: var(--disabled-fill-color);\n",
       "    box-shadow: none;\n",
       "  }\n",
       "\n",
       "  .colab-df-spinner {\n",
       "    border: 2px solid var(--fill-color);\n",
       "    border-color: transparent;\n",
       "    border-bottom-color: var(--fill-color);\n",
       "    animation:\n",
       "      spin 1s steps(1) infinite;\n",
       "  }\n",
       "\n",
       "  @keyframes spin {\n",
       "    0% {\n",
       "      border-color: transparent;\n",
       "      border-bottom-color: var(--fill-color);\n",
       "      border-left-color: var(--fill-color);\n",
       "    }\n",
       "    20% {\n",
       "      border-color: transparent;\n",
       "      border-left-color: var(--fill-color);\n",
       "      border-top-color: var(--fill-color);\n",
       "    }\n",
       "    30% {\n",
       "      border-color: transparent;\n",
       "      border-left-color: var(--fill-color);\n",
       "      border-top-color: var(--fill-color);\n",
       "      border-right-color: var(--fill-color);\n",
       "    }\n",
       "    40% {\n",
       "      border-color: transparent;\n",
       "      border-right-color: var(--fill-color);\n",
       "      border-top-color: var(--fill-color);\n",
       "    }\n",
       "    60% {\n",
       "      border-color: transparent;\n",
       "      border-right-color: var(--fill-color);\n",
       "    }\n",
       "    80% {\n",
       "      border-color: transparent;\n",
       "      border-right-color: var(--fill-color);\n",
       "      border-bottom-color: var(--fill-color);\n",
       "    }\n",
       "    90% {\n",
       "      border-color: transparent;\n",
       "      border-bottom-color: var(--fill-color);\n",
       "    }\n",
       "  }\n",
       "</style>\n",
       "\n",
       "  <script>\n",
       "    async function quickchart(key) {\n",
       "      const quickchartButtonEl =\n",
       "        document.querySelector('#' + key + ' button');\n",
       "      quickchartButtonEl.disabled = true;  // To prevent multiple clicks.\n",
       "      quickchartButtonEl.classList.add('colab-df-spinner');\n",
       "      try {\n",
       "        const charts = await google.colab.kernel.invokeFunction(\n",
       "            'suggestCharts', [key], {});\n",
       "      } catch (error) {\n",
       "        console.error('Error during call to suggestCharts:', error);\n",
       "      }\n",
       "      quickchartButtonEl.classList.remove('colab-df-spinner');\n",
       "      quickchartButtonEl.classList.add('colab-df-quickchart-complete');\n",
       "    }\n",
       "    (() => {\n",
       "      let quickchartButtonEl =\n",
       "        document.querySelector('#df-ab691595-6081-46e4-ad8f-99997b2c17ab button');\n",
       "      quickchartButtonEl.style.display =\n",
       "        google.colab.kernel.accessAllowed ? 'block' : 'none';\n",
       "    })();\n",
       "  </script>\n",
       "</div>\n",
       "    </div>\n",
       "  </div>\n"
      ],
      "text/plain": [
       "   Id  Subsegmento Sexo  Region  Edad     Renta  Antiguedad  Internauta  \\\n",
       "0   1          160    M    13.0    43       NaN         130           1   \n",
       "1   2          160    H    13.0    46  143640.0          69           1   \n",
       "2   3          170    H    13.0    45  929106.0          24           1   \n",
       "3   4          151    H    13.0    46  172447.0         134           0   \n",
       "4   5          170    H    13.0    46  805250.0         116           0   \n",
       "\n",
       "   Adicional  Dualidad  ...  ColMx_T01  PagoNac_T01  PagoInt_T01  EeccNac_T01  \\\n",
       "0          1         0  ...        0.0        33000          0.0    1099866.0   \n",
       "1          0         0  ...        0.0       300000          0.0     214592.0   \n",
       "2          1         0  ...        0.0       216676          0.0          0.0   \n",
       "3          1         0  ...        0.0        60000          0.0     272762.0   \n",
       "4          1         1  ...        0.0       272925          0.0     249562.0   \n",
       "\n",
       "   EeccInt_T01  UsoL1_T01  UsoL2_T01  UsoLI_T01  IndRev_T01  target  \n",
       "0          0.0  1099866.0      15080        0.0           R       0  \n",
       "1          0.0   214592.0      83596        0.0           R       0  \n",
       "2          0.0     7400.0          0        0.0           T       0  \n",
       "3          0.0   272762.0      10591        0.0           R       0  \n",
       "4          0.0    75339.0     377782        0.0           R       0  \n",
       "\n",
       "[5 rows x 574 columns]"
      ]
     },
     "execution_count": 4,
     "metadata": {},
     "output_type": "execute_result"
    }
   ],
   "source": [
    "df.head()"
   ]
  },
  {
   "cell_type": "markdown",
   "metadata": {
    "id": "c-NdYMsB7bWx"
   },
   "source": [
    "A observar el dataset podemos decir que los datos no estan escalados, ya que tiene valores de distintos rangos, tambien se observan datos de tipo object los cuales se analizaran para determinar si se eliminan o transforman con one-hot encoding."
   ]
  },
  {
   "cell_type": "markdown",
   "metadata": {
    "id": "ntPXpsvMUOMn"
   },
   "source": [
    "###Se revisa la cantidad de filas y columnas  de la base de datos inicial\n",
    "cantidad columna: 574\n",
    "cantidad filas: 51124"
   ]
  },
  {
   "cell_type": "code",
   "execution_count": null,
   "metadata": {
    "colab": {
     "base_uri": "https://localhost:8080/"
    },
    "id": "HclQKt8e72uM",
    "outputId": "969a8648-8c27-49d0-8e1d-fe181838158a"
   },
   "outputs": [
    {
     "data": {
      "text/plain": [
       "(51124, 574)"
      ]
     },
     "execution_count": 15,
     "metadata": {},
     "output_type": "execute_result"
    }
   ],
   "source": [
    "df.shape"
   ]
  },
  {
   "cell_type": "code",
   "execution_count": null,
   "metadata": {
    "id": "tjVWMHaaMZPA"
   },
   "outputs": [],
   "source": [
    "df5_km=df\n",
    "df6_pca=df"
   ]
  },
  {
   "cell_type": "markdown",
   "metadata": {
    "id": "I9Kd5iT86uzE"
   },
   "source": [
    "\n",
    "###  Se visualizan  la cantidad de filas que son 51124 y columnas 574, los tipos de datos  son float64(508), int64(53), object(13)."
   ]
  },
  {
   "cell_type": "code",
   "execution_count": null,
   "metadata": {
    "colab": {
     "base_uri": "https://localhost:8080/"
    },
    "id": "uqlCCOdk6H3l",
    "outputId": "6aa50020-7b5a-4143-cd5d-7dd4efe9c322"
   },
   "outputs": [
    {
     "name": "stdout",
     "output_type": "stream",
     "text": [
      "<class 'pandas.core.frame.DataFrame'>\n",
      "RangeIndex: 51124 entries, 0 to 51123\n",
      "Columns: 574 entries, Id to target\n",
      "dtypes: float64(508), int64(53), object(13)\n",
      "memory usage: 223.9+ MB\n"
     ]
    }
   ],
   "source": [
    "df.info()"
   ]
  },
  {
   "cell_type": "markdown",
   "metadata": {
    "id": "x2e0l9QA60sH"
   },
   "source": []
  },
  {
   "cell_type": "code",
   "execution_count": null,
   "metadata": {
    "colab": {
     "base_uri": "https://localhost:8080/"
    },
    "id": "_1FJuQrL6Hxy",
    "outputId": "fa8f30a7-ec2b-47c9-b795-8b697e8ae0df"
   },
   "outputs": [
    {
     "data": {
      "text/plain": [
       "Id              0\n",
       "Subsegmento     0\n",
       "Sexo            1\n",
       "Region         53\n",
       "Edad            0\n",
       "               ..\n",
       "UsoL1_T01       0\n",
       "UsoL2_T01       0\n",
       "UsoLI_T01       0\n",
       "IndRev_T01      0\n",
       "target          0\n",
       "Length: 574, dtype: int64"
      ]
     },
     "execution_count": 13,
     "metadata": {},
     "output_type": "execute_result"
    }
   ],
   "source": [
    "df.isnull().sum()# conteo filas nulos"
   ]
  },
  {
   "cell_type": "markdown",
   "metadata": {
    "id": "flviJQzYUl8i"
   },
   "source": [
    "\n",
    "#Variables :\n",
    "Las variables Cuantitativa discreta son las de tipo  int64(53). Las variables Cuantitativa continua son las de tipo float64(508). Las variables Cualitativas son la de tipo object(13) ."
   ]
  },
  {
   "cell_type": "markdown",
   "metadata": {
    "id": "CkF6gKMLS5aL"
   },
   "source": [
    "###Visualizacion de la distribucion de algunas variables"
   ]
  },
  {
   "cell_type": "code",
   "execution_count": null,
   "metadata": {
    "colab": {
     "base_uri": "https://localhost:8080/"
    },
    "id": "REwqu0ixTKBD",
    "outputId": "d8481f52-f31f-4926-f75b-a414cc934bd2"
   },
   "outputs": [
    {
     "data": {
      "text/plain": [
       "Index(['Id', 'Subsegmento', 'Sexo', 'Region', 'Edad', 'Renta', 'Antiguedad',\n",
       "       'Internauta', 'Adicional', 'Dualidad',\n",
       "       ...\n",
       "       'ColMx_T01', 'PagoNac_T01', 'PagoInt_T01', 'EeccNac_T01', 'EeccInt_T01',\n",
       "       'UsoL1_T01', 'UsoL2_T01', 'UsoLI_T01', 'IndRev_T01', 'target'],\n",
       "      dtype='object', length=574)"
      ]
     },
     "execution_count": 14,
     "metadata": {},
     "output_type": "execute_result"
    }
   ],
   "source": [
    "df.columns"
   ]
  },
  {
   "cell_type": "code",
   "execution_count": null,
   "metadata": {
    "colab": {
     "base_uri": "https://localhost:8080/",
     "height": 1000
    },
    "id": "mcWcWEm8S4u1",
    "outputId": "c0363e1c-76fd-422b-fd73-89524c823c94"
   },
   "outputs": [
    {
     "data": {
      "image/png": "[encoded data removed]",
      "text/plain": [
       "<Figure size 400x2400 with 12 Axes>"
      ]
     },
     "metadata": {},
     "output_type": "display_data"
    }
   ],
   "source": [
    "# columnas : es una lista de columnas del DataFrame df, para ejemplicar las distribuciones de las variables\n",
    "columnas=['Region', 'Edad', 'Renta', 'Antiguedad', 'ColL2CC_T01', 'ColMx_T01', 'PagoNac_T01', 'PagoInt_T01', 'EeccInt_T01', 'UsoL1_T01', 'UsoL2_T01', 'UsoLI_T01']\n",
    "fig, axes = plt.subplots(nrows=len(columnas), ncols=1, figsize=(4, 2 * len(columnas)))\n",
    "fig.subplots_adjust(hspace=0.5)\n",
    "\n",
    "for i, col in enumerate(columnas):\n",
    "    sns.histplot(df[col], bins=30, kde=True, ax=axes[i])\n",
    "    axes[i].set_xlabel(col)\n",
    "    axes[i].set_ylabel('Frecuencia')\n",
    "\n",
    "plt.show()\n"
   ]
  },
  {
   "cell_type": "markdown",
   "metadata": {
    "id": "pFqi3b9SXAAg"
   },
   "source": [
    "Observaciones:\n",
    "\n",
    "La mayor parte de los clientes tiene edades entre los 28 y los 38 años, con sesgo hacia los 20-35años\n",
    "\n",
    "Los mayoria de los clientes tienen Renta baja.Los datos están sesgados hacia la izquierda o tiene un sesgo negativo(La media es menor que la mediana.).Se debe utilizar la mediana en lugar de la media, ya que la media puede verse afectada por los valores extremadamente bajos.\n",
    "\n",
    "La mayor cantidad de clientes son nuevos.\n",
    "\n",
    "Las mayoria de las variables en estos graficos estan sesgadas a la derecha"
   ]
  },
  {
   "cell_type": "markdown",
   "metadata": {
    "id": "gu9lEJCbVq3K"
   },
   "source": [
    "La mediana representa la mitad de los datos.Ordenados de menor a mayor.\n",
    " La mitad de las personas en ese conjunto de datos tienen edades menores o iguales a 35 años, y la otra mitad tiene edades mayores o iguales a 35 años.\n",
    "La mitad de las observaciones en ese conjunto de datos tienen  rentas menores o iguales a 567012 , y la otra mitad tiene rentas mayores o iguales a 567012."
   ]
  },
  {
   "cell_type": "markdown",
   "metadata": {
    "id": "uCz24TB_XYqF"
   },
   "source": [
    "Analisis : Renta\n",
    "El percentil 25 (primer cuartil) es 419999.00. Esto significa que el 25% de los clientes tienen un sueldo igual o inferior a esta cantidad.\n",
    "\n",
    "El percentil 50 (la mediana) es 567012.00. Esto significa que el 50% de los clientes tienen un sueldo igual o inferior a esta cantidad.\n",
    "\n",
    "El percentil 75 (el tercer cuartil) es 814,903.50. Esto significa que el 75% de los clientes tienen un sueldo igual o inferior a esta cantidad.\n",
    "\n",
    "El percentil 99 es 2074,857.56. Esto significa que el 99% de los clientes tienen un sueldo igual o inferior a esta cantidad.\n",
    "\n",
    "Los percentile 99, se identifican valores atípicos o extremadamente altos, por representa una mayor carga de datos en la distribución de sueldos"
   ]
  },
  {
   "cell_type": "markdown",
   "metadata": {
    "id": "BskJlNXEjHH7"
   },
   "source": [
    "##Correlacion de variables"
   ]
  },
  {
   "cell_type": "code",
   "execution_count": null,
   "metadata": {
    "id": "m9TUffYT6MLR"
   },
   "outputs": [],
   "source": []
  },
  {
   "cell_type": "code",
   "execution_count": null,
   "metadata": {
    "id": "hSwYFZpNSxY1"
   },
   "outputs": [],
   "source": [
    "df_corr=df.corr()"
   ]
  },
  {
   "cell_type": "code",
   "execution_count": null,
   "metadata": {
    "colab": {
     "base_uri": "https://localhost:8080/",
     "height": 255
    },
    "id": "g74xOPnxS_td",
    "outputId": "55e7fa20-2c69-4c46-d64a-9a6e539e3d63"
   },
   "outputs": [
    {
     "data": {
      "text/html": [
       "\n",
       "  <div id=\"df-a32990f7-3654-42ef-9546-5ccf35bb2ffc\" class=\"colab-df-container\">\n",
       "    <div>\n",
       "<style scoped>\n",
       "    .dataframe tbody tr th:only-of-type {\n",
       "        vertical-align: middle;\n",
       "    }\n",
       "\n",
       "    .dataframe tbody tr th {\n",
       "        vertical-align: top;\n",
       "    }\n",
       "\n",
       "    .dataframe thead th {\n",
       "        text-align: right;\n",
       "    }\n",
       "</style>\n",
       "<table border=\"1\" class=\"dataframe\">\n",
       "  <thead>\n",
       "    <tr style=\"text-align: right;\">\n",
       "      <th></th>\n",
       "      <th>Id</th>\n",
       "      <th>Subsegmento</th>\n",
       "      <th>Region</th>\n",
       "      <th>Edad</th>\n",
       "      <th>Renta</th>\n",
       "      <th>Antiguedad</th>\n",
       "      <th>Internauta</th>\n",
       "      <th>Adicional</th>\n",
       "      <th>Dualidad</th>\n",
       "      <th>Monoproducto</th>\n",
       "      <th>...</th>\n",
       "      <th>ColL2CC_T01</th>\n",
       "      <th>ColMx_T01</th>\n",
       "      <th>PagoNac_T01</th>\n",
       "      <th>PagoInt_T01</th>\n",
       "      <th>EeccNac_T01</th>\n",
       "      <th>EeccInt_T01</th>\n",
       "      <th>UsoL1_T01</th>\n",
       "      <th>UsoL2_T01</th>\n",
       "      <th>UsoLI_T01</th>\n",
       "      <th>target</th>\n",
       "    </tr>\n",
       "  </thead>\n",
       "  <tbody>\n",
       "    <tr>\n",
       "      <th>Id</th>\n",
       "      <td>1.000000</td>\n",
       "      <td>0.054252</td>\n",
       "      <td>-0.013686</td>\n",
       "      <td>0.332918</td>\n",
       "      <td>0.015980</td>\n",
       "      <td>0.145347</td>\n",
       "      <td>-0.155182</td>\n",
       "      <td>0.050817</td>\n",
       "      <td>-0.093430</td>\n",
       "      <td>0.084117</td>\n",
       "      <td>...</td>\n",
       "      <td>-0.003318</td>\n",
       "      <td>0.000092</td>\n",
       "      <td>0.000309</td>\n",
       "      <td>-0.004642</td>\n",
       "      <td>-0.006137</td>\n",
       "      <td>0.005245</td>\n",
       "      <td>-0.000753</td>\n",
       "      <td>-0.017258</td>\n",
       "      <td>0.001175</td>\n",
       "      <td>0.018496</td>\n",
       "    </tr>\n",
       "    <tr>\n",
       "      <th>Subsegmento</th>\n",
       "      <td>0.054252</td>\n",
       "      <td>1.000000</td>\n",
       "      <td>-0.047450</td>\n",
       "      <td>-0.519442</td>\n",
       "      <td>0.010060</td>\n",
       "      <td>-0.271497</td>\n",
       "      <td>0.207811</td>\n",
       "      <td>-0.159026</td>\n",
       "      <td>-0.140818</td>\n",
       "      <td>-0.157122</td>\n",
       "      <td>...</td>\n",
       "      <td>-0.047635</td>\n",
       "      <td>0.004616</td>\n",
       "      <td>-0.074260</td>\n",
       "      <td>-0.002261</td>\n",
       "      <td>-0.147534</td>\n",
       "      <td>-0.000986</td>\n",
       "      <td>-0.148976</td>\n",
       "      <td>-0.036433</td>\n",
       "      <td>0.001709</td>\n",
       "      <td>-0.021646</td>\n",
       "    </tr>\n",
       "    <tr>\n",
       "      <th>Region</th>\n",
       "      <td>-0.013686</td>\n",
       "      <td>-0.047450</td>\n",
       "      <td>1.000000</td>\n",
       "      <td>0.010729</td>\n",
       "      <td>-0.007266</td>\n",
       "      <td>0.046028</td>\n",
       "      <td>0.054414</td>\n",
       "      <td>0.097302</td>\n",
       "      <td>0.014180</td>\n",
       "      <td>0.047502</td>\n",
       "      <td>...</td>\n",
       "      <td>0.010010</td>\n",
       "      <td>0.017202</td>\n",
       "      <td>0.017824</td>\n",
       "      <td>0.005389</td>\n",
       "      <td>0.021217</td>\n",
       "      <td>0.011630</td>\n",
       "      <td>0.020277</td>\n",
       "      <td>0.024365</td>\n",
       "      <td>0.010459</td>\n",
       "      <td>-0.014621</td>\n",
       "    </tr>\n",
       "    <tr>\n",
       "      <th>Edad</th>\n",
       "      <td>0.332918</td>\n",
       "      <td>-0.519442</td>\n",
       "      <td>0.010729</td>\n",
       "      <td>1.000000</td>\n",
       "      <td>0.143001</td>\n",
       "      <td>0.524487</td>\n",
       "      <td>-0.389240</td>\n",
       "      <td>0.235544</td>\n",
       "      <td>0.013080</td>\n",
       "      <td>0.243881</td>\n",
       "      <td>...</td>\n",
       "      <td>0.034772</td>\n",
       "      <td>0.004684</td>\n",
       "      <td>0.102946</td>\n",
       "      <td>0.000022</td>\n",
       "      <td>0.178563</td>\n",
       "      <td>0.006823</td>\n",
       "      <td>0.183384</td>\n",
       "      <td>0.016585</td>\n",
       "      <td>0.004555</td>\n",
       "      <td>0.055389</td>\n",
       "    </tr>\n",
       "    <tr>\n",
       "      <th>Renta</th>\n",
       "      <td>0.015980</td>\n",
       "      <td>0.010060</td>\n",
       "      <td>-0.007266</td>\n",
       "      <td>0.143001</td>\n",
       "      <td>1.000000</td>\n",
       "      <td>0.086308</td>\n",
       "      <td>0.000227</td>\n",
       "      <td>0.035191</td>\n",
       "      <td>0.015237</td>\n",
       "      <td>0.045551</td>\n",
       "      <td>...</td>\n",
       "      <td>0.053663</td>\n",
       "      <td>0.063941</td>\n",
       "      <td>0.095831</td>\n",
       "      <td>0.016146</td>\n",
       "      <td>0.099443</td>\n",
       "      <td>0.042468</td>\n",
       "      <td>0.092393</td>\n",
       "      <td>0.035728</td>\n",
       "      <td>0.050117</td>\n",
       "      <td>-0.013111</td>\n",
       "    </tr>\n",
       "  </tbody>\n",
       "</table>\n",
       "<p>5 rows × 561 columns</p>\n",
       "</div>\n",
       "    <div class=\"colab-df-buttons\">\n",
       "\n",
       "  <div class=\"colab-df-container\">\n",
       "    <button class=\"colab-df-convert\" onclick=\"convertToInteractive('df-a32990f7-3654-42ef-9546-5ccf35bb2ffc')\"\n",
       "            title=\"Convert this dataframe to an interactive table.\"\n",
       "            style=\"display:none;\">\n",
       "\n",
       "  <svg xmlns=\"http://www.w3.org/2000/svg\" height=\"24px\" viewBox=\"0 -960 960 960\">\n",
       "    <path d=\"M120-120v-720h720v720H120Zm60-500h600v-160H180v160Zm220 220h160v-160H400v160Zm0 220h160v-160H400v160ZM180-400h160v-160H180v160Zm440 0h160v-160H620v160ZM180-180h160v-160H180v160Zm440 0h160v-160H620v160Z\"/>\n",
       "  </svg>\n",
       "    </button>\n",
       "\n",
       "  <style>\n",
       "    .colab-df-container {\n",
       "      display:flex;\n",
       "      gap: 12px;\n",
       "    }\n",
       "\n",
       "    .colab-df-convert {\n",
       "      background-color: #E8F0FE;\n",
       "      border: none;\n",
       "      border-radius: 50%;\n",
       "      cursor: pointer;\n",
       "      display: none;\n",
       "      fill: #1967D2;\n",
       "      height: 32px;\n",
       "      padding: 0 0 0 0;\n",
       "      width: 32px;\n",
       "    }\n",
       "\n",
       "    .colab-df-convert:hover {\n",
       "      background-color: #E2EBFA;\n",
       "      box-shadow: 0px 1px 2px rgba(60, 64, 67, 0.3), 0px 1px 3px 1px rgba(60, 64, 67, 0.15);\n",
       "      fill: #174EA6;\n",
       "    }\n",
       "\n",
       "    .colab-df-buttons div {\n",
       "      margin-bottom: 4px;\n",
       "    }\n",
       "\n",
       "    [theme=dark] .colab-df-convert {\n",
       "      background-color: #3B4455;\n",
       "      fill: #D2E3FC;\n",
       "    }\n",
       "\n",
       "    [theme=dark] .colab-df-convert:hover {\n",
       "      background-color: #434B5C;\n",
       "      box-shadow: 0px 1px 3px 1px rgba(0, 0, 0, 0.15);\n",
       "      filter: drop-shadow(0px 1px 2px rgba(0, 0, 0, 0.3));\n",
       "      fill: #FFFFFF;\n",
       "    }\n",
       "  </style>\n",
       "\n",
       "    <script>\n",
       "      const buttonEl =\n",
       "        document.querySelector('#df-a32990f7-3654-42ef-9546-5ccf35bb2ffc button.colab-df-convert');\n",
       "      buttonEl.style.display =\n",
       "        google.colab.kernel.accessAllowed ? 'block' : 'none';\n",
       "\n",
       "      async function convertToInteractive(key) {\n",
       "        const element = document.querySelector('#df-a32990f7-3654-42ef-9546-5ccf35bb2ffc');\n",
       "        const dataTable =\n",
       "          await google.colab.kernel.invokeFunction('convertToInteractive',\n",
       "                                                    [key], {});\n",
       "        if (!dataTable) return;\n",
       "\n",
       "        const docLinkHtml = 'Like what you see? Visit the ' +\n",
       "          '<a target=\"_blank\" href=https://colab.research.google.com/notebooks/data_table.ipynb>data table notebook</a>'\n",
       "          + ' to learn more about interactive tables.';\n",
       "        element.innerHTML = '';\n",
       "        dataTable['output_type'] = 'display_data';\n",
       "        await google.colab.output.renderOutput(dataTable, element);\n",
       "        const docLink = document.createElement('div');\n",
       "        docLink.innerHTML = docLinkHtml;\n",
       "        element.appendChild(docLink);\n",
       "      }\n",
       "    </script>\n",
       "  </div>\n",
       "\n",
       "\n",
       "<div id=\"df-51a74284-27e3-4cd3-ba74-fc6ad6d036a6\">\n",
       "  <button class=\"colab-df-quickchart\" onclick=\"quickchart('df-51a74284-27e3-4cd3-ba74-fc6ad6d036a6')\"\n",
       "            title=\"Suggest charts\"\n",
       "            style=\"display:none;\">\n",
       "\n",
       "<svg xmlns=\"http://www.w3.org/2000/svg\" height=\"24px\"viewBox=\"0 0 24 24\"\n",
       "     width=\"24px\">\n",
       "    <g>\n",
       "        <path d=\"M19 3H5c-1.1 0-2 .9-2 2v14c0 1.1.9 2 2 2h14c1.1 0 2-.9 2-2V5c0-1.1-.9-2-2-2zM9 17H7v-7h2v7zm4 0h-2V7h2v10zm4 0h-2v-4h2v4z\"/>\n",
       "    </g>\n",
       "</svg>\n",
       "  </button>\n",
       "\n",
       "<style>\n",
       "  .colab-df-quickchart {\n",
       "      --bg-color: #E8F0FE;\n",
       "      --fill-color: #1967D2;\n",
       "      --hover-bg-color: #E2EBFA;\n",
       "      --hover-fill-color: #174EA6;\n",
       "      --disabled-fill-color: #AAA;\n",
       "      --disabled-bg-color: #DDD;\n",
       "  }\n",
       "\n",
       "  [theme=dark] .colab-df-quickchart {\n",
       "      --bg-color: #3B4455;\n",
       "      --fill-color: #D2E3FC;\n",
       "      --hover-bg-color: #434B5C;\n",
       "      --hover-fill-color: #FFFFFF;\n",
       "      --disabled-bg-color: #3B4455;\n",
       "      --disabled-fill-color: #666;\n",
       "  }\n",
       "\n",
       "  .colab-df-quickchart {\n",
       "    background-color: var(--bg-color);\n",
       "    border: none;\n",
       "    border-radius: 50%;\n",
       "    cursor: pointer;\n",
       "    display: none;\n",
       "    fill: var(--fill-color);\n",
       "    height: 32px;\n",
       "    padding: 0;\n",
       "    width: 32px;\n",
       "  }\n",
       "\n",
       "  .colab-df-quickchart:hover {\n",
       "    background-color: var(--hover-bg-color);\n",
       "    box-shadow: 0 1px 2px rgba(60, 64, 67, 0.3), 0 1px 3px 1px rgba(60, 64, 67, 0.15);\n",
       "    fill: var(--button-hover-fill-color);\n",
       "  }\n",
       "\n",
       "  .colab-df-quickchart-complete:disabled,\n",
       "  .colab-df-quickchart-complete:disabled:hover {\n",
       "    background-color: var(--disabled-bg-color);\n",
       "    fill: var(--disabled-fill-color);\n",
       "    box-shadow: none;\n",
       "  }\n",
       "\n",
       "  .colab-df-spinner {\n",
       "    border: 2px solid var(--fill-color);\n",
       "    border-color: transparent;\n",
       "    border-bottom-color: var(--fill-color);\n",
       "    animation:\n",
       "      spin 1s steps(1) infinite;\n",
       "  }\n",
       "\n",
       "  @keyframes spin {\n",
       "    0% {\n",
       "      border-color: transparent;\n",
       "      border-bottom-color: var(--fill-color);\n",
       "      border-left-color: var(--fill-color);\n",
       "    }\n",
       "    20% {\n",
       "      border-color: transparent;\n",
       "      border-left-color: var(--fill-color);\n",
       "      border-top-color: var(--fill-color);\n",
       "    }\n",
       "    30% {\n",
       "      border-color: transparent;\n",
       "      border-left-color: var(--fill-color);\n",
       "      border-top-color: var(--fill-color);\n",
       "      border-right-color: var(--fill-color);\n",
       "    }\n",
       "    40% {\n",
       "      border-color: transparent;\n",
       "      border-right-color: var(--fill-color);\n",
       "      border-top-color: var(--fill-color);\n",
       "    }\n",
       "    60% {\n",
       "      border-color: transparent;\n",
       "      border-right-color: var(--fill-color);\n",
       "    }\n",
       "    80% {\n",
       "      border-color: transparent;\n",
       "      border-right-color: var(--fill-color);\n",
       "      border-bottom-color: var(--fill-color);\n",
       "    }\n",
       "    90% {\n",
       "      border-color: transparent;\n",
       "      border-bottom-color: var(--fill-color);\n",
       "    }\n",
       "  }\n",
       "</style>\n",
       "\n",
       "  <script>\n",
       "    async function quickchart(key) {\n",
       "      const quickchartButtonEl =\n",
       "        document.querySelector('#' + key + ' button');\n",
       "      quickchartButtonEl.disabled = true;  // To prevent multiple clicks.\n",
       "      quickchartButtonEl.classList.add('colab-df-spinner');\n",
       "      try {\n",
       "        const charts = await google.colab.kernel.invokeFunction(\n",
       "            'suggestCharts', [key], {});\n",
       "      } catch (error) {\n",
       "        console.error('Error during call to suggestCharts:', error);\n",
       "      }\n",
       "      quickchartButtonEl.classList.remove('colab-df-spinner');\n",
       "      quickchartButtonEl.classList.add('colab-df-quickchart-complete');\n",
       "    }\n",
       "    (() => {\n",
       "      let quickchartButtonEl =\n",
       "        document.querySelector('#df-51a74284-27e3-4cd3-ba74-fc6ad6d036a6 button');\n",
       "      quickchartButtonEl.style.display =\n",
       "        google.colab.kernel.accessAllowed ? 'block' : 'none';\n",
       "    })();\n",
       "  </script>\n",
       "</div>\n",
       "    </div>\n",
       "  </div>\n"
      ],
      "text/plain": [
       "                   Id  Subsegmento    Region      Edad     Renta  Antiguedad  \\\n",
       "Id           1.000000     0.054252 -0.013686  0.332918  0.015980    0.145347   \n",
       "Subsegmento  0.054252     1.000000 -0.047450 -0.519442  0.010060   -0.271497   \n",
       "Region      -0.013686    -0.047450  1.000000  0.010729 -0.007266    0.046028   \n",
       "Edad         0.332918    -0.519442  0.010729  1.000000  0.143001    0.524487   \n",
       "Renta        0.015980     0.010060 -0.007266  0.143001  1.000000    0.086308   \n",
       "\n",
       "             Internauta  Adicional  Dualidad  Monoproducto  ...  ColL2CC_T01  \\\n",
       "Id            -0.155182   0.050817 -0.093430      0.084117  ...    -0.003318   \n",
       "Subsegmento    0.207811  -0.159026 -0.140818     -0.157122  ...    -0.047635   \n",
       "Region         0.054414   0.097302  0.014180      0.047502  ...     0.010010   \n",
       "Edad          -0.389240   0.235544  0.013080      0.243881  ...     0.034772   \n",
       "Renta          0.000227   0.035191  0.015237      0.045551  ...     0.053663   \n",
       "\n",
       "             ColMx_T01  PagoNac_T01  PagoInt_T01  EeccNac_T01  EeccInt_T01  \\\n",
       "Id            0.000092     0.000309    -0.004642    -0.006137     0.005245   \n",
       "Subsegmento   0.004616    -0.074260    -0.002261    -0.147534    -0.000986   \n",
       "Region        0.017202     0.017824     0.005389     0.021217     0.011630   \n",
       "Edad          0.004684     0.102946     0.000022     0.178563     0.006823   \n",
       "Renta         0.063941     0.095831     0.016146     0.099443     0.042468   \n",
       "\n",
       "             UsoL1_T01  UsoL2_T01  UsoLI_T01    target  \n",
       "Id           -0.000753  -0.017258   0.001175  0.018496  \n",
       "Subsegmento  -0.148976  -0.036433   0.001709 -0.021646  \n",
       "Region        0.020277   0.024365   0.010459 -0.014621  \n",
       "Edad          0.183384   0.016585   0.004555  0.055389  \n",
       "Renta         0.092393   0.035728   0.050117 -0.013111  \n",
       "\n",
       "[5 rows x 561 columns]"
      ]
     },
     "execution_count": 18,
     "metadata": {},
     "output_type": "execute_result"
    }
   ],
   "source": [
    "df_corr.head()"
   ]
  },
  {
   "cell_type": "code",
   "execution_count": null,
   "metadata": {
    "colab": {
     "base_uri": "https://localhost:8080/",
     "height": 662
    },
    "id": "G9cfD79vTBPW",
    "outputId": "0ec8b471-d1d3-4490-e6c1-309cf7bed2f8"
   },
   "outputs": [
    {
     "data": {
      "text/plain": [
       "<Axes: >"
      ]
     },
     "execution_count": 19,
     "metadata": {},
     "output_type": "execute_result"
    },
    {
     "data": {
      "image/png": "[encoded data removed]",
      "text/plain": [
       "<Figure size 1600x900 with 2 Axes>"
      ]
     },
     "metadata": {},
     "output_type": "display_data"
    }
   ],
   "source": [
    "plt.figure(figsize=(16,9))\n",
    "sns.heatmap(df_corr.iloc[:20,:20])"
   ]
  },
  {
   "cell_type": "markdown",
   "metadata": {
    "id": "AtmDXWAXYH-l"
   },
   "source": [
    "## FASE 3 : PREPARAR LOS DATOS"
   ]
  },
  {
   "cell_type": "markdown",
   "metadata": {
    "id": "nUkk9QQXf_sU"
   },
   "source": [
    "###Eliminar columnas irrelevantes\n",
    "Una columna 'Id' categórica  pero con un sólo nivel.\n",
    "Una columna'CambioPin' pero con un sólo valor.\n",
    "Tambien se eliminan las variables dtype object para poder realizar k-means y Pca que solo utilizan datos numericos que entreguen un valor."
   ]
  },
  {
   "cell_type": "markdown",
   "metadata": {
    "id": "ZWZ9jPq6UvS2"
   },
   "source": [
    "Se separan en una variable la variables categoricas para tener un mejor manejo de ellas"
   ]
  },
  {
   "cell_type": "code",
   "execution_count": null,
   "metadata": {
    "id": "zrRSIz_Z6He0"
   },
   "outputs": [],
   "source": [
    "#  variables categóricas\n",
    "col_cat=['Sexo','IndRev_T12', 'IndRev_T11', 'IndRev_T10', 'IndRev_T09', 'IndRev_T08', 'IndRev_T07',\n",
    "                        'IndRev_T06', 'IndRev_T05', 'IndRev_T04', 'IndRev_T03', 'IndRev_T02', 'IndRev_T01']\n"
   ]
  },
  {
   "cell_type": "code",
   "execution_count": null,
   "metadata": {
    "id": "4Z4vZEjuh54t"
   },
   "outputs": [],
   "source": [
    "df1= df.drop(['Id','CambioPin','Sexo','IndRev_T12', 'IndRev_T11', 'IndRev_T10', 'IndRev_T09', 'IndRev_T08', 'IndRev_T07', 'IndRev_T06', 'IndRev_T05', 'IndRev_T04', 'IndRev_T03', 'IndRev_T02', 'IndRev_T01'], axis=1)"
   ]
  },
  {
   "cell_type": "markdown",
   "metadata": {
    "id": "7T5nSdCvDLJm"
   },
   "source": [
    "Ya no tenemos variables cualitativas en el df"
   ]
  },
  {
   "cell_type": "code",
   "execution_count": null,
   "metadata": {
    "colab": {
     "base_uri": "https://localhost:8080/"
    },
    "id": "WzOUbTin8fMy",
    "outputId": "dea1d566-afd7-4e09-db37-60ba3afe69ff"
   },
   "outputs": [
    {
     "data": {
      "text/plain": [
       "(51124, 574)"
      ]
     },
     "execution_count": 8,
     "metadata": {},
     "output_type": "execute_result"
    }
   ],
   "source": [
    "df.shape"
   ]
  },
  {
   "cell_type": "code",
   "execution_count": null,
   "metadata": {
    "colab": {
     "base_uri": "https://localhost:8080/"
    },
    "id": "p2tbyHrf8cQF",
    "outputId": "06c4e99e-6763-494c-84cc-58da63e9a771"
   },
   "outputs": [
    {
     "data": {
      "text/plain": [
       "(51124, 559)"
      ]
     },
     "execution_count": 9,
     "metadata": {},
     "output_type": "execute_result"
    }
   ],
   "source": [
    "df1.shape"
   ]
  },
  {
   "cell_type": "markdown",
   "metadata": {
    "id": "QRQ8t6bX8iZn"
   },
   "source": [
    "Se eliminaron un total de 15 columnas , que no se utilizaran en este analisis."
   ]
  },
  {
   "cell_type": "code",
   "execution_count": null,
   "metadata": {
    "id": "Mirfc1KVaepj"
   },
   "outputs": [],
   "source": []
  },
  {
   "cell_type": "code",
   "execution_count": null,
   "metadata": {
    "id": "5pm-gV6m8PUa"
   },
   "outputs": [],
   "source": [
    "df5_km=df1"
   ]
  },
  {
   "cell_type": "code",
   "execution_count": null,
   "metadata": {
    "id": "NoTM-_Qs8Uff"
   },
   "outputs": [],
   "source": [
    "df5=df1"
   ]
  },
  {
   "cell_type": "code",
   "execution_count": null,
   "metadata": {
    "id": "XGcH7uj3aUiY"
   },
   "outputs": [],
   "source": [
    "dflog=df1"
   ]
  },
  {
   "cell_type": "markdown",
   "metadata": {
    "id": "PtleVFha8HCX"
   },
   "source": [
    "##LIMPIEZA DE NAN\n",
    "Eliminar los datos NULL"
   ]
  },
  {
   "cell_type": "code",
   "execution_count": null,
   "metadata": {
    "colab": {
     "base_uri": "https://localhost:8080/"
    },
    "id": "c_EzqXg7iEi6",
    "outputId": "e349a4e5-e76f-4766-fa88-c2bc2658330d"
   },
   "outputs": [
    {
     "data": {
      "text/plain": [
       "1229138"
      ]
     },
     "execution_count": 30,
     "metadata": {},
     "output_type": "execute_result"
    }
   ],
   "source": [
    "df1.isnull().sum().sum()"
   ]
  },
  {
   "cell_type": "markdown",
   "metadata": {
    "id": "WwuNHUE4atyD"
   },
   "source": [
    "el total de datos nulos en el dataset es 1229138 ."
   ]
  },
  {
   "cell_type": "markdown",
   "metadata": {
    "id": "cTsF-UC2U_aF"
   },
   "source": [
    "###Se muestra la cantidad de valores nulos NULL en cada columna ordenados de mayor a menor"
   ]
  },
  {
   "cell_type": "code",
   "execution_count": null,
   "metadata": {
    "colab": {
     "base_uri": "https://localhost:8080/"
    },
    "id": "qp49RqThU6bH",
    "outputId": "118ee27d-a682-4883-a47d-79d302372b95"
   },
   "outputs": [
    {
     "name": "stdout",
     "output_type": "stream",
     "text": [
      "Renta            13365\n",
      "UsoL2_T12         8251\n",
      "FacDebAtm_T12     8251\n",
      "TxsAN_T12         8251\n",
      "FacAI_T12         8251\n",
      "                 ...  \n",
      "Fac_T01              0\n",
      "Txs_T01              0\n",
      "FacCN_T01            0\n",
      "TxsCN_T01            0\n",
      "target               0\n",
      "Length: 559, dtype: int64\n"
     ]
    }
   ],
   "source": [
    "print(df1.isnull().sum().sort_values(ascending=False))"
   ]
  },
  {
   "cell_type": "markdown",
   "metadata": {
    "id": "sjzjezx1a59v"
   },
   "source": [
    "Se puede observar"
   ]
  },
  {
   "cell_type": "code",
   "execution_count": null,
   "metadata": {
    "colab": {
     "base_uri": "https://localhost:8080/"
    },
    "id": "IhK_8l63VWuJ",
    "outputId": "5e87f8bb-7d87-4764-b858-223fcda539f2"
   },
   "outputs": [
    {
     "name": "stdout",
     "output_type": "stream",
     "text": [
      "Total de valores nulos en el DataFrame: 1229138\n"
     ]
    }
   ],
   "source": [
    "total_nulos = df1.isnull().sum().sum()\n",
    "print(f'Total de valores nulos en el DataFrame: {total_nulos}')"
   ]
  },
  {
   "cell_type": "markdown",
   "metadata": {
    "id": "oCRr9BA_gfMC"
   },
   "source": [
    "Se eliminan los nulos para poder limpiar el dataset y queda (31262, 559) del df2"
   ]
  },
  {
   "cell_type": "code",
   "execution_count": null,
   "metadata": {
    "id": "GSOtQPJgijRx"
   },
   "outputs": [],
   "source": [
    "df2 = df1.dropna()\n"
   ]
  },
  {
   "cell_type": "code",
   "execution_count": null,
   "metadata": {
    "colab": {
     "base_uri": "https://localhost:8080/"
    },
    "id": "vaLlPQwL822R",
    "outputId": "6c8e45d1-2b68-4cd7-dde6-0572fb444568"
   },
   "outputs": [
    {
     "data": {
      "text/plain": [
       "0"
      ]
     },
     "execution_count": 16,
     "metadata": {},
     "output_type": "execute_result"
    }
   ],
   "source": [
    "df2.isnull().sum().sum()"
   ]
  },
  {
   "cell_type": "code",
   "execution_count": null,
   "metadata": {
    "colab": {
     "base_uri": "https://localhost:8080/"
    },
    "id": "vSAa-Wru8xsO",
    "outputId": "85c4fa97-c510-4de3-af77-7ee2a1f4775e"
   },
   "outputs": [
    {
     "data": {
      "text/plain": [
       "(31262, 559)"
      ]
     },
     "execution_count": 45,
     "metadata": {},
     "output_type": "execute_result"
    }
   ],
   "source": [
    "df2.shape"
   ]
  },
  {
   "cell_type": "code",
   "execution_count": null,
   "metadata": {
    "id": "wbbZa1n0bpE8"
   },
   "outputs": [],
   "source": [
    "dflog=df2 # con drop"
   ]
  },
  {
   "cell_type": "code",
   "execution_count": null,
   "metadata": {
    "id": "l8xmqul5bzIf"
   },
   "outputs": [],
   "source": [
    "df_pca=df2# con drop"
   ]
  },
  {
   "cell_type": "code",
   "execution_count": null,
   "metadata": {
    "id": "sLgOT87Rb1hh"
   },
   "outputs": [],
   "source": [
    "df_km= df2 # con drop"
   ]
  },
  {
   "cell_type": "code",
   "execution_count": null,
   "metadata": {
    "id": "g0xrCzhfRHYV"
   },
   "outputs": [],
   "source": [
    "df_out=df2"
   ]
  },
  {
   "cell_type": "code",
   "execution_count": null,
   "metadata": {
    "id": "8gUb1vDIUsX9"
   },
   "outputs": [],
   "source": [
    "df5=df2"
   ]
  },
  {
   "cell_type": "markdown",
   "metadata": {
    "id": "u-PwGCXHBR73"
   },
   "source": [
    "En este df ya se han manejado los valores nulos  y ahora se abordara los outliers antes de realizar el escalado y aplicar el algoritmo K-Means."
   ]
  },
  {
   "cell_type": "code",
   "execution_count": null,
   "metadata": {
    "colab": {
     "base_uri": "https://localhost:8080/"
    },
    "id": "-skS7diIChBB",
    "outputId": "725ac9ec-29e9-46c2-d503-fc52f54e31bf"
   },
   "outputs": [
    {
     "name": "stdout",
     "output_type": "stream",
     "text": [
      "<class 'pandas.core.frame.DataFrame'>\n",
      "Int64Index: 31262 entries, 1 to 51123\n",
      "Columns: 559 entries, Subsegmento to target\n",
      "dtypes: float64(507), int64(52)\n",
      "memory usage: 133.6 MB\n"
     ]
    }
   ],
   "source": [
    "df2.info()"
   ]
  },
  {
   "cell_type": "markdown",
   "metadata": {
    "id": "x0FxyygcTPgY"
   },
   "source": [
    "hay que hacer una reduccion de dimension ya que hay variables correlacionas"
   ]
  },
  {
   "cell_type": "code",
   "execution_count": null,
   "metadata": {
    "colab": {
     "base_uri": "https://localhost:8080/"
    },
    "id": "-SlhT2u15uSR",
    "outputId": "4dd9f036-ec21-4815-e037-b979ca340707"
   },
   "outputs": [
    {
     "data": {
      "text/plain": [
       "(31262, 559)"
      ]
     },
     "execution_count": 21,
     "metadata": {},
     "output_type": "execute_result"
    }
   ],
   "source": [
    "df3=df2\n",
    "df3.shape"
   ]
  },
  {
   "cell_type": "code",
   "execution_count": null,
   "metadata": {
    "colab": {
     "base_uri": "https://localhost:8080/"
    },
    "id": "AEDh1gWv5wdo",
    "outputId": "b383a665-16ff-4d3b-ca73-ac5b72aacb2f"
   },
   "outputs": [
    {
     "data": {
      "text/plain": [
       "(31262, 559)"
      ]
     },
     "execution_count": 22,
     "metadata": {},
     "output_type": "execute_result"
    }
   ],
   "source": [
    "df4=df3\n",
    "df2.shape"
   ]
  },
  {
   "cell_type": "markdown",
   "metadata": {
    "id": "3S-O1DeJ1KOJ"
   },
   "source": []
  },
  {
   "cell_type": "markdown",
   "metadata": {
    "id": "k5hyvlDvCBLc"
   },
   "source": [
    "#Identificación de Outliers:\n",
    "\n",
    "Se utiliza el  método estadístico. Se Calculan los cuartiles y rango intercuartílico(IQR), para identificar valores atípicos."
   ]
  },
  {
   "cell_type": "markdown",
   "metadata": {
    "id": "SJ-kCtghOomD"
   },
   "source": [
    "##Grafico cajas antes de la transformacion\n",
    "Se puede visualizar algunas variables en este grafico de cajas donde se observa que existen muchos outliers en la variables , estos se deben transformar ya que afectan al k-means"
   ]
  },
  {
   "cell_type": "code",
   "execution_count": null,
   "metadata": {
    "colab": {
     "base_uri": "https://localhost:8080/",
     "height": 398
    },
    "id": "TyOzXvxHMeUW",
    "outputId": "53c90039-ddca-4cbf-e060-5cbc98c8883e"
   },
   "outputs": [
    {
     "data": {
      "image/png": "[encoded data removed]",
      "text/plain": [
       "<Figure size 1500x600 with 1 Axes>"
      ]
     },
     "metadata": {},
     "output_type": "display_data"
    }
   ],
   "source": [
    "columnas_a_mostrar=[ 'Renta', 'CUPO_L1', 'CUPO_L2', 'CUPO_MX', 'Fac_T12','FacCN_T12','FacCCOT_T12', 'FacDebCom_T12', 'TxsDebCom_T12', 'FacDebAtm_T12']\n",
    "# Ajustar el tamaño del gráfico\n",
    "plt.figure(figsize=(15, 6))\n",
    "# Crear un boxplot para las primeras 10 columnas\n",
    "sns.boxplot(data=df2[columnas_a_mostrar],  palette=\"Set3\")\n",
    "\n",
    "plt.xlabel(\"Columnas\", fontsize=14)\n",
    "plt.ylabel(\"Valores\", fontsize=14)\n",
    "plt.title(\"Boxplots de  10 columnas\", fontsize=16)\n",
    "# Rotar las etiquetas del eje x para mejorar la legibilidad\n",
    "plt.xticks(rotation=45, ha=\"right\")\n",
    "\n",
    "# Mostrar el gráfico\n",
    "plt.tight_layout()\n",
    "plt.show()\n"
   ]
  },
  {
   "cell_type": "markdown",
   "metadata": {
    "id": "Qn4YddPVIW9w"
   },
   "source": [
    "##Transformación de Datos Outliers:\n",
    "\n",
    "Aplicar transformaciones a los datos puede reducir el impacto de los outliers.Muchos valores extremos es un problema para metodos estadisticos"
   ]
  },
  {
   "cell_type": "markdown",
   "metadata": {
    "id": "F-2IwWDKVY6m"
   },
   "source": [
    "#Imputación de Outliers:\n",
    "\n",
    "Para transformar los outliers los imputaremos por la mediana. Esto implica reemplazar los valores extremos con valores más típicos de la distribución  lugar de eliminarlos, ya se mejorar la calidad de los clústeres.\n",
    "Los outliers son datos atipicos que afectan K-means ya que distorsionar la inercia que es la suma de cuadrados de las distancias de cada punto al centroide de su clúster.\n",
    "Y en PCA que busca las direcciones de máxima varianza en los datos. Los valores extremos, pueden influir en estas direcciones y conducir a componentes principales no representativos de la estructura general de los datos. Imputar los outliers con la mediana ayuda a que las componentes principales estén más influenciadas por la variabilidad típica de los datos, mejorando así la representación de las relaciones entre variables.\n",
    "En K-means la imputación de outliers por la mediana permite preservar la información de los puntos atípicos al asignarles valores que son representativos de la distribución general de los datos. Esto evita la pérdida de información importante que podría ocurrir si simplemente se eliminan los outliers."
   ]
  },
  {
   "cell_type": "markdown",
   "metadata": {
    "id": "Gq5b4Qe1NxH-"
   },
   "source": []
  },
  {
   "cell_type": "code",
   "execution_count": null,
   "metadata": {
    "colab": {
     "base_uri": "https://localhost:8080/"
    },
    "id": "l1wkZ7sGVDHt",
    "outputId": "ce5ca265-e8c1-4dc7-c59b-718f2a072568"
   },
   "outputs": [
    {
     "name": "stdout",
     "output_type": "stream",
     "text": [
      "Antes de la imputación:\n",
      "Columna: Subsegmento, Outliers: 0\n",
      "Columna: Region, Outliers: 2669\n",
      "Columna: Edad, Outliers: 0\n",
      "Columna: Renta, Outliers: 361\n",
      "Columna: Antiguedad, Outliers: 1937\n",
      "Columna: Internauta, Outliers: 0\n",
      "Columna: Adicional, Outliers: 0\n",
      "Columna: Dualidad, Outliers: 0\n",
      "Columna: Monoproducto, Outliers: 0\n",
      "Columna: Ctacte, Outliers: 0\n",
      "Columna: Consumo, Outliers: 0\n",
      "Columna: Hipotecario, Outliers: 0\n",
      "Columna: Debito, Outliers: 0\n",
      "Columna: Cuentas, Outliers: 0\n",
      "Columna: TC, Outliers: 0\n",
      "Columna: CUPO_L1, Outliers: 838\n",
      "Columna: CUPO_L2, Outliers: 2107\n",
      "Columna: CUPO_MX, Outliers: 1119\n",
      "Columna: FlgAct_T12, Outliers: 0\n",
      "Columna: FlgActCN_T12, Outliers: 0\n",
      "Columna: FlgActCI_T12, Outliers: 0\n",
      "Columna: FlgActAN_T12, Outliers: 0\n",
      "Columna: FlgActAI_T12, Outliers: 0\n",
      "Columna: FlgActPAT_T12, Outliers: 0\n",
      "Columna: FlgActCCPC_T12, Outliers: 0\n",
      "Columna: FlgActCCOT_T12, Outliers: 0\n",
      "Columna: FlgActCOL_T12, Outliers: 0\n",
      "Columna: Fac_T12, Outliers: 1630\n",
      "Columna: Txs_T12, Outliers: 1809\n",
      "Columna: FacCN_T12, Outliers: 2078\n",
      "Columna: TxsCN_T12, Outliers: 1531\n",
      "Columna: FacCI_T12, Outliers: 0\n",
      "Columna: TxsCI_T12, Outliers: 0\n",
      "Columna: FacAN_T12, Outliers: 0\n",
      "Columna: TxsAN_T12, Outliers: 0\n",
      "Columna: FacAI_T12, Outliers: 0\n",
      "Columna: TxsAI_T12, Outliers: 0\n",
      "Columna: FacPAT_T12, Outliers: 0\n",
      "Columna: TxsPAT_T12, Outliers: 0\n",
      "Columna: FacCCPC_T12, Outliers: 3055\n",
      "Columna: TxsCCPC_T12, Outliers: 6684\n",
      "Columna: FacCCOT_T12, Outliers: 0\n",
      "Columna: TxsCCOT_T12, Outliers: 0\n",
      "Columna: FacCOL_T12, Outliers: 0\n",
      "Columna: TxsCOL_T12, Outliers: 0\n",
      "Columna: FacDebCom_T12, Outliers: 4645\n",
      "Columna: TxsDebCom_T12, Outliers: 3852\n",
      "Columna: FacDebAtm_T12, Outliers: 1108\n",
      "Columna: TxsDebAtm_T12, Outliers: 373\n",
      "Columna: Col_T12, Outliers: 2005\n",
      "Columna: ColL1T0_T12, Outliers: 4236\n",
      "Columna: ColL1TE_T12, Outliers: 7299\n",
      "Columna: ColL2T0_T12, Outliers: 3848\n",
      "Columna: ColL2AC_T12, Outliers: 0\n",
      "Columna: ColL2CC_T12, Outliers: 5068\n",
      "Columna: ColMx_T12, Outliers: 0\n",
      "Columna: PagoNac_T12, Outliers: 1713\n",
      "Columna: PagoInt_T12, Outliers: 0\n",
      "Columna: EeccNac_T12, Outliers: 2311\n",
      "Columna: EeccInt_T12, Outliers: 0\n",
      "Columna: UsoL1_T12, Outliers: 2266\n",
      "Columna: UsoL2_T12, Outliers: 3100\n",
      "Columna: UsoLI_T12, Outliers: 0\n",
      "Columna: FlgAct_T11, Outliers: 0\n",
      "Columna: FlgActCN_T11, Outliers: 0\n",
      "Columna: FlgActCI_T11, Outliers: 0\n",
      "Columna: FlgActAN_T11, Outliers: 0\n",
      "Columna: FlgActAI_T11, Outliers: 0\n",
      "Columna: FlgActPAT_T11, Outliers: 0\n",
      "Columna: FlgActCCPC_T11, Outliers: 0\n",
      "Columna: FlgActCCOT_T11, Outliers: 0\n",
      "Columna: FlgActCOL_T11, Outliers: 0\n",
      "Columna: Fac_T11, Outliers: 1579\n",
      "Columna: Txs_T11, Outliers: 1427\n",
      "Columna: FacCN_T11, Outliers: 1864\n",
      "Columna: TxsCN_T11, Outliers: 1524\n",
      "Columna: FacCI_T11, Outliers: 0\n",
      "Columna: TxsCI_T11, Outliers: 0\n",
      "Columna: FacAN_T11, Outliers: 0\n",
      "Columna: TxsAN_T11, Outliers: 0\n",
      "Columna: FacAI_T11, Outliers: 0\n",
      "Columna: TxsAI_T11, Outliers: 0\n",
      "Columna: FacPAT_T11, Outliers: 0\n",
      "Columna: TxsPAT_T11, Outliers: 0\n",
      "Columna: FacCCPC_T11, Outliers: 3958\n",
      "Columna: TxsCCPC_T11, Outliers: 7081\n",
      "Columna: FacCCOT_T11, Outliers: 0\n",
      "Columna: TxsCCOT_T11, Outliers: 0\n",
      "Columna: FacCOL_T11, Outliers: 0\n",
      "Columna: TxsCOL_T11, Outliers: 0\n",
      "Columna: FacDebCom_T11, Outliers: 4554\n",
      "Columna: TxsDebCom_T11, Outliers: 3877\n",
      "Columna: FacDebAtm_T11, Outliers: 936\n",
      "Columna: TxsDebAtm_T11, Outliers: 740\n",
      "Columna: Col_T11, Outliers: 1950\n",
      "Columna: ColL1T0_T11, Outliers: 3713\n",
      "Columna: ColL1TE_T11, Outliers: 7422\n",
      "Columna: ColL2T0_T11, Outliers: 3122\n",
      "Columna: ColL2AC_T11, Outliers: 0\n",
      "Columna: ColL2CC_T11, Outliers: 5318\n",
      "Columna: ColMx_T11, Outliers: 0\n",
      "Columna: PagoNac_T11, Outliers: 1850\n",
      "Columna: PagoInt_T11, Outliers: 0\n",
      "Columna: EeccNac_T11, Outliers: 2212\n",
      "Columna: EeccInt_T11, Outliers: 0\n",
      "Columna: UsoL1_T11, Outliers: 2184\n",
      "Columna: UsoL2_T11, Outliers: 2718\n",
      "Columna: UsoLI_T11, Outliers: 0\n",
      "Columna: FlgAct_T10, Outliers: 0\n",
      "Columna: FlgActCN_T10, Outliers: 0\n",
      "Columna: FlgActCI_T10, Outliers: 0\n",
      "Columna: FlgActAN_T10, Outliers: 0\n",
      "Columna: FlgActAI_T10, Outliers: 0\n",
      "Columna: FlgActPAT_T10, Outliers: 0\n",
      "Columna: FlgActCCPC_T10, Outliers: 0\n",
      "Columna: FlgActCCOT_T10, Outliers: 0\n",
      "Columna: FlgActCOL_T10, Outliers: 0\n",
      "Columna: Fac_T10, Outliers: 1642\n",
      "Columna: Txs_T10, Outliers: 1666\n",
      "Columna: FacCN_T10, Outliers: 2060\n",
      "Columna: TxsCN_T10, Outliers: 1376\n",
      "Columna: FacCI_T10, Outliers: 0\n",
      "Columna: TxsCI_T10, Outliers: 0\n",
      "Columna: FacAN_T10, Outliers: 0\n",
      "Columna: TxsAN_T10, Outliers: 0\n",
      "Columna: FacAI_T10, Outliers: 0\n",
      "Columna: TxsAI_T10, Outliers: 0\n",
      "Columna: FacPAT_T10, Outliers: 0\n",
      "Columna: TxsPAT_T10, Outliers: 0\n",
      "Columna: FacCCPC_T10, Outliers: 2439\n",
      "Columna: TxsCCPC_T10, Outliers: 6783\n",
      "Columna: FacCCOT_T10, Outliers: 0\n",
      "Columna: TxsCCOT_T10, Outliers: 0\n",
      "Columna: FacCOL_T10, Outliers: 0\n",
      "Columna: TxsCOL_T10, Outliers: 0\n",
      "Columna: FacDebCom_T10, Outliers: 4173\n",
      "Columna: TxsDebCom_T10, Outliers: 3953\n",
      "Columna: FacDebAtm_T10, Outliers: 975\n",
      "Columna: TxsDebAtm_T10, Outliers: 767\n",
      "Columna: Col_T10, Outliers: 1954\n",
      "Columna: ColL1T0_T10, Outliers: 3756\n",
      "Columna: ColL1TE_T10, Outliers: 7273\n",
      "Columna: ColL2T0_T10, Outliers: 2793\n",
      "Columna: ColL2AC_T10, Outliers: 0\n",
      "Columna: ColL2CC_T10, Outliers: 5689\n",
      "Columna: ColMx_T10, Outliers: 0\n",
      "Columna: PagoNac_T10, Outliers: 1692\n",
      "Columna: PagoInt_T10, Outliers: 0\n",
      "Columna: EeccNac_T10, Outliers: 2263\n",
      "Columna: EeccInt_T10, Outliers: 0\n",
      "Columna: UsoL1_T10, Outliers: 2252\n",
      "Columna: UsoL2_T10, Outliers: 2722\n",
      "Columna: UsoLI_T10, Outliers: 0\n",
      "Columna: FlgAct_T09, Outliers: 0\n",
      "Columna: FlgActCN_T09, Outliers: 0\n",
      "Columna: FlgActCI_T09, Outliers: 0\n",
      "Columna: FlgActAN_T09, Outliers: 0\n",
      "Columna: FlgActAI_T09, Outliers: 0\n",
      "Columna: FlgActPAT_T09, Outliers: 0\n",
      "Columna: FlgActCCPC_T09, Outliers: 0\n",
      "Columna: FlgActCCOT_T09, Outliers: 0\n",
      "Columna: FlgActCOL_T09, Outliers: 0\n",
      "Columna: Fac_T09, Outliers: 1456\n",
      "Columna: Txs_T09, Outliers: 1416\n",
      "Columna: FacCN_T09, Outliers: 1745\n",
      "Columna: TxsCN_T09, Outliers: 1548\n",
      "Columna: FacCI_T09, Outliers: 0\n",
      "Columna: TxsCI_T09, Outliers: 0\n",
      "Columna: FacAN_T09, Outliers: 0\n",
      "Columna: TxsAN_T09, Outliers: 0\n",
      "Columna: FacAI_T09, Outliers: 0\n",
      "Columna: TxsAI_T09, Outliers: 0\n",
      "Columna: FacPAT_T09, Outliers: 0\n",
      "Columna: TxsPAT_T09, Outliers: 0\n",
      "Columna: FacCCPC_T09, Outliers: 4042\n",
      "Columna: TxsCCPC_T09, Outliers: 7098\n",
      "Columna: FacCCOT_T09, Outliers: 0\n",
      "Columna: TxsCCOT_T09, Outliers: 0\n",
      "Columna: FacCOL_T09, Outliers: 0\n",
      "Columna: TxsCOL_T09, Outliers: 0\n",
      "Columna: FacDebCom_T09, Outliers: 4222\n",
      "Columna: TxsDebCom_T09, Outliers: 3957\n",
      "Columna: FacDebAtm_T09, Outliers: 1070\n",
      "Columna: TxsDebAtm_T09, Outliers: 379\n",
      "Columna: Col_T09, Outliers: 1912\n",
      "Columna: ColL1T0_T09, Outliers: 3747\n",
      "Columna: ColL1TE_T09, Outliers: 7261\n",
      "Columna: ColL2T0_T09, Outliers: 2614\n",
      "Columna: ColL2AC_T09, Outliers: 0\n",
      "Columna: ColL2CC_T09, Outliers: 6111\n",
      "Columna: ColMx_T09, Outliers: 0\n",
      "Columna: PagoNac_T09, Outliers: 1595\n",
      "Columna: PagoInt_T09, Outliers: 0\n",
      "Columna: EeccNac_T09, Outliers: 2272\n",
      "Columna: EeccInt_T09, Outliers: 0\n",
      "Columna: UsoL1_T09, Outliers: 2155\n",
      "Columna: UsoL2_T09, Outliers: 2524\n",
      "Columna: UsoLI_T09, Outliers: 0\n",
      "Columna: FlgAct_T08, Outliers: 0\n",
      "Columna: FlgActCN_T08, Outliers: 0\n",
      "Columna: FlgActCI_T08, Outliers: 0\n",
      "Columna: FlgActAN_T08, Outliers: 0\n",
      "Columna: FlgActAI_T08, Outliers: 0\n",
      "Columna: FlgActPAT_T08, Outliers: 0\n",
      "Columna: FlgActCCPC_T08, Outliers: 0\n",
      "Columna: FlgActCCOT_T08, Outliers: 0\n",
      "Columna: FlgActCOL_T08, Outliers: 0\n",
      "Columna: Fac_T08, Outliers: 1480\n",
      "Columna: Txs_T08, Outliers: 1349\n",
      "Columna: FacCN_T08, Outliers: 1877\n",
      "Columna: TxsCN_T08, Outliers: 1459\n",
      "Columna: FacCI_T08, Outliers: 0\n",
      "Columna: TxsCI_T08, Outliers: 0\n",
      "Columna: FacAN_T08, Outliers: 0\n",
      "Columna: TxsAN_T08, Outliers: 0\n",
      "Columna: FacAI_T08, Outliers: 0\n",
      "Columna: TxsAI_T08, Outliers: 0\n",
      "Columna: FacPAT_T08, Outliers: 0\n",
      "Columna: TxsPAT_T08, Outliers: 0\n",
      "Columna: FacCCPC_T08, Outliers: 4136\n",
      "Columna: TxsCCPC_T08, Outliers: 7198\n",
      "Columna: FacCCOT_T08, Outliers: 0\n",
      "Columna: TxsCCOT_T08, Outliers: 0\n",
      "Columna: FacCOL_T08, Outliers: 0\n",
      "Columna: TxsCOL_T08, Outliers: 0\n",
      "Columna: FacDebCom_T08, Outliers: 4139\n",
      "Columna: TxsDebCom_T08, Outliers: 2444\n",
      "Columna: FacDebAtm_T08, Outliers: 917\n",
      "Columna: TxsDebAtm_T08, Outliers: 795\n",
      "Columna: Col_T08, Outliers: 1880\n",
      "Columna: ColL1T0_T08, Outliers: 3801\n",
      "Columna: ColL1TE_T08, Outliers: 7058\n",
      "Columna: ColL2T0_T08, Outliers: 2485\n",
      "Columna: ColL2AC_T08, Outliers: 0\n",
      "Columna: ColL2CC_T08, Outliers: 6451\n",
      "Columna: ColMx_T08, Outliers: 0\n",
      "Columna: PagoNac_T08, Outliers: 1549\n",
      "Columna: PagoInt_T08, Outliers: 0\n",
      "Columna: EeccNac_T08, Outliers: 2202\n",
      "Columna: EeccInt_T08, Outliers: 0\n",
      "Columna: UsoL1_T08, Outliers: 2067\n",
      "Columna: UsoL2_T08, Outliers: 2535\n",
      "Columna: UsoLI_T08, Outliers: 0\n",
      "Columna: FlgAct_T07, Outliers: 0\n",
      "Columna: FlgActCN_T07, Outliers: 0\n",
      "Columna: FlgActCI_T07, Outliers: 0\n",
      "Columna: FlgActAN_T07, Outliers: 0\n",
      "Columna: FlgActAI_T07, Outliers: 0\n",
      "Columna: FlgActPAT_T07, Outliers: 0\n",
      "Columna: FlgActCCPC_T07, Outliers: 0\n",
      "Columna: FlgActCCOT_T07, Outliers: 0\n",
      "Columna: FlgActCOL_T07, Outliers: 0\n",
      "Columna: Fac_T07, Outliers: 1306\n",
      "Columna: Txs_T07, Outliers: 1640\n",
      "Columna: FacCN_T07, Outliers: 1512\n",
      "Columna: TxsCN_T07, Outliers: 1401\n",
      "Columna: FacCI_T07, Outliers: 0\n",
      "Columna: TxsCI_T07, Outliers: 0\n",
      "Columna: FacAN_T07, Outliers: 0\n",
      "Columna: TxsAN_T07, Outliers: 0\n",
      "Columna: FacAI_T07, Outliers: 0\n",
      "Columna: TxsAI_T07, Outliers: 0\n",
      "Columna: FacPAT_T07, Outliers: 0\n",
      "Columna: TxsPAT_T07, Outliers: 0\n",
      "Columna: FacCCPC_T07, Outliers: 6432\n",
      "Columna: TxsCCPC_T07, Outliers: 7672\n",
      "Columna: FacCCOT_T07, Outliers: 0\n",
      "Columna: TxsCCOT_T07, Outliers: 0\n",
      "Columna: FacCOL_T07, Outliers: 0\n",
      "Columna: TxsCOL_T07, Outliers: 0\n",
      "Columna: FacDebCom_T07, Outliers: 3555\n",
      "Columna: TxsDebCom_T07, Outliers: 3206\n",
      "Columna: FacDebAtm_T07, Outliers: 820\n",
      "Columna: TxsDebAtm_T07, Outliers: 321\n",
      "Columna: Col_T07, Outliers: 1716\n",
      "Columna: ColL1T0_T07, Outliers: 3415\n",
      "Columna: ColL1TE_T07, Outliers: 7191\n",
      "Columna: ColL2T0_T07, Outliers: 2375\n",
      "Columna: ColL2AC_T07, Outliers: 0\n",
      "Columna: ColL2CC_T07, Outliers: 6778\n",
      "Columna: ColMx_T07, Outliers: 0\n",
      "Columna: PagoNac_T07, Outliers: 1580\n",
      "Columna: PagoInt_T07, Outliers: 0\n",
      "Columna: EeccNac_T07, Outliers: 2200\n",
      "Columna: EeccInt_T07, Outliers: 0\n",
      "Columna: UsoL1_T07, Outliers: 2123\n",
      "Columna: UsoL2_T07, Outliers: 2222\n",
      "Columna: UsoLI_T07, Outliers: 0\n",
      "Columna: FlgAct_T06, Outliers: 0\n",
      "Columna: FlgActCN_T06, Outliers: 0\n",
      "Columna: FlgActCI_T06, Outliers: 0\n",
      "Columna: FlgActAN_T06, Outliers: 0\n",
      "Columna: FlgActAI_T06, Outliers: 0\n",
      "Columna: FlgActPAT_T06, Outliers: 0\n",
      "Columna: FlgActCCPC_T06, Outliers: 0\n",
      "Columna: FlgActCCOT_T06, Outliers: 0\n",
      "Columna: FlgActCOL_T06, Outliers: 0\n",
      "Columna: Fac_T06, Outliers: 1654\n",
      "Columna: Txs_T06, Outliers: 1378\n",
      "Columna: FacCN_T06, Outliers: 1947\n",
      "Columna: TxsCN_T06, Outliers: 1572\n",
      "Columna: FacCI_T06, Outliers: 0\n",
      "Columna: TxsCI_T06, Outliers: 0\n",
      "Columna: FacAN_T06, Outliers: 0\n",
      "Columna: TxsAN_T06, Outliers: 0\n",
      "Columna: FacAI_T06, Outliers: 0\n",
      "Columna: TxsAI_T06, Outliers: 0\n",
      "Columna: FacPAT_T06, Outliers: 0\n",
      "Columna: TxsPAT_T06, Outliers: 0\n",
      "Columna: FacCCPC_T06, Outliers: 3791\n",
      "Columna: TxsCCPC_T06, Outliers: 6883\n",
      "Columna: FacCCOT_T06, Outliers: 0\n",
      "Columna: TxsCCOT_T06, Outliers: 0\n",
      "Columna: FacCOL_T06, Outliers: 0\n",
      "Columna: TxsCOL_T06, Outliers: 0\n",
      "Columna: FacDebCom_T06, Outliers: 3961\n",
      "Columna: TxsDebCom_T06, Outliers: 3397\n",
      "Columna: FacDebAtm_T06, Outliers: 931\n",
      "Columna: TxsDebAtm_T06, Outliers: 372\n",
      "Columna: Col_T06, Outliers: 1617\n",
      "Columna: ColL1T0_T06, Outliers: 3464\n",
      "Columna: ColL1TE_T06, Outliers: 6517\n",
      "Columna: ColL2T0_T06, Outliers: 2373\n",
      "Columna: ColL2AC_T06, Outliers: 0\n",
      "Columna: ColL2CC_T06, Outliers: 7775\n",
      "Columna: ColMx_T06, Outliers: 0\n",
      "Columna: PagoNac_T06, Outliers: 1452\n",
      "Columna: PagoInt_T06, Outliers: 0\n",
      "Columna: EeccNac_T06, Outliers: 2151\n",
      "Columna: EeccInt_T06, Outliers: 0\n",
      "Columna: UsoL1_T06, Outliers: 2020\n",
      "Columna: UsoL2_T06, Outliers: 2327\n",
      "Columna: UsoLI_T06, Outliers: 0\n",
      "Columna: FlgAct_T05, Outliers: 0\n",
      "Columna: FlgActCN_T05, Outliers: 0\n",
      "Columna: FlgActCI_T05, Outliers: 0\n",
      "Columna: FlgActAN_T05, Outliers: 0\n",
      "Columna: FlgActAI_T05, Outliers: 0\n",
      "Columna: FlgActPAT_T05, Outliers: 0\n",
      "Columna: FlgActCCPC_T05, Outliers: 0\n",
      "Columna: FlgActCCOT_T05, Outliers: 0\n",
      "Columna: FlgActCOL_T05, Outliers: 0\n",
      "Columna: Fac_T05, Outliers: 1682\n",
      "Columna: Txs_T05, Outliers: 1766\n",
      "Columna: FacCN_T05, Outliers: 2099\n",
      "Columna: TxsCN_T05, Outliers: 1439\n",
      "Columna: FacCI_T05, Outliers: 0\n",
      "Columna: TxsCI_T05, Outliers: 0\n",
      "Columna: FacAN_T05, Outliers: 0\n",
      "Columna: TxsAN_T05, Outliers: 0\n",
      "Columna: FacAI_T05, Outliers: 0\n",
      "Columna: TxsAI_T05, Outliers: 0\n",
      "Columna: FacPAT_T05, Outliers: 0\n",
      "Columna: TxsPAT_T05, Outliers: 0\n",
      "Columna: FacCCPC_T05, Outliers: 2862\n",
      "Columna: TxsCCPC_T05, Outliers: 6725\n",
      "Columna: FacCCOT_T05, Outliers: 0\n",
      "Columna: TxsCCOT_T05, Outliers: 0\n",
      "Columna: FacCOL_T05, Outliers: 0\n",
      "Columna: TxsCOL_T05, Outliers: 0\n",
      "Columna: FacDebCom_T05, Outliers: 4157\n",
      "Columna: TxsDebCom_T05, Outliers: 4037\n",
      "Columna: FacDebAtm_T05, Outliers: 1001\n",
      "Columna: TxsDebAtm_T05, Outliers: 384\n",
      "Columna: Col_T05, Outliers: 1589\n",
      "Columna: ColL1T0_T05, Outliers: 3793\n",
      "Columna: ColL1TE_T05, Outliers: 5459\n",
      "Columna: ColL2T0_T05, Outliers: 2412\n",
      "Columna: ColL2AC_T05, Outliers: 0\n",
      "Columna: ColL2CC_T05, Outliers: 6817\n",
      "Columna: ColMx_T05, Outliers: 0\n",
      "Columna: PagoNac_T05, Outliers: 1402\n",
      "Columna: PagoInt_T05, Outliers: 0\n",
      "Columna: EeccNac_T05, Outliers: 2104\n",
      "Columna: EeccInt_T05, Outliers: 0\n",
      "Columna: UsoL1_T05, Outliers: 2030\n",
      "Columna: UsoL2_T05, Outliers: 2419\n",
      "Columna: UsoLI_T05, Outliers: 0\n",
      "Columna: FlgAct_T04, Outliers: 0\n",
      "Columna: FlgActCN_T04, Outliers: 0\n",
      "Columna: FlgActCI_T04, Outliers: 0\n",
      "Columna: FlgActAN_T04, Outliers: 0\n",
      "Columna: FlgActAI_T04, Outliers: 0\n",
      "Columna: FlgActPAT_T04, Outliers: 0\n",
      "Columna: FlgActCCPC_T04, Outliers: 0\n",
      "Columna: FlgActCCOT_T04, Outliers: 0\n",
      "Columna: FlgActCOL_T04, Outliers: 0\n",
      "Columna: Fac_T04, Outliers: 1380\n",
      "Columna: Txs_T04, Outliers: 1298\n",
      "Columna: FacCN_T04, Outliers: 1709\n",
      "Columna: TxsCN_T04, Outliers: 1468\n",
      "Columna: FacCI_T04, Outliers: 0\n",
      "Columna: TxsCI_T04, Outliers: 0\n",
      "Columna: FacAN_T04, Outliers: 0\n",
      "Columna: TxsAN_T04, Outliers: 0\n",
      "Columna: FacAI_T04, Outliers: 0\n",
      "Columna: TxsAI_T04, Outliers: 0\n",
      "Columna: FacPAT_T04, Outliers: 0\n",
      "Columna: TxsPAT_T04, Outliers: 0\n",
      "Columna: FacCCPC_T04, Outliers: 6486\n",
      "Columna: TxsCCPC_T04, Outliers: 0\n",
      "Columna: FacCCOT_T04, Outliers: 0\n",
      "Columna: TxsCCOT_T04, Outliers: 0\n",
      "Columna: FacCOL_T04, Outliers: 0\n",
      "Columna: TxsCOL_T04, Outliers: 0\n",
      "Columna: FacDebCom_T04, Outliers: 3859\n",
      "Columna: TxsDebCom_T04, Outliers: 2498\n",
      "Columna: FacDebAtm_T04, Outliers: 930\n",
      "Columna: TxsDebAtm_T04, Outliers: 408\n",
      "Columna: Col_T04, Outliers: 1552\n",
      "Columna: ColL1T0_T04, Outliers: 4770\n",
      "Columna: ColL1TE_T04, Outliers: 5097\n",
      "Columna: ColL2T0_T04, Outliers: 2426\n",
      "Columna: ColL2AC_T04, Outliers: 0\n",
      "Columna: ColL2CC_T04, Outliers: 7767\n",
      "Columna: ColMx_T04, Outliers: 0\n",
      "Columna: PagoNac_T04, Outliers: 1450\n",
      "Columna: PagoInt_T04, Outliers: 0\n",
      "Columna: EeccNac_T04, Outliers: 2150\n",
      "Columna: EeccInt_T04, Outliers: 0\n",
      "Columna: UsoL1_T04, Outliers: 2051\n",
      "Columna: UsoL2_T04, Outliers: 2263\n",
      "Columna: UsoLI_T04, Outliers: 0\n",
      "Columna: FlgAct_T03, Outliers: 0\n",
      "Columna: FlgActCN_T03, Outliers: 0\n",
      "Columna: FlgActCI_T03, Outliers: 0\n",
      "Columna: FlgActAN_T03, Outliers: 0\n",
      "Columna: FlgActAI_T03, Outliers: 0\n",
      "Columna: FlgActPAT_T03, Outliers: 0\n",
      "Columna: FlgActCCPC_T03, Outliers: 0\n",
      "Columna: FlgActCCOT_T03, Outliers: 0\n",
      "Columna: FlgActCOL_T03, Outliers: 0\n",
      "Columna: Fac_T03, Outliers: 1409\n",
      "Columna: Txs_T03, Outliers: 1420\n",
      "Columna: FacCN_T03, Outliers: 1710\n",
      "Columna: TxsCN_T03, Outliers: 1550\n",
      "Columna: FacCI_T03, Outliers: 0\n",
      "Columna: TxsCI_T03, Outliers: 0\n",
      "Columna: FacAN_T03, Outliers: 0\n",
      "Columna: TxsAN_T03, Outliers: 0\n",
      "Columna: FacAI_T03, Outliers: 0\n",
      "Columna: TxsAI_T03, Outliers: 0\n",
      "Columna: FacPAT_T03, Outliers: 0\n",
      "Columna: TxsPAT_T03, Outliers: 0\n",
      "Columna: FacCCPC_T03, Outliers: 5900\n",
      "Columna: TxsCCPC_T03, Outliers: 0\n",
      "Columna: FacCCOT_T03, Outliers: 0\n",
      "Columna: TxsCCOT_T03, Outliers: 0\n",
      "Columna: FacCOL_T03, Outliers: 0\n",
      "Columna: TxsCOL_T03, Outliers: 0\n",
      "Columna: FacDebCom_T03, Outliers: 4109\n",
      "Columna: TxsDebCom_T03, Outliers: 2546\n",
      "Columna: FacDebAtm_T03, Outliers: 1032\n",
      "Columna: TxsDebAtm_T03, Outliers: 427\n",
      "Columna: Col_T03, Outliers: 1514\n",
      "Columna: ColL1T0_T03, Outliers: 5696\n",
      "Columna: ColL1TE_T03, Outliers: 5233\n",
      "Columna: ColL2T0_T03, Outliers: 2397\n",
      "Columna: ColL2AC_T03, Outliers: 0\n",
      "Columna: ColL2CC_T03, Outliers: 6877\n",
      "Columna: ColMx_T03, Outliers: 0\n",
      "Columna: PagoNac_T03, Outliers: 1538\n",
      "Columna: PagoInt_T03, Outliers: 0\n",
      "Columna: EeccNac_T03, Outliers: 2393\n",
      "Columna: EeccInt_T03, Outliers: 0\n",
      "Columna: UsoL1_T03, Outliers: 1871\n",
      "Columna: UsoL2_T03, Outliers: 2039\n",
      "Columna: UsoLI_T03, Outliers: 0\n",
      "Columna: FlgAct_T02, Outliers: 0\n",
      "Columna: FlgActCN_T02, Outliers: 0\n",
      "Columna: FlgActCI_T02, Outliers: 0\n",
      "Columna: FlgActAN_T02, Outliers: 0\n",
      "Columna: FlgActAI_T02, Outliers: 0\n",
      "Columna: FlgActPAT_T02, Outliers: 0\n",
      "Columna: FlgActCCPC_T02, Outliers: 0\n",
      "Columna: FlgActCCOT_T02, Outliers: 0\n",
      "Columna: FlgActCOL_T02, Outliers: 0\n",
      "Columna: Fac_T02, Outliers: 1564\n",
      "Columna: Txs_T02, Outliers: 1449\n",
      "Columna: FacCN_T02, Outliers: 1955\n",
      "Columna: TxsCN_T02, Outliers: 1497\n",
      "Columna: FacCI_T02, Outliers: 0\n",
      "Columna: TxsCI_T02, Outliers: 0\n",
      "Columna: FacAN_T02, Outliers: 0\n",
      "Columna: TxsAN_T02, Outliers: 0\n",
      "Columna: FacAI_T02, Outliers: 0\n",
      "Columna: TxsAI_T02, Outliers: 0\n",
      "Columna: FacPAT_T02, Outliers: 0\n",
      "Columna: TxsPAT_T02, Outliers: 0\n",
      "Columna: FacCCPC_T02, Outliers: 4743\n",
      "Columna: TxsCCPC_T02, Outliers: 7377\n",
      "Columna: FacCCOT_T02, Outliers: 0\n",
      "Columna: TxsCCOT_T02, Outliers: 0\n",
      "Columna: FacCOL_T02, Outliers: 0\n",
      "Columna: TxsCOL_T02, Outliers: 0\n",
      "Columna: FacDebCom_T02, Outliers: 3833\n",
      "Columna: TxsDebCom_T02, Outliers: 2511\n",
      "Columna: FacDebAtm_T02, Outliers: 970\n",
      "Columna: TxsDebAtm_T02, Outliers: 353\n",
      "Columna: Col_T02, Outliers: 1422\n",
      "Columna: ColL1T0_T02, Outliers: 4559\n",
      "Columna: ColL1TE_T02, Outliers: 5891\n",
      "Columna: ColL2T0_T02, Outliers: 2474\n",
      "Columna: ColL2AC_T02, Outliers: 0\n",
      "Columna: ColL2CC_T02, Outliers: 5011\n",
      "Columna: ColMx_T02, Outliers: 0\n",
      "Columna: PagoNac_T02, Outliers: 1409\n",
      "Columna: PagoInt_T02, Outliers: 0\n",
      "Columna: EeccNac_T02, Outliers: 2070\n",
      "Columna: EeccInt_T02, Outliers: 0\n",
      "Columna: UsoL1_T02, Outliers: 1901\n",
      "Columna: UsoL2_T02, Outliers: 2205\n",
      "Columna: UsoLI_T02, Outliers: 0\n",
      "Columna: FlgAct_T01, Outliers: 0\n",
      "Columna: FlgActCN_T01, Outliers: 0\n",
      "Columna: FlgActCI_T01, Outliers: 0\n",
      "Columna: FlgActAN_T01, Outliers: 0\n",
      "Columna: FlgActAI_T01, Outliers: 0\n",
      "Columna: FlgActPAT_T01, Outliers: 0\n",
      "Columna: FlgActCCPC_T01, Outliers: 0\n",
      "Columna: FlgActCCOT_T01, Outliers: 0\n",
      "Columna: FlgActCOL_T01, Outliers: 0\n",
      "Columna: Fac_T01, Outliers: 1685\n",
      "Columna: Txs_T01, Outliers: 1676\n",
      "Columna: FacCN_T01, Outliers: 2073\n",
      "Columna: TxsCN_T01, Outliers: 1385\n",
      "Columna: FacCI_T01, Outliers: 0\n",
      "Columna: TxsCI_T01, Outliers: 0\n",
      "Columna: FacAN_T01, Outliers: 0\n",
      "Columna: TxsAN_T01, Outliers: 0\n",
      "Columna: FacAI_T01, Outliers: 0\n",
      "Columna: TxsAI_T01, Outliers: 0\n",
      "Columna: FacPAT_T01, Outliers: 0\n",
      "Columna: TxsPAT_T01, Outliers: 0\n",
      "Columna: FacCCPC_T01, Outliers: 2898\n",
      "Columna: TxsCCPC_T01, Outliers: 6799\n",
      "Columna: FacCCOT_T01, Outliers: 0\n",
      "Columna: TxsCCOT_T01, Outliers: 0\n",
      "Columna: FacCOL_T01, Outliers: 0\n",
      "Columna: TxsCOL_T01, Outliers: 0\n",
      "Columna: FacDebCom_T01, Outliers: 4149\n",
      "Columna: TxsDebCom_T01, Outliers: 2553\n",
      "Columna: FacDebAtm_T01, Outliers: 1036\n",
      "Columna: TxsDebAtm_T01, Outliers: 429\n",
      "Columna: Col_T01, Outliers: 1437\n",
      "Columna: ColL1T0_T01, Outliers: 4789\n",
      "Columna: ColL1TE_T01, Outliers: 5601\n",
      "Columna: ColL2T0_T01, Outliers: 2625\n",
      "Columna: ColL2AC_T01, Outliers: 0\n",
      "Columna: ColL2CC_T01, Outliers: 4795\n",
      "Columna: ColMx_T01, Outliers: 0\n",
      "Columna: PagoNac_T01, Outliers: 1562\n",
      "Columna: PagoInt_T01, Outliers: 0\n",
      "Columna: EeccNac_T01, Outliers: 2066\n",
      "Columna: EeccInt_T01, Outliers: 0\n",
      "Columna: UsoL1_T01, Outliers: 1950\n",
      "Columna: UsoL2_T01, Outliers: 2290\n",
      "Columna: UsoLI_T01, Outliers: 0\n",
      "Columna: target, Outliers: 0\n",
      "\n",
      "Después de la imputación:-------------------------------------------------------------------------------------\n",
      "Columna: Subsegmento, Outliers: 0\n",
      "Columna: Region, Outliers: 0\n",
      "Columna: Edad, Outliers: 0\n",
      "Columna: Renta, Outliers: 0\n",
      "Columna: Antiguedad, Outliers: 0\n",
      "Columna: Internauta, Outliers: 0\n",
      "Columna: Adicional, Outliers: 0\n",
      "Columna: Dualidad, Outliers: 0\n",
      "Columna: Monoproducto, Outliers: 0\n",
      "Columna: Ctacte, Outliers: 0\n",
      "Columna: Consumo, Outliers: 0\n",
      "Columna: Hipotecario, Outliers: 0\n",
      "Columna: Debito, Outliers: 0\n",
      "Columna: Cuentas, Outliers: 0\n",
      "Columna: TC, Outliers: 0\n",
      "Columna: CUPO_L1, Outliers: 0\n",
      "Columna: CUPO_L2, Outliers: 0\n",
      "Columna: CUPO_MX, Outliers: 0\n",
      "Columna: FlgAct_T12, Outliers: 0\n",
      "Columna: FlgActCN_T12, Outliers: 0\n",
      "Columna: FlgActCI_T12, Outliers: 0\n",
      "Columna: FlgActAN_T12, Outliers: 0\n",
      "Columna: FlgActAI_T12, Outliers: 0\n",
      "Columna: FlgActPAT_T12, Outliers: 0\n",
      "Columna: FlgActCCPC_T12, Outliers: 0\n",
      "Columna: FlgActCCOT_T12, Outliers: 0\n",
      "Columna: FlgActCOL_T12, Outliers: 0\n",
      "Columna: Fac_T12, Outliers: 0\n",
      "Columna: Txs_T12, Outliers: 0\n",
      "Columna: FacCN_T12, Outliers: 0\n",
      "Columna: TxsCN_T12, Outliers: 0\n",
      "Columna: FacCI_T12, Outliers: 0\n",
      "Columna: TxsCI_T12, Outliers: 0\n",
      "Columna: FacAN_T12, Outliers: 0\n",
      "Columna: TxsAN_T12, Outliers: 0\n",
      "Columna: FacAI_T12, Outliers: 0\n",
      "Columna: TxsAI_T12, Outliers: 0\n",
      "Columna: FacPAT_T12, Outliers: 0\n",
      "Columna: TxsPAT_T12, Outliers: 0\n",
      "Columna: FacCCPC_T12, Outliers: 0\n",
      "Columna: TxsCCPC_T12, Outliers: 0\n",
      "Columna: FacCCOT_T12, Outliers: 0\n",
      "Columna: TxsCCOT_T12, Outliers: 0\n",
      "Columna: FacCOL_T12, Outliers: 0\n",
      "Columna: TxsCOL_T12, Outliers: 0\n",
      "Columna: FacDebCom_T12, Outliers: 0\n",
      "Columna: TxsDebCom_T12, Outliers: 0\n",
      "Columna: FacDebAtm_T12, Outliers: 0\n",
      "Columna: TxsDebAtm_T12, Outliers: 0\n",
      "Columna: Col_T12, Outliers: 0\n",
      "Columna: ColL1T0_T12, Outliers: 0\n",
      "Columna: ColL1TE_T12, Outliers: 0\n",
      "Columna: ColL2T0_T12, Outliers: 0\n",
      "Columna: ColL2AC_T12, Outliers: 0\n",
      "Columna: ColL2CC_T12, Outliers: 0\n",
      "Columna: ColMx_T12, Outliers: 0\n",
      "Columna: PagoNac_T12, Outliers: 0\n",
      "Columna: PagoInt_T12, Outliers: 0\n",
      "Columna: EeccNac_T12, Outliers: 0\n",
      "Columna: EeccInt_T12, Outliers: 0\n",
      "Columna: UsoL1_T12, Outliers: 0\n",
      "Columna: UsoL2_T12, Outliers: 0\n",
      "Columna: UsoLI_T12, Outliers: 0\n",
      "Columna: FlgAct_T11, Outliers: 0\n",
      "Columna: FlgActCN_T11, Outliers: 0\n",
      "Columna: FlgActCI_T11, Outliers: 0\n",
      "Columna: FlgActAN_T11, Outliers: 0\n",
      "Columna: FlgActAI_T11, Outliers: 0\n",
      "Columna: FlgActPAT_T11, Outliers: 0\n",
      "Columna: FlgActCCPC_T11, Outliers: 0\n",
      "Columna: FlgActCCOT_T11, Outliers: 0\n",
      "Columna: FlgActCOL_T11, Outliers: 0\n",
      "Columna: Fac_T11, Outliers: 0\n",
      "Columna: Txs_T11, Outliers: 0\n",
      "Columna: FacCN_T11, Outliers: 0\n",
      "Columna: TxsCN_T11, Outliers: 0\n",
      "Columna: FacCI_T11, Outliers: 0\n",
      "Columna: TxsCI_T11, Outliers: 0\n",
      "Columna: FacAN_T11, Outliers: 0\n",
      "Columna: TxsAN_T11, Outliers: 0\n",
      "Columna: FacAI_T11, Outliers: 0\n",
      "Columna: TxsAI_T11, Outliers: 0\n",
      "Columna: FacPAT_T11, Outliers: 0\n",
      "Columna: TxsPAT_T11, Outliers: 0\n",
      "Columna: FacCCPC_T11, Outliers: 0\n",
      "Columna: TxsCCPC_T11, Outliers: 0\n",
      "Columna: FacCCOT_T11, Outliers: 0\n",
      "Columna: TxsCCOT_T11, Outliers: 0\n",
      "Columna: FacCOL_T11, Outliers: 0\n",
      "Columna: TxsCOL_T11, Outliers: 0\n",
      "Columna: FacDebCom_T11, Outliers: 0\n",
      "Columna: TxsDebCom_T11, Outliers: 0\n",
      "Columna: FacDebAtm_T11, Outliers: 0\n",
      "Columna: TxsDebAtm_T11, Outliers: 0\n",
      "Columna: Col_T11, Outliers: 0\n",
      "Columna: ColL1T0_T11, Outliers: 0\n",
      "Columna: ColL1TE_T11, Outliers: 0\n",
      "Columna: ColL2T0_T11, Outliers: 0\n",
      "Columna: ColL2AC_T11, Outliers: 0\n",
      "Columna: ColL2CC_T11, Outliers: 0\n",
      "Columna: ColMx_T11, Outliers: 0\n",
      "Columna: PagoNac_T11, Outliers: 0\n",
      "Columna: PagoInt_T11, Outliers: 0\n",
      "Columna: EeccNac_T11, Outliers: 0\n",
      "Columna: EeccInt_T11, Outliers: 0\n",
      "Columna: UsoL1_T11, Outliers: 0\n",
      "Columna: UsoL2_T11, Outliers: 0\n",
      "Columna: UsoLI_T11, Outliers: 0\n",
      "Columna: FlgAct_T10, Outliers: 0\n",
      "Columna: FlgActCN_T10, Outliers: 0\n",
      "Columna: FlgActCI_T10, Outliers: 0\n",
      "Columna: FlgActAN_T10, Outliers: 0\n",
      "Columna: FlgActAI_T10, Outliers: 0\n",
      "Columna: FlgActPAT_T10, Outliers: 0\n",
      "Columna: FlgActCCPC_T10, Outliers: 0\n",
      "Columna: FlgActCCOT_T10, Outliers: 0\n",
      "Columna: FlgActCOL_T10, Outliers: 0\n",
      "Columna: Fac_T10, Outliers: 0\n",
      "Columna: Txs_T10, Outliers: 0\n",
      "Columna: FacCN_T10, Outliers: 0\n",
      "Columna: TxsCN_T10, Outliers: 0\n",
      "Columna: FacCI_T10, Outliers: 0\n",
      "Columna: TxsCI_T10, Outliers: 0\n",
      "Columna: FacAN_T10, Outliers: 0\n",
      "Columna: TxsAN_T10, Outliers: 0\n",
      "Columna: FacAI_T10, Outliers: 0\n",
      "Columna: TxsAI_T10, Outliers: 0\n",
      "Columna: FacPAT_T10, Outliers: 0\n",
      "Columna: TxsPAT_T10, Outliers: 0\n",
      "Columna: FacCCPC_T10, Outliers: 0\n",
      "Columna: TxsCCPC_T10, Outliers: 0\n",
      "Columna: FacCCOT_T10, Outliers: 0\n",
      "Columna: TxsCCOT_T10, Outliers: 0\n",
      "Columna: FacCOL_T10, Outliers: 0\n",
      "Columna: TxsCOL_T10, Outliers: 0\n",
      "Columna: FacDebCom_T10, Outliers: 0\n",
      "Columna: TxsDebCom_T10, Outliers: 0\n",
      "Columna: FacDebAtm_T10, Outliers: 0\n",
      "Columna: TxsDebAtm_T10, Outliers: 0\n",
      "Columna: Col_T10, Outliers: 0\n",
      "Columna: ColL1T0_T10, Outliers: 0\n",
      "Columna: ColL1TE_T10, Outliers: 0\n",
      "Columna: ColL2T0_T10, Outliers: 0\n",
      "Columna: ColL2AC_T10, Outliers: 0\n",
      "Columna: ColL2CC_T10, Outliers: 0\n",
      "Columna: ColMx_T10, Outliers: 0\n",
      "Columna: PagoNac_T10, Outliers: 0\n",
      "Columna: PagoInt_T10, Outliers: 0\n",
      "Columna: EeccNac_T10, Outliers: 0\n",
      "Columna: EeccInt_T10, Outliers: 0\n",
      "Columna: UsoL1_T10, Outliers: 0\n",
      "Columna: UsoL2_T10, Outliers: 0\n",
      "Columna: UsoLI_T10, Outliers: 0\n",
      "Columna: FlgAct_T09, Outliers: 0\n",
      "Columna: FlgActCN_T09, Outliers: 0\n",
      "Columna: FlgActCI_T09, Outliers: 0\n",
      "Columna: FlgActAN_T09, Outliers: 0\n",
      "Columna: FlgActAI_T09, Outliers: 0\n",
      "Columna: FlgActPAT_T09, Outliers: 0\n",
      "Columna: FlgActCCPC_T09, Outliers: 0\n",
      "Columna: FlgActCCOT_T09, Outliers: 0\n",
      "Columna: FlgActCOL_T09, Outliers: 0\n",
      "Columna: Fac_T09, Outliers: 0\n",
      "Columna: Txs_T09, Outliers: 0\n",
      "Columna: FacCN_T09, Outliers: 0\n",
      "Columna: TxsCN_T09, Outliers: 0\n",
      "Columna: FacCI_T09, Outliers: 0\n",
      "Columna: TxsCI_T09, Outliers: 0\n",
      "Columna: FacAN_T09, Outliers: 0\n",
      "Columna: TxsAN_T09, Outliers: 0\n",
      "Columna: FacAI_T09, Outliers: 0\n",
      "Columna: TxsAI_T09, Outliers: 0\n",
      "Columna: FacPAT_T09, Outliers: 0\n",
      "Columna: TxsPAT_T09, Outliers: 0\n",
      "Columna: FacCCPC_T09, Outliers: 0\n",
      "Columna: TxsCCPC_T09, Outliers: 0\n",
      "Columna: FacCCOT_T09, Outliers: 0\n",
      "Columna: TxsCCOT_T09, Outliers: 0\n",
      "Columna: FacCOL_T09, Outliers: 0\n",
      "Columna: TxsCOL_T09, Outliers: 0\n",
      "Columna: FacDebCom_T09, Outliers: 0\n",
      "Columna: TxsDebCom_T09, Outliers: 0\n",
      "Columna: FacDebAtm_T09, Outliers: 0\n",
      "Columna: TxsDebAtm_T09, Outliers: 0\n",
      "Columna: Col_T09, Outliers: 0\n",
      "Columna: ColL1T0_T09, Outliers: 0\n",
      "Columna: ColL1TE_T09, Outliers: 0\n",
      "Columna: ColL2T0_T09, Outliers: 0\n",
      "Columna: ColL2AC_T09, Outliers: 0\n",
      "Columna: ColL2CC_T09, Outliers: 0\n",
      "Columna: ColMx_T09, Outliers: 0\n",
      "Columna: PagoNac_T09, Outliers: 0\n",
      "Columna: PagoInt_T09, Outliers: 0\n",
      "Columna: EeccNac_T09, Outliers: 0\n",
      "Columna: EeccInt_T09, Outliers: 0\n",
      "Columna: UsoL1_T09, Outliers: 0\n",
      "Columna: UsoL2_T09, Outliers: 0\n",
      "Columna: UsoLI_T09, Outliers: 0\n",
      "Columna: FlgAct_T08, Outliers: 0\n",
      "Columna: FlgActCN_T08, Outliers: 0\n",
      "Columna: FlgActCI_T08, Outliers: 0\n",
      "Columna: FlgActAN_T08, Outliers: 0\n",
      "Columna: FlgActAI_T08, Outliers: 0\n",
      "Columna: FlgActPAT_T08, Outliers: 0\n",
      "Columna: FlgActCCPC_T08, Outliers: 0\n",
      "Columna: FlgActCCOT_T08, Outliers: 0\n",
      "Columna: FlgActCOL_T08, Outliers: 0\n",
      "Columna: Fac_T08, Outliers: 0\n",
      "Columna: Txs_T08, Outliers: 0\n",
      "Columna: FacCN_T08, Outliers: 0\n",
      "Columna: TxsCN_T08, Outliers: 0\n",
      "Columna: FacCI_T08, Outliers: 0\n",
      "Columna: TxsCI_T08, Outliers: 0\n",
      "Columna: FacAN_T08, Outliers: 0\n",
      "Columna: TxsAN_T08, Outliers: 0\n",
      "Columna: FacAI_T08, Outliers: 0\n",
      "Columna: TxsAI_T08, Outliers: 0\n",
      "Columna: FacPAT_T08, Outliers: 0\n",
      "Columna: TxsPAT_T08, Outliers: 0\n",
      "Columna: FacCCPC_T08, Outliers: 0\n",
      "Columna: TxsCCPC_T08, Outliers: 0\n",
      "Columna: FacCCOT_T08, Outliers: 0\n",
      "Columna: TxsCCOT_T08, Outliers: 0\n",
      "Columna: FacCOL_T08, Outliers: 0\n",
      "Columna: TxsCOL_T08, Outliers: 0\n",
      "Columna: FacDebCom_T08, Outliers: 0\n",
      "Columna: TxsDebCom_T08, Outliers: 0\n",
      "Columna: FacDebAtm_T08, Outliers: 0\n",
      "Columna: TxsDebAtm_T08, Outliers: 0\n",
      "Columna: Col_T08, Outliers: 0\n",
      "Columna: ColL1T0_T08, Outliers: 0\n",
      "Columna: ColL1TE_T08, Outliers: 0\n",
      "Columna: ColL2T0_T08, Outliers: 0\n",
      "Columna: ColL2AC_T08, Outliers: 0\n",
      "Columna: ColL2CC_T08, Outliers: 0\n",
      "Columna: ColMx_T08, Outliers: 0\n",
      "Columna: PagoNac_T08, Outliers: 0\n",
      "Columna: PagoInt_T08, Outliers: 0\n",
      "Columna: EeccNac_T08, Outliers: 0\n",
      "Columna: EeccInt_T08, Outliers: 0\n",
      "Columna: UsoL1_T08, Outliers: 0\n",
      "Columna: UsoL2_T08, Outliers: 0\n",
      "Columna: UsoLI_T08, Outliers: 0\n",
      "Columna: FlgAct_T07, Outliers: 0\n",
      "Columna: FlgActCN_T07, Outliers: 0\n",
      "Columna: FlgActCI_T07, Outliers: 0\n",
      "Columna: FlgActAN_T07, Outliers: 0\n",
      "Columna: FlgActAI_T07, Outliers: 0\n",
      "Columna: FlgActPAT_T07, Outliers: 0\n",
      "Columna: FlgActCCPC_T07, Outliers: 0\n",
      "Columna: FlgActCCOT_T07, Outliers: 0\n",
      "Columna: FlgActCOL_T07, Outliers: 0\n",
      "Columna: Fac_T07, Outliers: 0\n",
      "Columna: Txs_T07, Outliers: 0\n",
      "Columna: FacCN_T07, Outliers: 0\n",
      "Columna: TxsCN_T07, Outliers: 0\n",
      "Columna: FacCI_T07, Outliers: 0\n",
      "Columna: TxsCI_T07, Outliers: 0\n",
      "Columna: FacAN_T07, Outliers: 0\n",
      "Columna: TxsAN_T07, Outliers: 0\n",
      "Columna: FacAI_T07, Outliers: 0\n",
      "Columna: TxsAI_T07, Outliers: 0\n",
      "Columna: FacPAT_T07, Outliers: 0\n",
      "Columna: TxsPAT_T07, Outliers: 0\n",
      "Columna: FacCCPC_T07, Outliers: 0\n",
      "Columna: TxsCCPC_T07, Outliers: 0\n",
      "Columna: FacCCOT_T07, Outliers: 0\n",
      "Columna: TxsCCOT_T07, Outliers: 0\n",
      "Columna: FacCOL_T07, Outliers: 0\n",
      "Columna: TxsCOL_T07, Outliers: 0\n",
      "Columna: FacDebCom_T07, Outliers: 0\n",
      "Columna: TxsDebCom_T07, Outliers: 0\n",
      "Columna: FacDebAtm_T07, Outliers: 0\n",
      "Columna: TxsDebAtm_T07, Outliers: 0\n",
      "Columna: Col_T07, Outliers: 0\n",
      "Columna: ColL1T0_T07, Outliers: 0\n",
      "Columna: ColL1TE_T07, Outliers: 0\n",
      "Columna: ColL2T0_T07, Outliers: 0\n",
      "Columna: ColL2AC_T07, Outliers: 0\n",
      "Columna: ColL2CC_T07, Outliers: 0\n",
      "Columna: ColMx_T07, Outliers: 0\n",
      "Columna: PagoNac_T07, Outliers: 0\n",
      "Columna: PagoInt_T07, Outliers: 0\n",
      "Columna: EeccNac_T07, Outliers: 0\n",
      "Columna: EeccInt_T07, Outliers: 0\n",
      "Columna: UsoL1_T07, Outliers: 0\n",
      "Columna: UsoL2_T07, Outliers: 0\n",
      "Columna: UsoLI_T07, Outliers: 0\n",
      "Columna: FlgAct_T06, Outliers: 0\n",
      "Columna: FlgActCN_T06, Outliers: 0\n",
      "Columna: FlgActCI_T06, Outliers: 0\n",
      "Columna: FlgActAN_T06, Outliers: 0\n",
      "Columna: FlgActAI_T06, Outliers: 0\n",
      "Columna: FlgActPAT_T06, Outliers: 0\n",
      "Columna: FlgActCCPC_T06, Outliers: 0\n",
      "Columna: FlgActCCOT_T06, Outliers: 0\n",
      "Columna: FlgActCOL_T06, Outliers: 0\n",
      "Columna: Fac_T06, Outliers: 0\n",
      "Columna: Txs_T06, Outliers: 0\n",
      "Columna: FacCN_T06, Outliers: 0\n",
      "Columna: TxsCN_T06, Outliers: 0\n",
      "Columna: FacCI_T06, Outliers: 0\n",
      "Columna: TxsCI_T06, Outliers: 0\n",
      "Columna: FacAN_T06, Outliers: 0\n",
      "Columna: TxsAN_T06, Outliers: 0\n",
      "Columna: FacAI_T06, Outliers: 0\n",
      "Columna: TxsAI_T06, Outliers: 0\n",
      "Columna: FacPAT_T06, Outliers: 0\n",
      "Columna: TxsPAT_T06, Outliers: 0\n",
      "Columna: FacCCPC_T06, Outliers: 0\n",
      "Columna: TxsCCPC_T06, Outliers: 0\n",
      "Columna: FacCCOT_T06, Outliers: 0\n",
      "Columna: TxsCCOT_T06, Outliers: 0\n",
      "Columna: FacCOL_T06, Outliers: 0\n",
      "Columna: TxsCOL_T06, Outliers: 0\n",
      "Columna: FacDebCom_T06, Outliers: 0\n",
      "Columna: TxsDebCom_T06, Outliers: 0\n",
      "Columna: FacDebAtm_T06, Outliers: 0\n",
      "Columna: TxsDebAtm_T06, Outliers: 0\n",
      "Columna: Col_T06, Outliers: 0\n",
      "Columna: ColL1T0_T06, Outliers: 0\n",
      "Columna: ColL1TE_T06, Outliers: 0\n",
      "Columna: ColL2T0_T06, Outliers: 0\n",
      "Columna: ColL2AC_T06, Outliers: 0\n",
      "Columna: ColL2CC_T06, Outliers: 0\n",
      "Columna: ColMx_T06, Outliers: 0\n",
      "Columna: PagoNac_T06, Outliers: 0\n",
      "Columna: PagoInt_T06, Outliers: 0\n",
      "Columna: EeccNac_T06, Outliers: 0\n",
      "Columna: EeccInt_T06, Outliers: 0\n",
      "Columna: UsoL1_T06, Outliers: 0\n",
      "Columna: UsoL2_T06, Outliers: 0\n",
      "Columna: UsoLI_T06, Outliers: 0\n",
      "Columna: FlgAct_T05, Outliers: 0\n",
      "Columna: FlgActCN_T05, Outliers: 0\n",
      "Columna: FlgActCI_T05, Outliers: 0\n",
      "Columna: FlgActAN_T05, Outliers: 0\n",
      "Columna: FlgActAI_T05, Outliers: 0\n",
      "Columna: FlgActPAT_T05, Outliers: 0\n",
      "Columna: FlgActCCPC_T05, Outliers: 0\n",
      "Columna: FlgActCCOT_T05, Outliers: 0\n",
      "Columna: FlgActCOL_T05, Outliers: 0\n",
      "Columna: Fac_T05, Outliers: 0\n",
      "Columna: Txs_T05, Outliers: 0\n",
      "Columna: FacCN_T05, Outliers: 0\n",
      "Columna: TxsCN_T05, Outliers: 0\n",
      "Columna: FacCI_T05, Outliers: 0\n",
      "Columna: TxsCI_T05, Outliers: 0\n",
      "Columna: FacAN_T05, Outliers: 0\n",
      "Columna: TxsAN_T05, Outliers: 0\n",
      "Columna: FacAI_T05, Outliers: 0\n",
      "Columna: TxsAI_T05, Outliers: 0\n",
      "Columna: FacPAT_T05, Outliers: 0\n",
      "Columna: TxsPAT_T05, Outliers: 0\n",
      "Columna: FacCCPC_T05, Outliers: 0\n",
      "Columna: TxsCCPC_T05, Outliers: 0\n",
      "Columna: FacCCOT_T05, Outliers: 0\n",
      "Columna: TxsCCOT_T05, Outliers: 0\n",
      "Columna: FacCOL_T05, Outliers: 0\n",
      "Columna: TxsCOL_T05, Outliers: 0\n",
      "Columna: FacDebCom_T05, Outliers: 0\n",
      "Columna: TxsDebCom_T05, Outliers: 0\n",
      "Columna: FacDebAtm_T05, Outliers: 0\n",
      "Columna: TxsDebAtm_T05, Outliers: 0\n",
      "Columna: Col_T05, Outliers: 0\n",
      "Columna: ColL1T0_T05, Outliers: 0\n",
      "Columna: ColL1TE_T05, Outliers: 0\n",
      "Columna: ColL2T0_T05, Outliers: 0\n",
      "Columna: ColL2AC_T05, Outliers: 0\n",
      "Columna: ColL2CC_T05, Outliers: 0\n",
      "Columna: ColMx_T05, Outliers: 0\n",
      "Columna: PagoNac_T05, Outliers: 0\n",
      "Columna: PagoInt_T05, Outliers: 0\n",
      "Columna: EeccNac_T05, Outliers: 0\n",
      "Columna: EeccInt_T05, Outliers: 0\n",
      "Columna: UsoL1_T05, Outliers: 0\n",
      "Columna: UsoL2_T05, Outliers: 0\n",
      "Columna: UsoLI_T05, Outliers: 0\n",
      "Columna: FlgAct_T04, Outliers: 0\n",
      "Columna: FlgActCN_T04, Outliers: 0\n",
      "Columna: FlgActCI_T04, Outliers: 0\n",
      "Columna: FlgActAN_T04, Outliers: 0\n",
      "Columna: FlgActAI_T04, Outliers: 0\n",
      "Columna: FlgActPAT_T04, Outliers: 0\n",
      "Columna: FlgActCCPC_T04, Outliers: 0\n",
      "Columna: FlgActCCOT_T04, Outliers: 0\n",
      "Columna: FlgActCOL_T04, Outliers: 0\n",
      "Columna: Fac_T04, Outliers: 0\n",
      "Columna: Txs_T04, Outliers: 0\n",
      "Columna: FacCN_T04, Outliers: 0\n",
      "Columna: TxsCN_T04, Outliers: 0\n",
      "Columna: FacCI_T04, Outliers: 0\n",
      "Columna: TxsCI_T04, Outliers: 0\n",
      "Columna: FacAN_T04, Outliers: 0\n",
      "Columna: TxsAN_T04, Outliers: 0\n",
      "Columna: FacAI_T04, Outliers: 0\n",
      "Columna: TxsAI_T04, Outliers: 0\n",
      "Columna: FacPAT_T04, Outliers: 0\n",
      "Columna: TxsPAT_T04, Outliers: 0\n",
      "Columna: FacCCPC_T04, Outliers: 0\n",
      "Columna: TxsCCPC_T04, Outliers: 0\n",
      "Columna: FacCCOT_T04, Outliers: 0\n",
      "Columna: TxsCCOT_T04, Outliers: 0\n",
      "Columna: FacCOL_T04, Outliers: 0\n",
      "Columna: TxsCOL_T04, Outliers: 0\n",
      "Columna: FacDebCom_T04, Outliers: 0\n",
      "Columna: TxsDebCom_T04, Outliers: 0\n",
      "Columna: FacDebAtm_T04, Outliers: 0\n",
      "Columna: TxsDebAtm_T04, Outliers: 0\n",
      "Columna: Col_T04, Outliers: 0\n",
      "Columna: ColL1T0_T04, Outliers: 0\n",
      "Columna: ColL1TE_T04, Outliers: 0\n",
      "Columna: ColL2T0_T04, Outliers: 0\n",
      "Columna: ColL2AC_T04, Outliers: 0\n",
      "Columna: ColL2CC_T04, Outliers: 0\n",
      "Columna: ColMx_T04, Outliers: 0\n",
      "Columna: PagoNac_T04, Outliers: 0\n",
      "Columna: PagoInt_T04, Outliers: 0\n",
      "Columna: EeccNac_T04, Outliers: 0\n",
      "Columna: EeccInt_T04, Outliers: 0\n",
      "Columna: UsoL1_T04, Outliers: 0\n",
      "Columna: UsoL2_T04, Outliers: 0\n",
      "Columna: UsoLI_T04, Outliers: 0\n",
      "Columna: FlgAct_T03, Outliers: 0\n",
      "Columna: FlgActCN_T03, Outliers: 0\n",
      "Columna: FlgActCI_T03, Outliers: 0\n",
      "Columna: FlgActAN_T03, Outliers: 0\n",
      "Columna: FlgActAI_T03, Outliers: 0\n",
      "Columna: FlgActPAT_T03, Outliers: 0\n",
      "Columna: FlgActCCPC_T03, Outliers: 0\n",
      "Columna: FlgActCCOT_T03, Outliers: 0\n",
      "Columna: FlgActCOL_T03, Outliers: 0\n",
      "Columna: Fac_T03, Outliers: 0\n",
      "Columna: Txs_T03, Outliers: 0\n",
      "Columna: FacCN_T03, Outliers: 0\n",
      "Columna: TxsCN_T03, Outliers: 0\n",
      "Columna: FacCI_T03, Outliers: 0\n",
      "Columna: TxsCI_T03, Outliers: 0\n",
      "Columna: FacAN_T03, Outliers: 0\n",
      "Columna: TxsAN_T03, Outliers: 0\n",
      "Columna: FacAI_T03, Outliers: 0\n",
      "Columna: TxsAI_T03, Outliers: 0\n",
      "Columna: FacPAT_T03, Outliers: 0\n",
      "Columna: TxsPAT_T03, Outliers: 0\n",
      "Columna: FacCCPC_T03, Outliers: 0\n",
      "Columna: TxsCCPC_T03, Outliers: 0\n",
      "Columna: FacCCOT_T03, Outliers: 0\n",
      "Columna: TxsCCOT_T03, Outliers: 0\n",
      "Columna: FacCOL_T03, Outliers: 0\n",
      "Columna: TxsCOL_T03, Outliers: 0\n",
      "Columna: FacDebCom_T03, Outliers: 0\n",
      "Columna: TxsDebCom_T03, Outliers: 0\n",
      "Columna: FacDebAtm_T03, Outliers: 0\n",
      "Columna: TxsDebAtm_T03, Outliers: 0\n",
      "Columna: Col_T03, Outliers: 0\n",
      "Columna: ColL1T0_T03, Outliers: 0\n",
      "Columna: ColL1TE_T03, Outliers: 0\n",
      "Columna: ColL2T0_T03, Outliers: 0\n",
      "Columna: ColL2AC_T03, Outliers: 0\n",
      "Columna: ColL2CC_T03, Outliers: 0\n",
      "Columna: ColMx_T03, Outliers: 0\n",
      "Columna: PagoNac_T03, Outliers: 0\n",
      "Columna: PagoInt_T03, Outliers: 0\n",
      "Columna: EeccNac_T03, Outliers: 0\n",
      "Columna: EeccInt_T03, Outliers: 0\n",
      "Columna: UsoL1_T03, Outliers: 0\n",
      "Columna: UsoL2_T03, Outliers: 0\n",
      "Columna: UsoLI_T03, Outliers: 0\n",
      "Columna: FlgAct_T02, Outliers: 0\n",
      "Columna: FlgActCN_T02, Outliers: 0\n",
      "Columna: FlgActCI_T02, Outliers: 0\n",
      "Columna: FlgActAN_T02, Outliers: 0\n",
      "Columna: FlgActAI_T02, Outliers: 0\n",
      "Columna: FlgActPAT_T02, Outliers: 0\n",
      "Columna: FlgActCCPC_T02, Outliers: 0\n",
      "Columna: FlgActCCOT_T02, Outliers: 0\n",
      "Columna: FlgActCOL_T02, Outliers: 0\n",
      "Columna: Fac_T02, Outliers: 0\n",
      "Columna: Txs_T02, Outliers: 0\n",
      "Columna: FacCN_T02, Outliers: 0\n",
      "Columna: TxsCN_T02, Outliers: 0\n",
      "Columna: FacCI_T02, Outliers: 0\n",
      "Columna: TxsCI_T02, Outliers: 0\n",
      "Columna: FacAN_T02, Outliers: 0\n",
      "Columna: TxsAN_T02, Outliers: 0\n",
      "Columna: FacAI_T02, Outliers: 0\n",
      "Columna: TxsAI_T02, Outliers: 0\n",
      "Columna: FacPAT_T02, Outliers: 0\n",
      "Columna: TxsPAT_T02, Outliers: 0\n",
      "Columna: FacCCPC_T02, Outliers: 0\n",
      "Columna: TxsCCPC_T02, Outliers: 0\n",
      "Columna: FacCCOT_T02, Outliers: 0\n",
      "Columna: TxsCCOT_T02, Outliers: 0\n",
      "Columna: FacCOL_T02, Outliers: 0\n",
      "Columna: TxsCOL_T02, Outliers: 0\n",
      "Columna: FacDebCom_T02, Outliers: 0\n",
      "Columna: TxsDebCom_T02, Outliers: 0\n",
      "Columna: FacDebAtm_T02, Outliers: 0\n",
      "Columna: TxsDebAtm_T02, Outliers: 0\n",
      "Columna: Col_T02, Outliers: 0\n",
      "Columna: ColL1T0_T02, Outliers: 0\n",
      "Columna: ColL1TE_T02, Outliers: 0\n",
      "Columna: ColL2T0_T02, Outliers: 0\n",
      "Columna: ColL2AC_T02, Outliers: 0\n",
      "Columna: ColL2CC_T02, Outliers: 0\n",
      "Columna: ColMx_T02, Outliers: 0\n",
      "Columna: PagoNac_T02, Outliers: 0\n",
      "Columna: PagoInt_T02, Outliers: 0\n",
      "Columna: EeccNac_T02, Outliers: 0\n",
      "Columna: EeccInt_T02, Outliers: 0\n",
      "Columna: UsoL1_T02, Outliers: 0\n",
      "Columna: UsoL2_T02, Outliers: 0\n",
      "Columna: UsoLI_T02, Outliers: 0\n",
      "Columna: FlgAct_T01, Outliers: 0\n",
      "Columna: FlgActCN_T01, Outliers: 0\n",
      "Columna: FlgActCI_T01, Outliers: 0\n",
      "Columna: FlgActAN_T01, Outliers: 0\n",
      "Columna: FlgActAI_T01, Outliers: 0\n",
      "Columna: FlgActPAT_T01, Outliers: 0\n",
      "Columna: FlgActCCPC_T01, Outliers: 0\n",
      "Columna: FlgActCCOT_T01, Outliers: 0\n",
      "Columna: FlgActCOL_T01, Outliers: 0\n",
      "Columna: Fac_T01, Outliers: 0\n",
      "Columna: Txs_T01, Outliers: 0\n",
      "Columna: FacCN_T01, Outliers: 0\n",
      "Columna: TxsCN_T01, Outliers: 0\n",
      "Columna: FacCI_T01, Outliers: 0\n",
      "Columna: TxsCI_T01, Outliers: 0\n",
      "Columna: FacAN_T01, Outliers: 0\n",
      "Columna: TxsAN_T01, Outliers: 0\n",
      "Columna: FacAI_T01, Outliers: 0\n",
      "Columna: TxsAI_T01, Outliers: 0\n",
      "Columna: FacPAT_T01, Outliers: 0\n",
      "Columna: TxsPAT_T01, Outliers: 0\n",
      "Columna: FacCCPC_T01, Outliers: 0\n",
      "Columna: TxsCCPC_T01, Outliers: 0\n",
      "Columna: FacCCOT_T01, Outliers: 0\n",
      "Columna: TxsCCOT_T01, Outliers: 0\n",
      "Columna: FacCOL_T01, Outliers: 0\n",
      "Columna: TxsCOL_T01, Outliers: 0\n",
      "Columna: FacDebCom_T01, Outliers: 0\n",
      "Columna: TxsDebCom_T01, Outliers: 0\n",
      "Columna: FacDebAtm_T01, Outliers: 0\n",
      "Columna: TxsDebAtm_T01, Outliers: 0\n",
      "Columna: Col_T01, Outliers: 0\n",
      "Columna: ColL1T0_T01, Outliers: 0\n",
      "Columna: ColL1TE_T01, Outliers: 0\n",
      "Columna: ColL2T0_T01, Outliers: 0\n",
      "Columna: ColL2AC_T01, Outliers: 0\n",
      "Columna: ColL2CC_T01, Outliers: 0\n",
      "Columna: ColMx_T01, Outliers: 0\n",
      "Columna: PagoNac_T01, Outliers: 0\n",
      "Columna: PagoInt_T01, Outliers: 0\n",
      "Columna: EeccNac_T01, Outliers: 0\n",
      "Columna: EeccInt_T01, Outliers: 0\n",
      "Columna: UsoL1_T01, Outliers: 0\n",
      "Columna: UsoL2_T01, Outliers: 0\n",
      "Columna: UsoLI_T01, Outliers: 0\n",
      "Columna: target, Outliers: 0\n"
     ]
    }
   ],
   "source": [
    "# Calcular cuantiles y rango intercuartílico (IQR) para cada columna(df4)\n",
    "Q1 = df2.quantile(0.25)\n",
    "Q3 = df2.quantile(0.75)\n",
    "IQR = Q3 - Q1\n",
    "\n",
    "# Calcular límites para identificar outliers para cada columna\n",
    "lower_limit = Q1 - 1.5 * IQR\n",
    "upper_limit = Q3 + 1.5 * IQR\n",
    "\n",
    "# Identificar outliers en cada columna\n",
    "outliers = ((df2< lower_limit) | (df2 > upper_limit))\n",
    "\n",
    "# Mostrar nombre de la columna y cantidad de outliers antes de la imputación\n",
    "print(\"Antes de la imputación:\")\n",
    "for col in df2.columns:\n",
    "    num_outliers = outliers[col].sum()\n",
    "    print(f\"Columna: {col}, Outliers: {num_outliers}\")\n",
    "\n",
    "# Imputar outliers con la mediana para cada columna\n",
    "for col in df2.columns:\n",
    "    median_value = df2[col].median()\n",
    "    df2[col] = np.where(outliers[col], median_value, df2[col])\n",
    "\n",
    "# Mostrar nombre de la columna y cantidad de outliers después de la imputación\n",
    "print(\"\\nDespués de la imputación:-------------------------------------------------------------------------------------\")\n",
    "outliers_after = ((df2 < lower_limit) | (df2 > upper_limit))\n",
    "for col in df2.columns:\n",
    "    num_outliers_after = outliers_after[col].sum()\n",
    "    print(f\"Columna: {col}, Outliers: {num_outliers_after}\")"
   ]
  },
  {
   "cell_type": "code",
   "execution_count": null,
   "metadata": {
    "colab": {
     "base_uri": "https://localhost:8080/"
    },
    "id": "_VhEFaljOJtc",
    "outputId": "ec15337a-2977-49a4-e5bc-3c4ba8f1fd26"
   },
   "outputs": [
    {
     "name": "stdout",
     "output_type": "stream",
     "text": [
      "Subsegmento        10.00\n",
      "Region              4.00\n",
      "Edad               17.00\n",
      "Renta          406588.50\n",
      "Antiguedad         37.00\n",
      "                 ...    \n",
      "EeccInt_T01         0.00\n",
      "UsoL1_T01      254144.00\n",
      "UsoL2_T01      118244.75\n",
      "UsoLI_T01           0.00\n",
      "target              0.00\n",
      "Length: 559, dtype: float64\n"
     ]
    }
   ],
   "source": [
    "print(IQR)"
   ]
  },
  {
   "cell_type": "markdown",
   "metadata": {
    "id": "cn2tZ42YOyW9"
   },
   "source": [
    "Interpretacion de los valores de IQR:\n",
    "Las variables por ej: Region, Antiguedad, edad tiene una baja IQR, indica que la mayor parte de los datos está concentrada en un rango estrecho.Tambien indica poca variabilidad en la mitad central de los datos.\n",
    "\n",
    "Un IQR alto como la variable Renta indica que la mayor parte de los datos está distribuida en un rango amplio.\n",
    "Puede indicar mayor variabilidad en la mitad central de los datos.\n",
    "\n",
    "Valores por debajo de este límite se consideran outliers inferiores.\n",
    "Valores por encima de este límite se consideran outliers superiores."
   ]
  },
  {
   "cell_type": "markdown",
   "metadata": {
    "id": "Q_ZJjZ-1XbF5"
   },
   "source": [
    "## Grafico de cajas despues de la imputacion de outliers"
   ]
  },
  {
   "cell_type": "code",
   "execution_count": null,
   "metadata": {
    "colab": {
     "base_uri": "https://localhost:8080/",
     "height": 398
    },
    "id": "YeRX2xST-97g",
    "outputId": "e7837036-1276-4034-a03b-dce9d4a89bf1"
   },
   "outputs": [
    {
     "data": {
      "image/png": "[encoded data removed]",
      "text/plain": [
       "<Figure size 1500x600 with 1 Axes>"
      ]
     },
     "metadata": {},
     "output_type": "display_data"
    }
   ],
   "source": [
    "columnas_a_mostrar=[ 'Renta', 'CUPO_L1', 'CUPO_L2', 'CUPO_MX', 'Fac_T12','FacCN_T12','FacCCOT_T12', 'FacDebCom_T12', 'TxsDebCom_T12', 'FacDebAtm_T12']\n",
    "# Ajustar el tamaño del gráfico\n",
    "plt.figure(figsize=(15, 6))\n",
    "# Crear un boxplot para las primeras 10 columnas\n",
    "sns.boxplot(data=df2[columnas_a_mostrar],  palette=\"Set3\")\n",
    "\n",
    "plt.xlabel(\"Columnas\", fontsize=14)\n",
    "plt.ylabel(\"Valores\", fontsize=14)\n",
    "plt.title(\"Boxplots de  10 columnas\", fontsize=16)\n",
    "# Rotar las etiquetas del eje x para mejorar la legibilidad\n",
    "plt.xticks(rotation=45, ha=\"right\")\n",
    "\n",
    "# Mostrar el gráfico\n",
    "plt.tight_layout()\n",
    "plt.show()\n"
   ]
  },
  {
   "cell_type": "markdown",
   "metadata": {
    "id": "VwNFEE-Z_JTO"
   },
   "source": [
    "Se redujeron los datos atipicos del dataset, para poder trabajar con PCA"
   ]
  },
  {
   "cell_type": "markdown",
   "metadata": {
    "id": "Zf7EijjWb9SW"
   },
   "source": [
    "#Preprocesamiento de datos"
   ]
  },
  {
   "cell_type": "markdown",
   "metadata": {
    "id": "3IXZohnQapd1"
   },
   "source": [
    "##Escalar los datos\n",
    "Se escalan los datos ya que deben estar a la misma medida para realizar el k-means. La escala de los datos es muy diferente. Es necesario escalar los datos. Se deben dejar con media cero y desviación estándar 1."
   ]
  },
  {
   "cell_type": "code",
   "execution_count": null,
   "metadata": {
    "id": "JFmbSv2L1cV4"
   },
   "outputs": [],
   "source": [
    "df_pca =df2"
   ]
  },
  {
   "cell_type": "code",
   "execution_count": null,
   "metadata": {
    "colab": {
     "base_uri": "https://localhost:8080/"
    },
    "id": "4KjSgzu-_qp-",
    "outputId": "216ad628-d40d-4c5b-ff4e-f157284dc82f"
   },
   "outputs": [
    {
     "data": {
      "text/plain": [
       "(31262, 559)"
      ]
     },
     "execution_count": 42,
     "metadata": {},
     "output_type": "execute_result"
    }
   ],
   "source": [
    "df_pca.shape"
   ]
  },
  {
   "cell_type": "code",
   "execution_count": null,
   "metadata": {
    "colab": {
     "base_uri": "https://localhost:8080/",
     "height": 255
    },
    "id": "cbRXNv7T6PaE",
    "outputId": "024c58c1-b519-4f43-d6eb-578df6865ca8"
   },
   "outputs": [
    {
     "data": {
      "text/html": [
       "\n",
       "  <div id=\"df-57fbf73e-afef-44e9-a7d5-541c57aa7dcb\" class=\"colab-df-container\">\n",
       "    <div>\n",
       "<style scoped>\n",
       "    .dataframe tbody tr th:only-of-type {\n",
       "        vertical-align: middle;\n",
       "    }\n",
       "\n",
       "    .dataframe tbody tr th {\n",
       "        vertical-align: top;\n",
       "    }\n",
       "\n",
       "    .dataframe thead th {\n",
       "        text-align: right;\n",
       "    }\n",
       "</style>\n",
       "<table border=\"1\" class=\"dataframe\">\n",
       "  <thead>\n",
       "    <tr style=\"text-align: right;\">\n",
       "      <th></th>\n",
       "      <th>Subsegmento</th>\n",
       "      <th>Region</th>\n",
       "      <th>Edad</th>\n",
       "      <th>Renta</th>\n",
       "      <th>Antiguedad</th>\n",
       "      <th>Internauta</th>\n",
       "      <th>Adicional</th>\n",
       "      <th>Dualidad</th>\n",
       "      <th>Monoproducto</th>\n",
       "      <th>Ctacte</th>\n",
       "      <th>...</th>\n",
       "      <th>ColL2CC_T01</th>\n",
       "      <th>ColMx_T01</th>\n",
       "      <th>PagoNac_T01</th>\n",
       "      <th>PagoInt_T01</th>\n",
       "      <th>EeccNac_T01</th>\n",
       "      <th>EeccInt_T01</th>\n",
       "      <th>UsoL1_T01</th>\n",
       "      <th>UsoL2_T01</th>\n",
       "      <th>UsoLI_T01</th>\n",
       "      <th>target</th>\n",
       "    </tr>\n",
       "  </thead>\n",
       "  <tbody>\n",
       "    <tr>\n",
       "      <th>1</th>\n",
       "      <td>5.075174</td>\n",
       "      <td>2.564949</td>\n",
       "      <td>3.828641</td>\n",
       "      <td>13.317101</td>\n",
       "      <td>4.234107</td>\n",
       "      <td>0.0</td>\n",
       "      <td>0.0</td>\n",
       "      <td>0.0</td>\n",
       "      <td>0.0</td>\n",
       "      <td>0.0</td>\n",
       "      <td>...</td>\n",
       "      <td>0.000000</td>\n",
       "      <td>0.0</td>\n",
       "      <td>12.611538</td>\n",
       "      <td>0.0</td>\n",
       "      <td>12.276494</td>\n",
       "      <td>0.0</td>\n",
       "      <td>12.276494</td>\n",
       "      <td>11.333751</td>\n",
       "      <td>0.0</td>\n",
       "      <td>0.0</td>\n",
       "    </tr>\n",
       "    <tr>\n",
       "      <th>2</th>\n",
       "      <td>5.135798</td>\n",
       "      <td>2.564949</td>\n",
       "      <td>3.806662</td>\n",
       "      <td>13.741978</td>\n",
       "      <td>3.178054</td>\n",
       "      <td>0.0</td>\n",
       "      <td>0.0</td>\n",
       "      <td>0.0</td>\n",
       "      <td>0.0</td>\n",
       "      <td>0.0</td>\n",
       "      <td>...</td>\n",
       "      <td>0.000000</td>\n",
       "      <td>0.0</td>\n",
       "      <td>12.286158</td>\n",
       "      <td>0.0</td>\n",
       "      <td>11.937801</td>\n",
       "      <td>0.0</td>\n",
       "      <td>8.909235</td>\n",
       "      <td>0.000000</td>\n",
       "      <td>0.0</td>\n",
       "      <td>0.0</td>\n",
       "    </tr>\n",
       "    <tr>\n",
       "      <th>3</th>\n",
       "      <td>5.017280</td>\n",
       "      <td>2.564949</td>\n",
       "      <td>3.828641</td>\n",
       "      <td>12.057845</td>\n",
       "      <td>4.897840</td>\n",
       "      <td>0.0</td>\n",
       "      <td>0.0</td>\n",
       "      <td>0.0</td>\n",
       "      <td>0.0</td>\n",
       "      <td>0.0</td>\n",
       "      <td>...</td>\n",
       "      <td>0.000000</td>\n",
       "      <td>0.0</td>\n",
       "      <td>11.002100</td>\n",
       "      <td>0.0</td>\n",
       "      <td>12.516355</td>\n",
       "      <td>0.0</td>\n",
       "      <td>12.516355</td>\n",
       "      <td>9.267760</td>\n",
       "      <td>0.0</td>\n",
       "      <td>0.0</td>\n",
       "    </tr>\n",
       "    <tr>\n",
       "      <th>4</th>\n",
       "      <td>5.135798</td>\n",
       "      <td>2.564949</td>\n",
       "      <td>3.828641</td>\n",
       "      <td>13.598908</td>\n",
       "      <td>4.753590</td>\n",
       "      <td>0.0</td>\n",
       "      <td>0.0</td>\n",
       "      <td>0.0</td>\n",
       "      <td>0.0</td>\n",
       "      <td>0.0</td>\n",
       "      <td>...</td>\n",
       "      <td>10.374366</td>\n",
       "      <td>0.0</td>\n",
       "      <td>12.516952</td>\n",
       "      <td>0.0</td>\n",
       "      <td>12.427463</td>\n",
       "      <td>0.0</td>\n",
       "      <td>11.229753</td>\n",
       "      <td>12.842073</td>\n",
       "      <td>0.0</td>\n",
       "      <td>0.0</td>\n",
       "    </tr>\n",
       "    <tr>\n",
       "      <th>5</th>\n",
       "      <td>5.135798</td>\n",
       "      <td>2.564949</td>\n",
       "      <td>3.850148</td>\n",
       "      <td>13.469725</td>\n",
       "      <td>4.204693</td>\n",
       "      <td>0.0</td>\n",
       "      <td>0.0</td>\n",
       "      <td>0.0</td>\n",
       "      <td>0.0</td>\n",
       "      <td>0.0</td>\n",
       "      <td>...</td>\n",
       "      <td>0.000000</td>\n",
       "      <td>0.0</td>\n",
       "      <td>10.485703</td>\n",
       "      <td>0.0</td>\n",
       "      <td>10.485703</td>\n",
       "      <td>0.0</td>\n",
       "      <td>12.158761</td>\n",
       "      <td>10.843436</td>\n",
       "      <td>0.0</td>\n",
       "      <td>0.0</td>\n",
       "    </tr>\n",
       "  </tbody>\n",
       "</table>\n",
       "<p>5 rows × 559 columns</p>\n",
       "</div>\n",
       "    <div class=\"colab-df-buttons\">\n",
       "\n",
       "  <div class=\"colab-df-container\">\n",
       "    <button class=\"colab-df-convert\" onclick=\"convertToInteractive('df-57fbf73e-afef-44e9-a7d5-541c57aa7dcb')\"\n",
       "            title=\"Convert this dataframe to an interactive table.\"\n",
       "            style=\"display:none;\">\n",
       "\n",
       "  <svg xmlns=\"http://www.w3.org/2000/svg\" height=\"24px\" viewBox=\"0 -960 960 960\">\n",
       "    <path d=\"M120-120v-720h720v720H120Zm60-500h600v-160H180v160Zm220 220h160v-160H400v160Zm0 220h160v-160H400v160ZM180-400h160v-160H180v160Zm440 0h160v-160H620v160ZM180-180h160v-160H180v160Zm440 0h160v-160H620v160Z\"/>\n",
       "  </svg>\n",
       "    </button>\n",
       "\n",
       "  <style>\n",
       "    .colab-df-container {\n",
       "      display:flex;\n",
       "      gap: 12px;\n",
       "    }\n",
       "\n",
       "    .colab-df-convert {\n",
       "      background-color: #E8F0FE;\n",
       "      border: none;\n",
       "      border-radius: 50%;\n",
       "      cursor: pointer;\n",
       "      display: none;\n",
       "      fill: #1967D2;\n",
       "      height: 32px;\n",
       "      padding: 0 0 0 0;\n",
       "      width: 32px;\n",
       "    }\n",
       "\n",
       "    .colab-df-convert:hover {\n",
       "      background-color: #E2EBFA;\n",
       "      box-shadow: 0px 1px 2px rgba(60, 64, 67, 0.3), 0px 1px 3px 1px rgba(60, 64, 67, 0.15);\n",
       "      fill: #174EA6;\n",
       "    }\n",
       "\n",
       "    .colab-df-buttons div {\n",
       "      margin-bottom: 4px;\n",
       "    }\n",
       "\n",
       "    [theme=dark] .colab-df-convert {\n",
       "      background-color: #3B4455;\n",
       "      fill: #D2E3FC;\n",
       "    }\n",
       "\n",
       "    [theme=dark] .colab-df-convert:hover {\n",
       "      background-color: #434B5C;\n",
       "      box-shadow: 0px 1px 3px 1px rgba(0, 0, 0, 0.15);\n",
       "      filter: drop-shadow(0px 1px 2px rgba(0, 0, 0, 0.3));\n",
       "      fill: #FFFFFF;\n",
       "    }\n",
       "  </style>\n",
       "\n",
       "    <script>\n",
       "      const buttonEl =\n",
       "        document.querySelector('#df-57fbf73e-afef-44e9-a7d5-541c57aa7dcb button.colab-df-convert');\n",
       "      buttonEl.style.display =\n",
       "        google.colab.kernel.accessAllowed ? 'block' : 'none';\n",
       "\n",
       "      async function convertToInteractive(key) {\n",
       "        const element = document.querySelector('#df-57fbf73e-afef-44e9-a7d5-541c57aa7dcb');\n",
       "        const dataTable =\n",
       "          await google.colab.kernel.invokeFunction('convertToInteractive',\n",
       "                                                    [key], {});\n",
       "        if (!dataTable) return;\n",
       "\n",
       "        const docLinkHtml = 'Like what you see? Visit the ' +\n",
       "          '<a target=\"_blank\" href=https://colab.research.google.com/notebooks/data_table.ipynb>data table notebook</a>'\n",
       "          + ' to learn more about interactive tables.';\n",
       "        element.innerHTML = '';\n",
       "        dataTable['output_type'] = 'display_data';\n",
       "        await google.colab.output.renderOutput(dataTable, element);\n",
       "        const docLink = document.createElement('div');\n",
       "        docLink.innerHTML = docLinkHtml;\n",
       "        element.appendChild(docLink);\n",
       "      }\n",
       "    </script>\n",
       "  </div>\n",
       "\n",
       "\n",
       "<div id=\"df-ecd93c0a-360f-42cd-b5b4-60ead286b5ec\">\n",
       "  <button class=\"colab-df-quickchart\" onclick=\"quickchart('df-ecd93c0a-360f-42cd-b5b4-60ead286b5ec')\"\n",
       "            title=\"Suggest charts\"\n",
       "            style=\"display:none;\">\n",
       "\n",
       "<svg xmlns=\"http://www.w3.org/2000/svg\" height=\"24px\"viewBox=\"0 0 24 24\"\n",
       "     width=\"24px\">\n",
       "    <g>\n",
       "        <path d=\"M19 3H5c-1.1 0-2 .9-2 2v14c0 1.1.9 2 2 2h14c1.1 0 2-.9 2-2V5c0-1.1-.9-2-2-2zM9 17H7v-7h2v7zm4 0h-2V7h2v10zm4 0h-2v-4h2v4z\"/>\n",
       "    </g>\n",
       "</svg>\n",
       "  </button>\n",
       "\n",
       "<style>\n",
       "  .colab-df-quickchart {\n",
       "      --bg-color: #E8F0FE;\n",
       "      --fill-color: #1967D2;\n",
       "      --hover-bg-color: #E2EBFA;\n",
       "      --hover-fill-color: #174EA6;\n",
       "      --disabled-fill-color: #AAA;\n",
       "      --disabled-bg-color: #DDD;\n",
       "  }\n",
       "\n",
       "  [theme=dark] .colab-df-quickchart {\n",
       "      --bg-color: #3B4455;\n",
       "      --fill-color: #D2E3FC;\n",
       "      --hover-bg-color: #434B5C;\n",
       "      --hover-fill-color: #FFFFFF;\n",
       "      --disabled-bg-color: #3B4455;\n",
       "      --disabled-fill-color: #666;\n",
       "  }\n",
       "\n",
       "  .colab-df-quickchart {\n",
       "    background-color: var(--bg-color);\n",
       "    border: none;\n",
       "    border-radius: 50%;\n",
       "    cursor: pointer;\n",
       "    display: none;\n",
       "    fill: var(--fill-color);\n",
       "    height: 32px;\n",
       "    padding: 0;\n",
       "    width: 32px;\n",
       "  }\n",
       "\n",
       "  .colab-df-quickchart:hover {\n",
       "    background-color: var(--hover-bg-color);\n",
       "    box-shadow: 0 1px 2px rgba(60, 64, 67, 0.3), 0 1px 3px 1px rgba(60, 64, 67, 0.15);\n",
       "    fill: var(--button-hover-fill-color);\n",
       "  }\n",
       "\n",
       "  .colab-df-quickchart-complete:disabled,\n",
       "  .colab-df-quickchart-complete:disabled:hover {\n",
       "    background-color: var(--disabled-bg-color);\n",
       "    fill: var(--disabled-fill-color);\n",
       "    box-shadow: none;\n",
       "  }\n",
       "\n",
       "  .colab-df-spinner {\n",
       "    border: 2px solid var(--fill-color);\n",
       "    border-color: transparent;\n",
       "    border-bottom-color: var(--fill-color);\n",
       "    animation:\n",
       "      spin 1s steps(1) infinite;\n",
       "  }\n",
       "\n",
       "  @keyframes spin {\n",
       "    0% {\n",
       "      border-color: transparent;\n",
       "      border-bottom-color: var(--fill-color);\n",
       "      border-left-color: var(--fill-color);\n",
       "    }\n",
       "    20% {\n",
       "      border-color: transparent;\n",
       "      border-left-color: var(--fill-color);\n",
       "      border-top-color: var(--fill-color);\n",
       "    }\n",
       "    30% {\n",
       "      border-color: transparent;\n",
       "      border-left-color: var(--fill-color);\n",
       "      border-top-color: var(--fill-color);\n",
       "      border-right-color: var(--fill-color);\n",
       "    }\n",
       "    40% {\n",
       "      border-color: transparent;\n",
       "      border-right-color: var(--fill-color);\n",
       "      border-top-color: var(--fill-color);\n",
       "    }\n",
       "    60% {\n",
       "      border-color: transparent;\n",
       "      border-right-color: var(--fill-color);\n",
       "    }\n",
       "    80% {\n",
       "      border-color: transparent;\n",
       "      border-right-color: var(--fill-color);\n",
       "      border-bottom-color: var(--fill-color);\n",
       "    }\n",
       "    90% {\n",
       "      border-color: transparent;\n",
       "      border-bottom-color: var(--fill-color);\n",
       "    }\n",
       "  }\n",
       "</style>\n",
       "\n",
       "  <script>\n",
       "    async function quickchart(key) {\n",
       "      const quickchartButtonEl =\n",
       "        document.querySelector('#' + key + ' button');\n",
       "      quickchartButtonEl.disabled = true;  // To prevent multiple clicks.\n",
       "      quickchartButtonEl.classList.add('colab-df-spinner');\n",
       "      try {\n",
       "        const charts = await google.colab.kernel.invokeFunction(\n",
       "            'suggestCharts', [key], {});\n",
       "      } catch (error) {\n",
       "        console.error('Error during call to suggestCharts:', error);\n",
       "      }\n",
       "      quickchartButtonEl.classList.remove('colab-df-spinner');\n",
       "      quickchartButtonEl.classList.add('colab-df-quickchart-complete');\n",
       "    }\n",
       "    (() => {\n",
       "      let quickchartButtonEl =\n",
       "        document.querySelector('#df-ecd93c0a-360f-42cd-b5b4-60ead286b5ec button');\n",
       "      quickchartButtonEl.style.display =\n",
       "        google.colab.kernel.accessAllowed ? 'block' : 'none';\n",
       "    })();\n",
       "  </script>\n",
       "</div>\n",
       "    </div>\n",
       "  </div>\n"
      ],
      "text/plain": [
       "   Subsegmento    Region      Edad      Renta  Antiguedad  Internauta  \\\n",
       "1     5.075174  2.564949  3.828641  13.317101    4.234107         0.0   \n",
       "2     5.135798  2.564949  3.806662  13.741978    3.178054         0.0   \n",
       "3     5.017280  2.564949  3.828641  12.057845    4.897840         0.0   \n",
       "4     5.135798  2.564949  3.828641  13.598908    4.753590         0.0   \n",
       "5     5.135798  2.564949  3.850148  13.469725    4.204693         0.0   \n",
       "\n",
       "   Adicional  Dualidad  Monoproducto  Ctacte  ...  ColL2CC_T01  ColMx_T01  \\\n",
       "1        0.0       0.0           0.0     0.0  ...     0.000000        0.0   \n",
       "2        0.0       0.0           0.0     0.0  ...     0.000000        0.0   \n",
       "3        0.0       0.0           0.0     0.0  ...     0.000000        0.0   \n",
       "4        0.0       0.0           0.0     0.0  ...    10.374366        0.0   \n",
       "5        0.0       0.0           0.0     0.0  ...     0.000000        0.0   \n",
       "\n",
       "   PagoNac_T01  PagoInt_T01  EeccNac_T01  EeccInt_T01  UsoL1_T01  UsoL2_T01  \\\n",
       "1    12.611538          0.0    12.276494          0.0  12.276494  11.333751   \n",
       "2    12.286158          0.0    11.937801          0.0   8.909235   0.000000   \n",
       "3    11.002100          0.0    12.516355          0.0  12.516355   9.267760   \n",
       "4    12.516952          0.0    12.427463          0.0  11.229753  12.842073   \n",
       "5    10.485703          0.0    10.485703          0.0  12.158761  10.843436   \n",
       "\n",
       "   UsoLI_T01  target  \n",
       "1        0.0     0.0  \n",
       "2        0.0     0.0  \n",
       "3        0.0     0.0  \n",
       "4        0.0     0.0  \n",
       "5        0.0     0.0  \n",
       "\n",
       "[5 rows x 559 columns]"
      ]
     },
     "execution_count": 43,
     "metadata": {},
     "output_type": "execute_result"
    }
   ],
   "source": [
    "df3=df2\n",
    "df3.head()"
   ]
  },
  {
   "cell_type": "code",
   "execution_count": null,
   "metadata": {
    "colab": {
     "base_uri": "https://localhost:8080/"
    },
    "id": "B1nXMw8l1pni",
    "outputId": "d84788d0-a6e7-41a4-f417-cc46979ddfc4"
   },
   "outputs": [
    {
     "data": {
      "text/plain": [
       "0"
      ]
     },
     "execution_count": 44,
     "metadata": {},
     "output_type": "execute_result"
    }
   ],
   "source": [
    "df_pca.isnull().sum().sum()"
   ]
  },
  {
   "cell_type": "code",
   "execution_count": null,
   "metadata": {
    "id": "EDxF50ZpiY2t"
   },
   "outputs": [],
   "source": [
    "# Se crea primero el objeto Standard Scaler\n",
    "#scaler = StandardScaler()\n",
    "\n",
    "# Finalmente aplicamos el escalamiento\n",
    "#array_scaler = scaler.fit_transform(df1)"
   ]
  },
  {
   "cell_type": "code",
   "execution_count": null,
   "metadata": {
    "id": "umFpkmDqihN5"
   },
   "outputs": [],
   "source": [
    "#Corroboramos que dio resultado\n",
    "#pd.DataFrame(array_scaler,columns=df1.columns)"
   ]
  },
  {
   "cell_type": "markdown",
   "metadata": {
    "id": "UG3YY_KfapxU"
   },
   "source": [
    "###Reduccion de dimension  PCA  (df_pca)\n",
    "Componentes principales PCA"
   ]
  },
  {
   "cell_type": "markdown",
   "metadata": {
    "id": "Dtfl3s458_V4"
   },
   "source": [
    "Vamos a ver la variabilidad de los componentes , nos damos cuenta que el aporte de la variabilidad es bajo [0.085015792, 0.0631413601, 0.0517427005, 0.036349639, 0.0310963137, 0.0233889333]de cada componente\n"
   ]
  },
  {
   "cell_type": "code",
   "execution_count": null,
   "metadata": {
    "colab": {
     "base_uri": "https://localhost:8080/",
     "height": 1000
    },
    "id": "-ilZxehYAnLW",
    "outputId": "f3c52e01-bfa7-49b3-b744-5acd6945a308"
   },
   "outputs": [
    {
     "name": "stdout",
     "output_type": "stream",
     "text": [
      "Varianza explicada por cada componente principal:\n",
      "[1.50938108e-01 9.74437981e-02 8.49539586e-02 6.04068845e-02\n",
      " 4.23892199e-02 2.82302572e-02 2.62163216e-02 2.38976314e-02\n",
      " 1.82534042e-02 1.72357228e-02 1.52263397e-02 1.44432512e-02\n",
      " 1.35640189e-02 1.17051887e-02 1.12202189e-02 9.92971710e-03\n",
      " 9.44269750e-03 8.88734854e-03 8.82899422e-03 8.39854526e-03\n",
      " 8.22124549e-03 8.01586701e-03 7.76230088e-03 7.70269430e-03\n",
      " 7.50943575e-03 7.17499235e-03 6.94333400e-03 6.64666926e-03\n",
      " 6.29224083e-03 6.03774055e-03 5.61578807e-03 5.29854847e-03\n",
      " 5.11606568e-03 4.80139468e-03 4.69163951e-03 4.54098855e-03\n",
      " 4.40660631e-03 4.21492801e-03 4.14994381e-03 3.96832357e-03\n",
      " 3.80953188e-03 3.70806133e-03 3.64356607e-03 3.61681402e-03\n",
      " 3.52721495e-03 3.44341668e-03 3.37776223e-03 3.27521815e-03\n",
      " 3.19605789e-03 3.12441475e-03 3.05676577e-03 2.98288371e-03\n",
      " 2.86288258e-03 2.80375650e-03 2.76190861e-03 2.64585314e-03\n",
      " 2.59170590e-03 2.57212241e-03 2.50535387e-03 2.48193420e-03\n",
      " 2.46509675e-03 2.43453598e-03 2.35219286e-03 2.33664096e-03\n",
      " 2.30376813e-03 2.27915594e-03 2.22620920e-03 2.19898361e-03\n",
      " 2.16288170e-03 2.15341466e-03 2.13768314e-03 2.08515875e-03\n",
      " 2.06044675e-03 2.03968561e-03 2.01527730e-03 2.00761433e-03\n",
      " 1.98411805e-03 1.93300182e-03 1.89897409e-03 1.86106700e-03\n",
      " 1.85576435e-03 1.83722698e-03 1.82743368e-03 1.80214341e-03\n",
      " 1.77953941e-03 1.75790668e-03 1.73635688e-03 1.71971749e-03\n",
      " 1.70390997e-03 1.67853723e-03 1.66391602e-03 1.59198833e-03\n",
      " 1.55622563e-03 1.54098877e-03 1.50755099e-03 1.49815190e-03\n",
      " 1.46703360e-03 1.44226919e-03 1.42166421e-03 1.41145908e-03\n",
      " 1.37989932e-03 1.37179949e-03 1.35628629e-03 1.33824898e-03\n",
      " 1.31017501e-03 1.29524261e-03 1.27344005e-03 1.25306837e-03\n",
      " 1.23008568e-03 1.22754834e-03 1.21651011e-03 1.19219045e-03\n",
      " 1.17287628e-03 1.15970194e-03 1.14262823e-03 1.12605882e-03\n",
      " 1.11950402e-03 1.11073001e-03 1.09224315e-03 1.08246501e-03\n",
      " 1.06631967e-03 1.04292221e-03 1.02879774e-03 1.02078771e-03\n",
      " 1.00770254e-03 9.97643432e-04 9.71674127e-04 9.63474729e-04\n",
      " 9.57397554e-04 9.51026141e-04 9.38747953e-04 9.32457001e-04\n",
      " 9.24964804e-04 9.19074365e-04 9.05052911e-04 9.00761539e-04\n",
      " 8.85041207e-04 8.74196365e-04 8.65363768e-04 8.55044174e-04\n",
      " 8.45106290e-04 8.31399735e-04 8.28663241e-04 8.21107480e-04\n",
      " 8.16473722e-04 8.09854340e-04 7.98030861e-04 7.85020993e-04\n",
      " 7.84639670e-04 7.80990609e-04 7.73070865e-04 7.62195392e-04\n",
      " 7.47880145e-04 7.34397881e-04 7.26595865e-04 7.12187333e-04\n",
      " 7.07049543e-04 6.89376528e-04 6.79396857e-04 6.63448862e-04\n",
      " 6.54281425e-04 6.44047557e-04 6.36325940e-04 6.30305231e-04\n",
      " 6.28819681e-04 6.21952049e-04 6.09837385e-04 5.99479878e-04\n",
      " 5.88286714e-04 5.68884587e-04 5.60696100e-04 5.28401100e-04\n",
      " 5.13867069e-04 4.98872066e-04 4.95609752e-04 4.86185071e-04\n",
      " 4.81226265e-04 4.76096364e-04 4.62654916e-04 4.08643749e-04\n",
      " 4.00262401e-04 3.80927889e-04 3.78892071e-04 3.69026625e-04\n",
      " 3.64278104e-04 3.55181184e-04 3.53589859e-04 3.48838173e-04\n",
      " 3.40885909e-04 3.34513409e-04 3.27599789e-04 3.25519946e-04\n",
      " 3.19272426e-04 3.11093310e-04 3.08592254e-04 3.05701805e-04\n",
      " 3.00937475e-04 2.94036985e-04 2.91161531e-04 2.89210444e-04\n",
      " 2.84653684e-04 2.82450829e-04 2.80629687e-04 2.76374423e-04\n",
      " 2.69864514e-04 2.64950979e-04 2.58751665e-04 2.56674466e-04\n",
      " 2.54378164e-04 2.47620312e-04 2.44822740e-04 2.44002191e-04\n",
      " 2.38112810e-04 2.31014218e-04 2.26326137e-04 2.19420429e-04\n",
      " 2.12913223e-04 2.06979323e-04 1.86830535e-04 1.61901474e-04\n",
      " 1.26636540e-04 2.31699259e-05 3.52449061e-06 2.28045740e-06\n",
      " 3.95295214e-07 2.97672931e-32 7.99125914e-33 4.54160639e-33\n",
      " 3.45066809e-33 2.98047815e-33 2.30824441e-33 1.70665551e-33\n",
      " 1.10550669e-33 8.43338740e-34 8.43338740e-34 8.43338740e-34\n",
      " 8.43338740e-34 8.43338740e-34 8.43338740e-34 8.43338740e-34\n",
      " 8.43338740e-34 8.43338740e-34 8.43338740e-34 8.43338740e-34\n",
      " 8.43338740e-34 8.43338740e-34 8.43338740e-34 8.43338740e-34\n",
      " 8.43338740e-34 8.43338740e-34 8.43338740e-34 8.43338740e-34\n",
      " 8.43338740e-34 8.43338740e-34 8.43338740e-34 8.43338740e-34\n",
      " 8.43338740e-34 8.43338740e-34 8.43338740e-34 8.43338740e-34\n",
      " 8.43338740e-34 8.43338740e-34 8.43338740e-34 8.43338740e-34\n",
      " 8.43338740e-34 8.43338740e-34 8.43338740e-34 8.43338740e-34\n",
      " 8.43338740e-34 8.43338740e-34 8.43338740e-34 8.43338740e-34\n",
      " 8.43338740e-34 8.43338740e-34 8.43338740e-34 8.43338740e-34\n",
      " 8.43338740e-34 8.43338740e-34 8.43338740e-34 8.43338740e-34\n",
      " 8.43338740e-34 8.43338740e-34 8.43338740e-34 8.43338740e-34\n",
      " 8.43338740e-34 8.43338740e-34 8.43338740e-34 8.43338740e-34\n",
      " 8.43338740e-34 8.43338740e-34 8.43338740e-34 8.43338740e-34\n",
      " 8.43338740e-34 8.43338740e-34 8.43338740e-34 8.43338740e-34\n",
      " 8.43338740e-34 8.43338740e-34 8.43338740e-34 8.43338740e-34\n",
      " 8.43338740e-34 8.43338740e-34 8.43338740e-34 8.43338740e-34\n",
      " 8.43338740e-34 8.43338740e-34 8.43338740e-34 8.43338740e-34\n",
      " 8.43338740e-34 8.43338740e-34 8.43338740e-34 8.43338740e-34\n",
      " 8.43338740e-34 8.43338740e-34 8.43338740e-34 8.43338740e-34\n",
      " 8.43338740e-34 8.43338740e-34 8.43338740e-34 8.43338740e-34\n",
      " 8.43338740e-34 8.43338740e-34 8.43338740e-34 8.43338740e-34\n",
      " 8.43338740e-34 8.43338740e-34 8.43338740e-34 8.43338740e-34\n",
      " 8.43338740e-34 8.43338740e-34 8.43338740e-34 8.43338740e-34\n",
      " 8.43338740e-34 8.43338740e-34 8.43338740e-34 8.43338740e-34\n",
      " 8.43338740e-34 8.43338740e-34 8.43338740e-34 8.43338740e-34\n",
      " 8.43338740e-34 8.43338740e-34 8.43338740e-34 8.43338740e-34\n",
      " 8.43338740e-34 8.43338740e-34 8.43338740e-34 8.43338740e-34\n",
      " 8.43338740e-34 8.43338740e-34 8.43338740e-34 8.43338740e-34\n",
      " 8.43338740e-34 8.43338740e-34 8.43338740e-34 8.43338740e-34\n",
      " 8.43338740e-34 8.43338740e-34 8.43338740e-34 8.43338740e-34\n",
      " 8.43338740e-34 8.43338740e-34 8.43338740e-34 8.43338740e-34\n",
      " 8.43338740e-34 8.43338740e-34 8.43338740e-34 8.43338740e-34\n",
      " 8.43338740e-34 8.43338740e-34 8.43338740e-34 8.43338740e-34\n",
      " 8.43338740e-34 8.43338740e-34 8.43338740e-34 8.43338740e-34\n",
      " 8.43338740e-34 8.43338740e-34 8.43338740e-34 8.43338740e-34\n",
      " 8.43338740e-34 8.43338740e-34 8.43338740e-34 8.43338740e-34\n",
      " 8.43338740e-34 8.43338740e-34 8.43338740e-34 8.43338740e-34\n",
      " 8.43338740e-34 8.43338740e-34 8.43338740e-34 8.43338740e-34\n",
      " 8.43338740e-34 8.43338740e-34 8.43338740e-34 8.43338740e-34\n",
      " 8.43338740e-34 8.43338740e-34 8.43338740e-34 8.43338740e-34\n",
      " 8.43338740e-34 8.43338740e-34 8.43338740e-34 8.43338740e-34\n",
      " 8.43338740e-34 8.43338740e-34 8.43338740e-34 8.43338740e-34\n",
      " 8.43338740e-34 8.43338740e-34 8.43338740e-34 8.43338740e-34\n",
      " 8.43338740e-34 8.43338740e-34 8.43338740e-34 8.43338740e-34\n",
      " 8.43338740e-34 8.43338740e-34 8.43338740e-34 8.43338740e-34\n",
      " 8.43338740e-34 8.43338740e-34 8.43338740e-34 8.43338740e-34\n",
      " 8.43338740e-34 8.43338740e-34 8.43338740e-34 8.43338740e-34\n",
      " 8.43338740e-34 8.43338740e-34 8.43338740e-34 8.43338740e-34\n",
      " 8.43338740e-34 8.43338740e-34 8.43338740e-34 8.43338740e-34\n",
      " 8.43338740e-34 8.43338740e-34 8.43338740e-34 8.43338740e-34\n",
      " 8.43338740e-34 8.43338740e-34 8.43338740e-34 8.43338740e-34\n",
      " 8.43338740e-34 8.43338740e-34 8.43338740e-34 8.43338740e-34\n",
      " 8.43338740e-34 8.43338740e-34 8.43338740e-34 8.43338740e-34\n",
      " 8.43338740e-34 8.43338740e-34 8.43338740e-34 8.43338740e-34\n",
      " 8.43338740e-34 8.43338740e-34 8.43338740e-34 8.43338740e-34\n",
      " 8.43338740e-34 8.43338740e-34 8.43338740e-34 8.43338740e-34\n",
      " 8.43338740e-34 8.43338740e-34 8.43338740e-34 8.43338740e-34\n",
      " 8.43338740e-34 8.43338740e-34 8.43338740e-34 8.43338740e-34\n",
      " 8.43338740e-34 8.43338740e-34 8.43338740e-34 8.43338740e-34\n",
      " 8.43338740e-34 8.43338740e-34 8.43338740e-34 8.43338740e-34\n",
      " 8.43338740e-34 8.43338740e-34 8.43338740e-34 8.43338740e-34\n",
      " 8.43338740e-34 8.43338740e-34 8.43338740e-34 8.43338740e-34\n",
      " 8.43338740e-34 8.43338740e-34 8.43338740e-34 8.43338740e-34\n",
      " 8.43338740e-34 8.43338740e-34 8.43338740e-34 8.43338740e-34\n",
      " 8.43338740e-34 8.43338740e-34 8.43338740e-34 8.43338740e-34\n",
      " 8.43338740e-34 8.43338740e-34 8.43338740e-34 8.43338740e-34\n",
      " 8.43338740e-34 8.43338740e-34 8.43338740e-34 8.43338740e-34\n",
      " 8.43338740e-34 8.43338740e-34 8.43338740e-34 8.43338740e-34\n",
      " 8.43338740e-34 8.43338740e-34 8.43338740e-34 8.43338740e-34\n",
      " 8.43338740e-34 8.43338740e-34 8.43338740e-34 8.43338740e-34\n",
      " 8.43338740e-34 8.43338740e-34 8.43338740e-34 8.43338740e-34\n",
      " 8.43338740e-34 8.43338740e-34 8.43338740e-34 8.43338740e-34\n",
      " 8.43338740e-34 8.43338740e-34 8.43338740e-34 8.43338740e-34\n",
      " 8.43338740e-34 8.43338740e-34 8.43338740e-34 8.43338740e-34\n",
      " 8.43338740e-34 8.43338740e-34 8.43338740e-34 8.43338740e-34\n",
      " 8.43338740e-34 8.43338740e-34 8.43338740e-34 8.43338740e-34\n",
      " 8.43338740e-34 8.43338740e-34 8.43338740e-34 8.43338740e-34\n",
      " 8.43338740e-34 8.43338740e-34 8.43338740e-34 8.43338740e-34\n",
      " 8.43338740e-34 8.43338740e-34 8.43338740e-34 6.33772596e-34\n",
      " 5.66090477e-34 2.29302218e-34 3.12162745e-35]\n"
     ]
    },
    {
     "data": {
      "image/png": "[encoded data removed]",
      "text/plain": [
       "<Figure size 640x480 with 1 Axes>"
      ]
     },
     "metadata": {},
     "output_type": "display_data"
    }
   ],
   "source": [
    "# Paso 1: Escalar los datos\n",
    "scaler = StandardScaler()\n",
    "X_scaled = scaler.fit_transform(df_pca)\n",
    "\n",
    "# Paso 2: Inicializar el PCA\n",
    "pca = PCA()\n",
    "\n",
    "# Paso 3: Ajustar el PCA a tus datos escalados\n",
    "principal_components = pca.fit_transform(X_scaled)\n",
    "\n",
    "# Paso 4: Crear un DataFrame con los resultados del PCA\n",
    "# Cada columna representará un componente principal\n",
    "columns = [f'PC{i+1}' for i in range(principal_components.shape[1])]\n",
    "df_pca = pd.DataFrame(data=principal_components, columns=columns)\n",
    "\n",
    "# Opcional: Explorar la varianza explicada por cada componente principal\n",
    "explained_variance_ratio = pca.explained_variance_ratio_\n",
    "print(\"Varianza explicada por cada componente principal:\")\n",
    "print(explained_variance_ratio)\n",
    "\n",
    "# Graficar la varianza explicada acumulativa\n",
    "import matplotlib.pyplot as plt\n",
    "\n",
    "cumulative_variance_ratio = explained_variance_ratio.cumsum()\n",
    "plt.plot(range(1, len(cumulative_variance_ratio) + 1), cumulative_variance_ratio, marker='o')\n",
    "plt.xlabel('Número de Componentes Principales')\n",
    "plt.ylabel('Varianza Explicada Acumulativa')\n",
    "plt.show()\n"
   ]
  },
  {
   "cell_type": "markdown",
   "metadata": {
    "id": "pONB_6Tz-0Ld"
   },
   "source": [
    "Se visualiza que  la varianza explicada acumulativa muestra los  componentes principales cuando se produce la reducción de dimensionalidad, reteniendo la mayor cantidad posible de información en los datos.En los 64 componentes en adelantes nos entrega desde el 80 porciento de variabilidad. Cada punto en la gráfica representa la fracción acumulativa de la varianza total explicada por los primeros n componentes principales."
   ]
  },
  {
   "cell_type": "code",
   "execution_count": null,
   "metadata": {
    "id": "9cupCPzSn2Gg"
   },
   "outputs": [],
   "source": [
    "array_varianza=pca.explained_variance_ratio_"
   ]
  },
  {
   "cell_type": "code",
   "execution_count": null,
   "metadata": {
    "id": "raaon9sdoODi"
   },
   "outputs": [],
   "source": [
    "array_pca_sum=np.cumsum(array_varianza)"
   ]
  },
  {
   "cell_type": "code",
   "execution_count": null,
   "metadata": {
    "colab": {
     "base_uri": "https://localhost:8080/"
    },
    "id": "Jgtr7q8ooRO1",
    "outputId": "b9330335-4c87-49f9-8202-debe8955a87b"
   },
   "outputs": [
    {
     "data": {
      "text/plain": [
       "(array([63, 64, 65, 66, 67, 68, 69, 70, 71, 72, 73, 74, 75, 76, 77, 78, 79,\n",
       "        80, 81, 82, 83, 84, 85, 86, 87]),)"
      ]
     },
     "execution_count": 48,
     "metadata": {},
     "output_type": "execute_result"
    }
   ],
   "source": [
    "np.where((array_pca_sum>0.85) & (array_pca_sum <0.9))"
   ]
  },
  {
   "cell_type": "markdown",
   "metadata": {
    "id": "h-4fizSFoYyP"
   },
   "source": [
    "Con este codigo extraemos la cantidad de componentes que me entregue sobre el  85 porciento de varianza es 64.."
   ]
  },
  {
   "cell_type": "markdown",
   "metadata": {
    "id": "n50oem0YogiF"
   },
   "source": [
    "#N componente elegido"
   ]
  },
  {
   "cell_type": "code",
   "execution_count": null,
   "metadata": {
    "id": "vztlR6EMofs0"
   },
   "outputs": [],
   "source": [
    "n_componentes= 64"
   ]
  },
  {
   "cell_type": "code",
   "execution_count": null,
   "metadata": {
    "id": "hunG3pwWJWOP"
   },
   "outputs": [],
   "source": [
    "# Inicializar el PCA con 64 componentes principales\n",
    "pca = PCA(n_components=64)\n",
    "principal_components = pca.fit_transform(X_scaled)\n",
    "\n",
    "# Crear un nuevo DataFrame con los 124 componentes principales\n",
    "columns = [f'PC{i+1}' for i in range(64)]\n",
    "df_pca = pd.DataFrame(data=principal_components, columns=columns)\n"
   ]
  },
  {
   "cell_type": "code",
   "execution_count": null,
   "metadata": {
    "colab": {
     "base_uri": "https://localhost:8080/",
     "height": 255
    },
    "id": "7ANxDOxxomR6",
    "outputId": "4bd6fae2-3183-4009-c933-c6ef32e1e1db"
   },
   "outputs": [
    {
     "data": {
      "text/html": [
       "\n",
       "  <div id=\"df-8971f7ba-3634-4362-a72e-575b8baad598\" class=\"colab-df-container\">\n",
       "    <div>\n",
       "<style scoped>\n",
       "    .dataframe tbody tr th:only-of-type {\n",
       "        vertical-align: middle;\n",
       "    }\n",
       "\n",
       "    .dataframe tbody tr th {\n",
       "        vertical-align: top;\n",
       "    }\n",
       "\n",
       "    .dataframe thead th {\n",
       "        text-align: right;\n",
       "    }\n",
       "</style>\n",
       "<table border=\"1\" class=\"dataframe\">\n",
       "  <thead>\n",
       "    <tr style=\"text-align: right;\">\n",
       "      <th></th>\n",
       "      <th>PC1</th>\n",
       "      <th>PC2</th>\n",
       "      <th>PC3</th>\n",
       "      <th>PC4</th>\n",
       "      <th>PC5</th>\n",
       "      <th>PC6</th>\n",
       "      <th>PC7</th>\n",
       "      <th>PC8</th>\n",
       "      <th>PC9</th>\n",
       "      <th>PC10</th>\n",
       "      <th>...</th>\n",
       "      <th>PC55</th>\n",
       "      <th>PC56</th>\n",
       "      <th>PC57</th>\n",
       "      <th>PC58</th>\n",
       "      <th>PC59</th>\n",
       "      <th>PC60</th>\n",
       "      <th>PC61</th>\n",
       "      <th>PC62</th>\n",
       "      <th>PC63</th>\n",
       "      <th>PC64</th>\n",
       "    </tr>\n",
       "  </thead>\n",
       "  <tbody>\n",
       "    <tr>\n",
       "      <th>0</th>\n",
       "      <td>-10.550903</td>\n",
       "      <td>4.420569</td>\n",
       "      <td>2.425805</td>\n",
       "      <td>-4.331978</td>\n",
       "      <td>-3.268900</td>\n",
       "      <td>0.138334</td>\n",
       "      <td>-1.086155</td>\n",
       "      <td>-1.230266</td>\n",
       "      <td>3.598885</td>\n",
       "      <td>0.454703</td>\n",
       "      <td>...</td>\n",
       "      <td>-0.739356</td>\n",
       "      <td>-0.193540</td>\n",
       "      <td>-0.176529</td>\n",
       "      <td>-0.722906</td>\n",
       "      <td>-0.448156</td>\n",
       "      <td>-0.235744</td>\n",
       "      <td>0.112003</td>\n",
       "      <td>-0.539258</td>\n",
       "      <td>0.641463</td>\n",
       "      <td>-0.349264</td>\n",
       "    </tr>\n",
       "    <tr>\n",
       "      <th>1</th>\n",
       "      <td>5.744981</td>\n",
       "      <td>2.407275</td>\n",
       "      <td>-7.812355</td>\n",
       "      <td>7.095059</td>\n",
       "      <td>-2.770124</td>\n",
       "      <td>1.051791</td>\n",
       "      <td>-0.457901</td>\n",
       "      <td>1.764580</td>\n",
       "      <td>-0.988548</td>\n",
       "      <td>-0.254081</td>\n",
       "      <td>...</td>\n",
       "      <td>0.824638</td>\n",
       "      <td>0.313915</td>\n",
       "      <td>1.074626</td>\n",
       "      <td>0.680373</td>\n",
       "      <td>-0.179096</td>\n",
       "      <td>0.313974</td>\n",
       "      <td>-1.349297</td>\n",
       "      <td>1.160430</td>\n",
       "      <td>0.690218</td>\n",
       "      <td>0.521041</td>\n",
       "    </tr>\n",
       "    <tr>\n",
       "      <th>2</th>\n",
       "      <td>-9.601750</td>\n",
       "      <td>2.346713</td>\n",
       "      <td>1.709098</td>\n",
       "      <td>-2.349919</td>\n",
       "      <td>0.562374</td>\n",
       "      <td>0.399310</td>\n",
       "      <td>-1.392577</td>\n",
       "      <td>-3.704566</td>\n",
       "      <td>-0.196322</td>\n",
       "      <td>2.297355</td>\n",
       "      <td>...</td>\n",
       "      <td>-1.159169</td>\n",
       "      <td>0.257362</td>\n",
       "      <td>-0.037932</td>\n",
       "      <td>-0.794339</td>\n",
       "      <td>-0.970499</td>\n",
       "      <td>0.251965</td>\n",
       "      <td>-0.068080</td>\n",
       "      <td>0.216669</td>\n",
       "      <td>-0.784812</td>\n",
       "      <td>-0.204544</td>\n",
       "    </tr>\n",
       "    <tr>\n",
       "      <th>3</th>\n",
       "      <td>-10.356276</td>\n",
       "      <td>3.915120</td>\n",
       "      <td>-10.232563</td>\n",
       "      <td>-3.419458</td>\n",
       "      <td>0.578884</td>\n",
       "      <td>-3.350628</td>\n",
       "      <td>-1.773208</td>\n",
       "      <td>0.277093</td>\n",
       "      <td>3.308837</td>\n",
       "      <td>2.777349</td>\n",
       "      <td>...</td>\n",
       "      <td>0.715480</td>\n",
       "      <td>0.177646</td>\n",
       "      <td>-0.176828</td>\n",
       "      <td>0.191263</td>\n",
       "      <td>-0.287764</td>\n",
       "      <td>0.482939</td>\n",
       "      <td>-0.133680</td>\n",
       "      <td>0.328099</td>\n",
       "      <td>-0.043511</td>\n",
       "      <td>-0.185088</td>\n",
       "    </tr>\n",
       "    <tr>\n",
       "      <th>4</th>\n",
       "      <td>-0.241064</td>\n",
       "      <td>-1.980013</td>\n",
       "      <td>-2.794786</td>\n",
       "      <td>-4.962001</td>\n",
       "      <td>0.451392</td>\n",
       "      <td>-0.728487</td>\n",
       "      <td>0.942430</td>\n",
       "      <td>0.720349</td>\n",
       "      <td>0.114483</td>\n",
       "      <td>2.682895</td>\n",
       "      <td>...</td>\n",
       "      <td>-1.111226</td>\n",
       "      <td>-1.411859</td>\n",
       "      <td>1.367522</td>\n",
       "      <td>-0.545864</td>\n",
       "      <td>2.013827</td>\n",
       "      <td>-0.513514</td>\n",
       "      <td>-0.033909</td>\n",
       "      <td>-0.331501</td>\n",
       "      <td>1.247163</td>\n",
       "      <td>-0.435110</td>\n",
       "    </tr>\n",
       "  </tbody>\n",
       "</table>\n",
       "<p>5 rows × 64 columns</p>\n",
       "</div>\n",
       "    <div class=\"colab-df-buttons\">\n",
       "\n",
       "  <div class=\"colab-df-container\">\n",
       "    <button class=\"colab-df-convert\" onclick=\"convertToInteractive('df-8971f7ba-3634-4362-a72e-575b8baad598')\"\n",
       "            title=\"Convert this dataframe to an interactive table.\"\n",
       "            style=\"display:none;\">\n",
       "\n",
       "  <svg xmlns=\"http://www.w3.org/2000/svg\" height=\"24px\" viewBox=\"0 -960 960 960\">\n",
       "    <path d=\"M120-120v-720h720v720H120Zm60-500h600v-160H180v160Zm220 220h160v-160H400v160Zm0 220h160v-160H400v160ZM180-400h160v-160H180v160Zm440 0h160v-160H620v160ZM180-180h160v-160H180v160Zm440 0h160v-160H620v160Z\"/>\n",
       "  </svg>\n",
       "    </button>\n",
       "\n",
       "  <style>\n",
       "    .colab-df-container {\n",
       "      display:flex;\n",
       "      gap: 12px;\n",
       "    }\n",
       "\n",
       "    .colab-df-convert {\n",
       "      background-color: #E8F0FE;\n",
       "      border: none;\n",
       "      border-radius: 50%;\n",
       "      cursor: pointer;\n",
       "      display: none;\n",
       "      fill: #1967D2;\n",
       "      height: 32px;\n",
       "      padding: 0 0 0 0;\n",
       "      width: 32px;\n",
       "    }\n",
       "\n",
       "    .colab-df-convert:hover {\n",
       "      background-color: #E2EBFA;\n",
       "      box-shadow: 0px 1px 2px rgba(60, 64, 67, 0.3), 0px 1px 3px 1px rgba(60, 64, 67, 0.15);\n",
       "      fill: #174EA6;\n",
       "    }\n",
       "\n",
       "    .colab-df-buttons div {\n",
       "      margin-bottom: 4px;\n",
       "    }\n",
       "\n",
       "    [theme=dark] .colab-df-convert {\n",
       "      background-color: #3B4455;\n",
       "      fill: #D2E3FC;\n",
       "    }\n",
       "\n",
       "    [theme=dark] .colab-df-convert:hover {\n",
       "      background-color: #434B5C;\n",
       "      box-shadow: 0px 1px 3px 1px rgba(0, 0, 0, 0.15);\n",
       "      filter: drop-shadow(0px 1px 2px rgba(0, 0, 0, 0.3));\n",
       "      fill: #FFFFFF;\n",
       "    }\n",
       "  </style>\n",
       "\n",
       "    <script>\n",
       "      const buttonEl =\n",
       "        document.querySelector('#df-8971f7ba-3634-4362-a72e-575b8baad598 button.colab-df-convert');\n",
       "      buttonEl.style.display =\n",
       "        google.colab.kernel.accessAllowed ? 'block' : 'none';\n",
       "\n",
       "      async function convertToInteractive(key) {\n",
       "        const element = document.querySelector('#df-8971f7ba-3634-4362-a72e-575b8baad598');\n",
       "        const dataTable =\n",
       "          await google.colab.kernel.invokeFunction('convertToInteractive',\n",
       "                                                    [key], {});\n",
       "        if (!dataTable) return;\n",
       "\n",
       "        const docLinkHtml = 'Like what you see? Visit the ' +\n",
       "          '<a target=\"_blank\" href=https://colab.research.google.com/notebooks/data_table.ipynb>data table notebook</a>'\n",
       "          + ' to learn more about interactive tables.';\n",
       "        element.innerHTML = '';\n",
       "        dataTable['output_type'] = 'display_data';\n",
       "        await google.colab.output.renderOutput(dataTable, element);\n",
       "        const docLink = document.createElement('div');\n",
       "        docLink.innerHTML = docLinkHtml;\n",
       "        element.appendChild(docLink);\n",
       "      }\n",
       "    </script>\n",
       "  </div>\n",
       "\n",
       "\n",
       "<div id=\"df-c1428b49-c5df-429c-aebb-c03a603fab20\">\n",
       "  <button class=\"colab-df-quickchart\" onclick=\"quickchart('df-c1428b49-c5df-429c-aebb-c03a603fab20')\"\n",
       "            title=\"Suggest charts\"\n",
       "            style=\"display:none;\">\n",
       "\n",
       "<svg xmlns=\"http://www.w3.org/2000/svg\" height=\"24px\"viewBox=\"0 0 24 24\"\n",
       "     width=\"24px\">\n",
       "    <g>\n",
       "        <path d=\"M19 3H5c-1.1 0-2 .9-2 2v14c0 1.1.9 2 2 2h14c1.1 0 2-.9 2-2V5c0-1.1-.9-2-2-2zM9 17H7v-7h2v7zm4 0h-2V7h2v10zm4 0h-2v-4h2v4z\"/>\n",
       "    </g>\n",
       "</svg>\n",
       "  </button>\n",
       "\n",
       "<style>\n",
       "  .colab-df-quickchart {\n",
       "      --bg-color: #E8F0FE;\n",
       "      --fill-color: #1967D2;\n",
       "      --hover-bg-color: #E2EBFA;\n",
       "      --hover-fill-color: #174EA6;\n",
       "      --disabled-fill-color: #AAA;\n",
       "      --disabled-bg-color: #DDD;\n",
       "  }\n",
       "\n",
       "  [theme=dark] .colab-df-quickchart {\n",
       "      --bg-color: #3B4455;\n",
       "      --fill-color: #D2E3FC;\n",
       "      --hover-bg-color: #434B5C;\n",
       "      --hover-fill-color: #FFFFFF;\n",
       "      --disabled-bg-color: #3B4455;\n",
       "      --disabled-fill-color: #666;\n",
       "  }\n",
       "\n",
       "  .colab-df-quickchart {\n",
       "    background-color: var(--bg-color);\n",
       "    border: none;\n",
       "    border-radius: 50%;\n",
       "    cursor: pointer;\n",
       "    display: none;\n",
       "    fill: var(--fill-color);\n",
       "    height: 32px;\n",
       "    padding: 0;\n",
       "    width: 32px;\n",
       "  }\n",
       "\n",
       "  .colab-df-quickchart:hover {\n",
       "    background-color: var(--hover-bg-color);\n",
       "    box-shadow: 0 1px 2px rgba(60, 64, 67, 0.3), 0 1px 3px 1px rgba(60, 64, 67, 0.15);\n",
       "    fill: var(--button-hover-fill-color);\n",
       "  }\n",
       "\n",
       "  .colab-df-quickchart-complete:disabled,\n",
       "  .colab-df-quickchart-complete:disabled:hover {\n",
       "    background-color: var(--disabled-bg-color);\n",
       "    fill: var(--disabled-fill-color);\n",
       "    box-shadow: none;\n",
       "  }\n",
       "\n",
       "  .colab-df-spinner {\n",
       "    border: 2px solid var(--fill-color);\n",
       "    border-color: transparent;\n",
       "    border-bottom-color: var(--fill-color);\n",
       "    animation:\n",
       "      spin 1s steps(1) infinite;\n",
       "  }\n",
       "\n",
       "  @keyframes spin {\n",
       "    0% {\n",
       "      border-color: transparent;\n",
       "      border-bottom-color: var(--fill-color);\n",
       "      border-left-color: var(--fill-color);\n",
       "    }\n",
       "    20% {\n",
       "      border-color: transparent;\n",
       "      border-left-color: var(--fill-color);\n",
       "      border-top-color: var(--fill-color);\n",
       "    }\n",
       "    30% {\n",
       "      border-color: transparent;\n",
       "      border-left-color: var(--fill-color);\n",
       "      border-top-color: var(--fill-color);\n",
       "      border-right-color: var(--fill-color);\n",
       "    }\n",
       "    40% {\n",
       "      border-color: transparent;\n",
       "      border-right-color: var(--fill-color);\n",
       "      border-top-color: var(--fill-color);\n",
       "    }\n",
       "    60% {\n",
       "      border-color: transparent;\n",
       "      border-right-color: var(--fill-color);\n",
       "    }\n",
       "    80% {\n",
       "      border-color: transparent;\n",
       "      border-right-color: var(--fill-color);\n",
       "      border-bottom-color: var(--fill-color);\n",
       "    }\n",
       "    90% {\n",
       "      border-color: transparent;\n",
       "      border-bottom-color: var(--fill-color);\n",
       "    }\n",
       "  }\n",
       "</style>\n",
       "\n",
       "  <script>\n",
       "    async function quickchart(key) {\n",
       "      const quickchartButtonEl =\n",
       "        document.querySelector('#' + key + ' button');\n",
       "      quickchartButtonEl.disabled = true;  // To prevent multiple clicks.\n",
       "      quickchartButtonEl.classList.add('colab-df-spinner');\n",
       "      try {\n",
       "        const charts = await google.colab.kernel.invokeFunction(\n",
       "            'suggestCharts', [key], {});\n",
       "      } catch (error) {\n",
       "        console.error('Error during call to suggestCharts:', error);\n",
       "      }\n",
       "      quickchartButtonEl.classList.remove('colab-df-spinner');\n",
       "      quickchartButtonEl.classList.add('colab-df-quickchart-complete');\n",
       "    }\n",
       "    (() => {\n",
       "      let quickchartButtonEl =\n",
       "        document.querySelector('#df-c1428b49-c5df-429c-aebb-c03a603fab20 button');\n",
       "      quickchartButtonEl.style.display =\n",
       "        google.colab.kernel.accessAllowed ? 'block' : 'none';\n",
       "    })();\n",
       "  </script>\n",
       "</div>\n",
       "    </div>\n",
       "  </div>\n"
      ],
      "text/plain": [
       "         PC1       PC2        PC3       PC4       PC5       PC6       PC7  \\\n",
       "0 -10.550903  4.420569   2.425805 -4.331978 -3.268900  0.138334 -1.086155   \n",
       "1   5.744981  2.407275  -7.812355  7.095059 -2.770124  1.051791 -0.457901   \n",
       "2  -9.601750  2.346713   1.709098 -2.349919  0.562374  0.399310 -1.392577   \n",
       "3 -10.356276  3.915120 -10.232563 -3.419458  0.578884 -3.350628 -1.773208   \n",
       "4  -0.241064 -1.980013  -2.794786 -4.962001  0.451392 -0.728487  0.942430   \n",
       "\n",
       "        PC8       PC9      PC10  ...      PC55      PC56      PC57      PC58  \\\n",
       "0 -1.230266  3.598885  0.454703  ... -0.739356 -0.193540 -0.176529 -0.722906   \n",
       "1  1.764580 -0.988548 -0.254081  ...  0.824638  0.313915  1.074626  0.680373   \n",
       "2 -3.704566 -0.196322  2.297355  ... -1.159169  0.257362 -0.037932 -0.794339   \n",
       "3  0.277093  3.308837  2.777349  ...  0.715480  0.177646 -0.176828  0.191263   \n",
       "4  0.720349  0.114483  2.682895  ... -1.111226 -1.411859  1.367522 -0.545864   \n",
       "\n",
       "       PC59      PC60      PC61      PC62      PC63      PC64  \n",
       "0 -0.448156 -0.235744  0.112003 -0.539258  0.641463 -0.349264  \n",
       "1 -0.179096  0.313974 -1.349297  1.160430  0.690218  0.521041  \n",
       "2 -0.970499  0.251965 -0.068080  0.216669 -0.784812 -0.204544  \n",
       "3 -0.287764  0.482939 -0.133680  0.328099 -0.043511 -0.185088  \n",
       "4  2.013827 -0.513514 -0.033909 -0.331501  1.247163 -0.435110  \n",
       "\n",
       "[5 rows x 64 columns]"
      ]
     },
     "execution_count": 53,
     "metadata": {},
     "output_type": "execute_result"
    }
   ],
   "source": [
    "df_pca.head()"
   ]
  },
  {
   "cell_type": "code",
   "execution_count": null,
   "metadata": {
    "colab": {
     "base_uri": "https://localhost:8080/"
    },
    "id": "p3uokRK9opzf",
    "outputId": "1c09b386-792c-4e02-be66-5c384689fbbb"
   },
   "outputs": [
    {
     "data": {
      "text/plain": [
       "(31262, 64)"
      ]
     },
     "execution_count": 54,
     "metadata": {},
     "output_type": "execute_result"
    }
   ],
   "source": [
    "df_pca.shape"
   ]
  },
  {
   "cell_type": "markdown",
   "metadata": {
    "id": "3OlbJ7yWpM-Y"
   },
   "source": [
    "Las variables son 64 y las filas son un total de 31262\n",
    "Se redujo las dimensiones de 559 a 64 .\n",
    "\n",
    "---\n",
    "\n"
   ]
  },
  {
   "cell_type": "code",
   "execution_count": null,
   "metadata": {
    "colab": {
     "base_uri": "https://localhost:8080/"
    },
    "id": "YypoOtKlIam_",
    "outputId": "64b96985-6776-4d5a-f98c-b828430fc91c"
   },
   "outputs": [
    {
     "name": "stdout",
     "output_type": "stream",
     "text": [
      "<class 'pandas.core.frame.DataFrame'>\n",
      "RangeIndex: 31262 entries, 0 to 31261\n",
      "Data columns (total 64 columns):\n",
      " #   Column  Non-Null Count  Dtype  \n",
      "---  ------  --------------  -----  \n",
      " 0   PC1     31262 non-null  float64\n",
      " 1   PC2     31262 non-null  float64\n",
      " 2   PC3     31262 non-null  float64\n",
      " 3   PC4     31262 non-null  float64\n",
      " 4   PC5     31262 non-null  float64\n",
      " 5   PC6     31262 non-null  float64\n",
      " 6   PC7     31262 non-null  float64\n",
      " 7   PC8     31262 non-null  float64\n",
      " 8   PC9     31262 non-null  float64\n",
      " 9   PC10    31262 non-null  float64\n",
      " 10  PC11    31262 non-null  float64\n",
      " 11  PC12    31262 non-null  float64\n",
      " 12  PC13    31262 non-null  float64\n",
      " 13  PC14    31262 non-null  float64\n",
      " 14  PC15    31262 non-null  float64\n",
      " 15  PC16    31262 non-null  float64\n",
      " 16  PC17    31262 non-null  float64\n",
      " 17  PC18    31262 non-null  float64\n",
      " 18  PC19    31262 non-null  float64\n",
      " 19  PC20    31262 non-null  float64\n",
      " 20  PC21    31262 non-null  float64\n",
      " 21  PC22    31262 non-null  float64\n",
      " 22  PC23    31262 non-null  float64\n",
      " 23  PC24    31262 non-null  float64\n",
      " 24  PC25    31262 non-null  float64\n",
      " 25  PC26    31262 non-null  float64\n",
      " 26  PC27    31262 non-null  float64\n",
      " 27  PC28    31262 non-null  float64\n",
      " 28  PC29    31262 non-null  float64\n",
      " 29  PC30    31262 non-null  float64\n",
      " 30  PC31    31262 non-null  float64\n",
      " 31  PC32    31262 non-null  float64\n",
      " 32  PC33    31262 non-null  float64\n",
      " 33  PC34    31262 non-null  float64\n",
      " 34  PC35    31262 non-null  float64\n",
      " 35  PC36    31262 non-null  float64\n",
      " 36  PC37    31262 non-null  float64\n",
      " 37  PC38    31262 non-null  float64\n",
      " 38  PC39    31262 non-null  float64\n",
      " 39  PC40    31262 non-null  float64\n",
      " 40  PC41    31262 non-null  float64\n",
      " 41  PC42    31262 non-null  float64\n",
      " 42  PC43    31262 non-null  float64\n",
      " 43  PC44    31262 non-null  float64\n",
      " 44  PC45    31262 non-null  float64\n",
      " 45  PC46    31262 non-null  float64\n",
      " 46  PC47    31262 non-null  float64\n",
      " 47  PC48    31262 non-null  float64\n",
      " 48  PC49    31262 non-null  float64\n",
      " 49  PC50    31262 non-null  float64\n",
      " 50  PC51    31262 non-null  float64\n",
      " 51  PC52    31262 non-null  float64\n",
      " 52  PC53    31262 non-null  float64\n",
      " 53  PC54    31262 non-null  float64\n",
      " 54  PC55    31262 non-null  float64\n",
      " 55  PC56    31262 non-null  float64\n",
      " 56  PC57    31262 non-null  float64\n",
      " 57  PC58    31262 non-null  float64\n",
      " 58  PC59    31262 non-null  float64\n",
      " 59  PC60    31262 non-null  float64\n",
      " 60  PC61    31262 non-null  float64\n",
      " 61  PC62    31262 non-null  float64\n",
      " 62  PC63    31262 non-null  float64\n",
      " 63  PC64    31262 non-null  float64\n",
      "dtypes: float64(64)\n",
      "memory usage: 15.3 MB\n"
     ]
    }
   ],
   "source": [
    "df_pca.info()"
   ]
  },
  {
   "cell_type": "markdown",
   "metadata": {
    "id": "h_GyD1EvplAT"
   },
   "source": [
    "\n",
    "Se puede observar que el  reducir la dimensionalidad del  conjunto de datos de 559 variables a 64 mediante PCA.Puede ser beneficioso reduce el trabajo computacional, se elimina la redundancia en los datos.\n",
    "\n",
    "*   cantidad componentes variablesnuevas  =64\n",
    "*   cantidad variables original=559\n",
    "\n"
   ]
  },
  {
   "cell_type": "markdown",
   "metadata": {
    "id": "Hbnzuk_qCddX"
   },
   "source": [
    "##Método del Codo (Elbow Method) (df_elb)\n",
    "\n",
    "---\n",
    "\n"
   ]
  },
  {
   "cell_type": "code",
   "execution_count": null,
   "metadata": {
    "colab": {
     "base_uri": "https://localhost:8080/"
    },
    "id": "-zhKruembWe8",
    "outputId": "dc6a90a3-5e57-4f11-b4b9-4c71a264e85a"
   },
   "outputs": [
    {
     "name": "stdout",
     "output_type": "stream",
     "text": [
      "Collecting kneed\n",
      "  Downloading kneed-0.8.5-py3-none-any.whl (10 kB)\n",
      "Requirement already satisfied: numpy>=1.14.2 in /usr/local/lib/python3.10/dist-packages (from kneed) (1.23.5)\n",
      "Requirement already satisfied: scipy>=1.0.0 in /usr/local/lib/python3.10/dist-packages (from kneed) (1.11.3)\n",
      "Installing collected packages: kneed\n",
      "Successfully installed kneed-0.8.5\n"
     ]
    }
   ],
   "source": [
    "!pip install kneed            # instalamos el paquete con pip\n",
    "from kneed import KneeLocator # importamos el paquete para detectar el codo"
   ]
  },
  {
   "cell_type": "code",
   "execution_count": null,
   "metadata": {
    "id": "afsqkIHWgCl-"
   },
   "outputs": [],
   "source": [
    "X_scaled.head()"
   ]
  },
  {
   "cell_type": "code",
   "execution_count": null,
   "metadata": {
    "id": "29kqhp_0btbB"
   },
   "outputs": [],
   "source": [
    "df_elb=df_pca"
   ]
  },
  {
   "cell_type": "code",
   "execution_count": null,
   "metadata": {
    "colab": {
     "base_uri": "https://localhost:8080/",
     "height": 1000
    },
    "id": "NVQ9d5CDbglO",
    "outputId": "cdb2bebe-18f8-41ce-cec0-907b19c75bee"
   },
   "outputs": [],
   "source": [
    "sse = [] # acá vamos a guardar el puntaje de la función objetivo\n",
    "\n",
    "for k in range(1, 10):\n",
    "  print(k)\n",
    "  kkmeans = KMeans(n_clusters=k)\n",
    "  kkmeans.fit(df_elb)\n",
    "  sse.append(kkmeans.inertia_)"
   ]
  },
  {
   "cell_type": "markdown",
   "metadata": {
    "id": "bnZz_ow4cFk2"
   },
   "source": [
    "##Grafico  SEE en función del número de clusters k"
   ]
  },
  {
   "cell_type": "code",
   "execution_count": null,
   "metadata": {
    "id": "iKGUCRPRbgh2"
   },
   "outputs": [],
   "source": [
    "fig, ax = plt.subplots(figsize = (20, 7))\n",
    "\n",
    "# esta dos lineas las agrego para que se vea la elección de KneeLocator para el codo en este gráfico\n",
    "ax.scatter(8, sse[7], color='red', s=200) # agregamos un punto rojo al plot de tamaño s=200 en el lugar donde se encuentra el codo\n",
    "ax.text(7.5, sse[7]-1000, s=\"codo\")       # agregamos un texto abajo para indicar qué representa el punto\n",
    "\n",
    "# estas lineas son el grafico de SSEvsK\n",
    "ax.scatter(range(1, 40), sse)\n",
    "ax.set_xticks(range(1, 40))\n",
    "ax.set_xlabel(\"Número de clusters\")\n",
    "ax.set_ylabel(\"SSE\")"
   ]
  },
  {
   "cell_type": "markdown",
   "metadata": {
    "id": "5-GUya2jcrX2"
   },
   "source": [
    "En este plot podemos ver dos cosas:\n",
    "1. SSE es monótonamente decreciente: al agregar un cluster la distancia entre todas las samples a los centroides siempre va a reducirse\n",
    "2. A ojo distinguimos un codo entre k=7 y k=16 porque al agregar más clusters aumentamos la complejidad del modelo pero SEE disminuye en menor proporción.\n",
    "\n",
    "Aun así, es muy dificil detectar el codo exactamente con la gráfica. No son muchos los casos donde con un gráfico podamos detectar el codo facilmente."
   ]
  },
  {
   "cell_type": "markdown",
   "metadata": {
    "id": "oEBn5QEhc8l5"
   },
   "source": [
    "##Función 'KneeLocator'\n",
    "Se utiliza para detectar el codo. Se pasan los valores de K, SEE, la forma de la fusión ."
   ]
  },
  {
   "cell_type": "code",
   "execution_count": null,
   "metadata": {
    "id": "bTh9_txGbgfx"
   },
   "outputs": [],
   "source": [
    "kl = KneeLocator(range(1, 40), sse, curve=\"convex\", direction=\"decreasing\")\n",
    "\n",
    "print(\"El codo está en k =\", kl.elbow)"
   ]
  },
  {
   "cell_type": "code",
   "execution_count": null,
   "metadata": {
    "id": "LencLSiIbgdP"
   },
   "outputs": [],
   "source": []
  },
  {
   "cell_type": "code",
   "execution_count": null,
   "metadata": {
    "id": "lbi6Hib_bgam"
   },
   "outputs": [],
   "source": []
  },
  {
   "cell_type": "code",
   "execution_count": null,
   "metadata": {
    "id": "_Rsl5mzabgR5"
   },
   "outputs": [],
   "source": []
  },
  {
   "cell_type": "code",
   "execution_count": null,
   "metadata": {
    "id": "YJ_ca9eApfil"
   },
   "outputs": [],
   "source": [
    "df5_km=df2"
   ]
  },
  {
   "cell_type": "code",
   "execution_count": null,
   "metadata": {
    "colab": {
     "base_uri": "https://localhost:8080/",
     "height": 478
    },
    "id": "kvH6Yz1PCMy0",
    "outputId": "6d519a44-d356-4077-e128-f5e45c936576"
   },
   "outputs": [
    {
     "data": {
      "image/png": "[encoded data removed]",
      "text/plain": [
       "<Figure size 640x480 with 1 Axes>"
      ]
     },
     "metadata": {},
     "output_type": "display_data"
    }
   ],
   "source": [
    "from sklearn.cluster import KMeans\n",
    "# Lista de valores de k que deseas probar\n",
    "k_values = range(1, 11)\n",
    "\n",
    "# Lista para almacenar las inercias\n",
    "inertias = []\n",
    "\n",
    "for k in k_values:\n",
    "    # Crea y ajusta el modelo k-means\n",
    "    kmeans = KMeans(n_clusters=k, random_state=42)\n",
    "    kmeans.fit(df5_km)\n",
    "\n",
    "    # Guarda la inercia en la lista\n",
    "    inertias.append(kmeans.inertia_)\n",
    "\n",
    "# Grafica el método del codo\n",
    "plt.plot(k_values, inertias, marker='o')\n",
    "plt.xlabel('Número de Clústeres (k)')\n",
    "plt.ylabel('Inercia')\n",
    "plt.title('Método del Codo para Encontrar k')\n",
    "plt.show()\n"
   ]
  },
  {
   "cell_type": "markdown",
   "metadata": {
    "id": "9fc4enHsEChy"
   },
   "source": [
    "Se puede observar mediante  el método del codo el número óptimo de clústeres en k-means es entre 2 y 4 , ya que en ese  punto  agregar más clústeres ya no mejora significativamente la varianza explicada."
   ]
  },
  {
   "cell_type": "code",
   "execution_count": null,
   "metadata": {
    "colab": {
     "base_uri": "https://localhost:8080/",
     "height": 669
    },
    "id": "jkjwTHheECNe",
    "outputId": "25f30fe2-04bc-4c11-bc56-e0a8b281bc93"
   },
   "outputs": [
    {
     "name": "stdout",
     "output_type": "stream",
     "text": [
      "Número de Clústeres (k): 1, Inercia: 119725120.80313277\n",
      "Número de Clústeres (k): 2, Inercia: 104815466.11039817\n",
      "Número de Clústeres (k): 3, Inercia: 99048461.79640877\n",
      "Número de Clústeres (k): 4, Inercia: 95607322.07372439\n",
      "Número de Clústeres (k): 5, Inercia: 92496633.65428033\n",
      "Número de Clústeres (k): 6, Inercia: 89664388.9512533\n",
      "Número de Clústeres (k): 7, Inercia: 87682715.065761\n",
      "Número de Clústeres (k): 8, Inercia: 86048642.16833673\n",
      "Número de Clústeres (k): 9, Inercia: 84469422.58087227\n",
      "Número de Clústeres (k): 10, Inercia: 83215054.21082112\n"
     ]
    },
    {
     "data": {
      "image/png": "[encoded data removed]",
      "text/plain": [
       "<Figure size 640x480 with 1 Axes>"
      ]
     },
     "metadata": {},
     "output_type": "display_data"
    },
    {
     "name": "stdout",
     "output_type": "stream",
     "text": [
      "Número óptimo de Clústeres (k): 10\n"
     ]
    }
   ],
   "source": [
    "from sklearn.cluster import KMeans\n",
    "# Lista de valores de k que deseas probar\n",
    "k_values = range(1, 11)\n",
    "\n",
    "# Lista para almacenar las inercias\n",
    "inertias = []\n",
    "\n",
    "for k in k_values:\n",
    "    # Crea y ajusta el modelo k-means\n",
    "    kmeans = KMeans(n_clusters=k, random_state=42)\n",
    "    kmeans.fit(df5_km)\n",
    "\n",
    "    # Guarda la inercia en la lista\n",
    "    inertia = kmeans.inertia_\n",
    "    inertias.append(inertia)\n",
    "\n",
    "    # Imprime la inercia para cada k\n",
    "    print(f'Número de Clústeres (k): {k}, Inercia: {inertia}')\n",
    "\n",
    "# Encuentra el punto de codo\n",
    "diff = [inertias[i] - inertias[i - 1] for i in range(1, len(inertias))]\n",
    "optimal_k_index = diff.index(max(diff)) + 2  # Sumamos 2 porque empezamos desde k=2\n",
    "\n",
    "# Grafica el método del codo\n",
    "plt.plot(k_values, inertias, marker='o')\n",
    "plt.xlabel('Número de Clústeres (k)')\n",
    "plt.ylabel('Inercia')\n",
    "plt.title('Método del Codo para Encontrar k')\n",
    "plt.show()\n",
    "\n",
    "# Imprime el valor óptimo de k\n",
    "print(f'Número óptimo de Clústeres (k): {optimal_k_index}')\n"
   ]
  },
  {
   "cell_type": "code",
   "execution_count": null,
   "metadata": {
    "colab": {
     "base_uri": "https://localhost:8080/",
     "height": 477
    },
    "id": "UcWavQ8ew2py",
    "outputId": "7f5b4998-1aea-475c-fedf-04697f239a22"
   },
   "outputs": [
    {
     "data": {
      "image/png": "[encoded data removed]",
      "text/plain": [
       "<Figure size 640x480 with 1 Axes>"
      ]
     },
     "metadata": {},
     "output_type": "display_data"
    }
   ],
   "source": [
    "import matplotlib.pyplot as plt\n",
    "\n",
    "# Los valores de k y las inercias\n",
    "k_values = range(1, 11)\n",
    "inercias = [119725120.80313277, 104815466.11039817, 99048461.79640877, 95607322.07372439,\n",
    "            92496633.65428033, 89664388.9512533, 87682715.065761, 86048642.16833673,\n",
    "            84469422.58087227, 83215054.21082112]\n",
    "\n",
    "# Visualización del gráfico\n",
    "plt.plot(k_values, inercias, marker='o')\n",
    "plt.xlabel('Número de Clústeres (k)')\n",
    "plt.ylabel('Inercia')\n",
    "plt.title('Método del Codo')\n",
    "plt.show()\n"
   ]
  },
  {
   "cell_type": "markdown",
   "metadata": {
    "id": "h_FoCajhMP8Q"
   },
   "source": [
    "#K-Means"
   ]
  },
  {
   "cell_type": "code",
   "execution_count": null,
   "metadata": {
    "id": "Byvo2wT0tibQ"
   },
   "outputs": [],
   "source": [
    "from sklearn.cluster import KMeans\n",
    "\n",
    "# Convierte el DataFrame a un array NumPy\n",
    "df5_km_array = df5_km.values\n",
    "\n",
    "# Elije el valor de k óptimo basado en la observación del gráfico del codo\n",
    "k_optimo = 64\n",
    "# Cambia esto con el valor óptimo que hayas identificado\n",
    "\n",
    "# Aplica k-means con el valor óptimo de k\n",
    "kmeans = KMeans(n_clusters=k_optimo, random_state=42)\n",
    "kmeans.fit(df5_km_array)\n",
    "\n",
    "# Etiquetas de clúster asignadas a cada punto de datos\n",
    "labels = kmeans.labels_\n",
    "\n",
    "# Centroides de clúster\n",
    "centroids = kmeans.cluster_centers_\n",
    "\n",
    "# Visualiza los clústeres\n",
    "plt.scatter(df5_km_array[:, 0], df5_km_array[:, 1], c=labels, cmap='viridis')\n",
    "plt.scatter(centroids[:, 0], centroids[:, 1], marker='X', s=200, color='red')\n",
    "plt.title('Clústeres obtenidos con k-means')\n",
    "plt.show()\n"
   ]
  },
  {
   "cell_type": "markdown",
   "metadata": {
    "id": "Ft0j0-MUN-y1"
   },
   "source": [
    "##Metodo silhouette\n"
   ]
  },
  {
   "cell_type": "markdown",
   "metadata": {
    "id": "aLqTF1QMOlH2"
   },
   "source": [
    "Mide que tan similar es un dato a los datos de su cluster en comparación a los datos del cluster más cercano. Su valor está en el rango [-1,1]. El valor “1” indica que el dato está bien emparejado en su propio cluster y mal emparejado con los datos de otros clusters"
   ]
  },
  {
   "cell_type": "code",
   "execution_count": null,
   "metadata": {
    "id": "a_mt3ajNN9bm"
   },
   "outputs": [],
   "source": [
    "from sklearn.cluster import KMeans\n",
    "from sklearn.metrics import silhouette_score\n",
    "# Lista para almacenar las puntuaciones de silueta\n",
    "silhouette_scores = []\n",
    "\n",
    "# Número máximo de clusters a probar\n",
    "max_clusters = 64\n",
    "\n",
    "for num_clusters in range(2, max_clusters + 1):\n",
    "    # Aplicar K-Means\n",
    "    kmeans = KMeans(n_clusters=num_clusters, random_state=42)\n",
    "    labels = kmeans.fit_predict(df5_km)\n",
    "\n",
    "    # Calcular la puntuación de silueta\n",
    "    silhouette_avg = silhouette_score(df5_km, labels)\n",
    "    silhouette_scores.append(silhouette_avg)\n",
    "\n",
    "# Encontrar el número óptimo de clusters que maximiza la puntuación de silueta\n",
    "optimal_k = silhouette_scores.index(max(silhouette_scores)) + 2  # +2 para compensar el rango de clusters (de 2 a max_clusters)\n",
    "\n",
    "# Graficar la puntuación de silueta para diferentes números de clusters\n",
    "plt.plot(range(2, max_clusters + 1), silhouette_scores, marker='o')\n",
    "plt.xlabel('Número de Clusters')\n",
    "plt.ylabel('Puntuación de Silueta')\n",
    "plt.title('Evaluación de K-Means utilizando Silueta')\n",
    "plt.show()\n",
    "\n",
    "print(f\"Número óptimo de clusters según la puntuación de silueta: {optimal_k}\")\n"
   ]
  },
  {
   "cell_type": "markdown",
   "metadata": {
    "id": "OGfSQQdKQZgh"
   },
   "source": [
    "Se puede visualizar como k  itera sobre diferentes números de clusters, calcula la puntuación de la silueta y almacena estas puntuaciones en una lista. Luego, grafica las puntuaciones y muestra el número óptimo de clusters según la puntuación de silueta."
   ]
  },
  {
   "cell_type": "markdown",
   "metadata": {
    "id": "ETO6f3Z9PjKn"
   },
   "source": [
    "# K-Means\n",
    "Ahora que ya tengo el K que es el numero optimo de cluster , se aplica el codigo de k-means"
   ]
  },
  {
   "cell_type": "code",
   "execution_count": null,
   "metadata": {
    "colab": {
     "base_uri": "https://localhost:8080/",
     "height": 255
    },
    "id": "XkhF8qAAa4yQ",
    "outputId": "7df74713-e856-4959-f82c-8a131e19752a"
   },
   "outputs": [
    {
     "data": {
      "text/html": [
       "\n",
       "  <div id=\"df-7e90f540-613f-4f1a-8f4c-41ac6eca2d6e\" class=\"colab-df-container\">\n",
       "    <div>\n",
       "<style scoped>\n",
       "    .dataframe tbody tr th:only-of-type {\n",
       "        vertical-align: middle;\n",
       "    }\n",
       "\n",
       "    .dataframe tbody tr th {\n",
       "        vertical-align: top;\n",
       "    }\n",
       "\n",
       "    .dataframe thead th {\n",
       "        text-align: right;\n",
       "    }\n",
       "</style>\n",
       "<table border=\"1\" class=\"dataframe\">\n",
       "  <thead>\n",
       "    <tr style=\"text-align: right;\">\n",
       "      <th></th>\n",
       "      <th>Subsegmento</th>\n",
       "      <th>Region</th>\n",
       "      <th>Edad</th>\n",
       "      <th>Renta</th>\n",
       "      <th>Antiguedad</th>\n",
       "      <th>Internauta</th>\n",
       "      <th>Adicional</th>\n",
       "      <th>Dualidad</th>\n",
       "      <th>Monoproducto</th>\n",
       "      <th>Ctacte</th>\n",
       "      <th>...</th>\n",
       "      <th>ColMx_T01</th>\n",
       "      <th>PagoNac_T01</th>\n",
       "      <th>PagoInt_T01</th>\n",
       "      <th>EeccNac_T01</th>\n",
       "      <th>EeccInt_T01</th>\n",
       "      <th>UsoL1_T01</th>\n",
       "      <th>UsoL2_T01</th>\n",
       "      <th>UsoLI_T01</th>\n",
       "      <th>target</th>\n",
       "      <th>cluster</th>\n",
       "    </tr>\n",
       "  </thead>\n",
       "  <tbody>\n",
       "    <tr>\n",
       "      <th>1</th>\n",
       "      <td>5.075174</td>\n",
       "      <td>2.564949</td>\n",
       "      <td>3.828641</td>\n",
       "      <td>13.317101</td>\n",
       "      <td>4.234107</td>\n",
       "      <td>0.0</td>\n",
       "      <td>0.0</td>\n",
       "      <td>0.0</td>\n",
       "      <td>0.0</td>\n",
       "      <td>0.0</td>\n",
       "      <td>...</td>\n",
       "      <td>0.0</td>\n",
       "      <td>12.611538</td>\n",
       "      <td>0.0</td>\n",
       "      <td>12.276494</td>\n",
       "      <td>0.0</td>\n",
       "      <td>12.276494</td>\n",
       "      <td>11.333751</td>\n",
       "      <td>0.0</td>\n",
       "      <td>0.0</td>\n",
       "      <td>1</td>\n",
       "    </tr>\n",
       "    <tr>\n",
       "      <th>2</th>\n",
       "      <td>5.135798</td>\n",
       "      <td>2.564949</td>\n",
       "      <td>3.806662</td>\n",
       "      <td>13.741978</td>\n",
       "      <td>3.178054</td>\n",
       "      <td>0.0</td>\n",
       "      <td>0.0</td>\n",
       "      <td>0.0</td>\n",
       "      <td>0.0</td>\n",
       "      <td>0.0</td>\n",
       "      <td>...</td>\n",
       "      <td>0.0</td>\n",
       "      <td>12.286158</td>\n",
       "      <td>0.0</td>\n",
       "      <td>11.937801</td>\n",
       "      <td>0.0</td>\n",
       "      <td>8.909235</td>\n",
       "      <td>0.000000</td>\n",
       "      <td>0.0</td>\n",
       "      <td>0.0</td>\n",
       "      <td>3</td>\n",
       "    </tr>\n",
       "    <tr>\n",
       "      <th>3</th>\n",
       "      <td>5.017280</td>\n",
       "      <td>2.564949</td>\n",
       "      <td>3.828641</td>\n",
       "      <td>12.057845</td>\n",
       "      <td>4.897840</td>\n",
       "      <td>0.0</td>\n",
       "      <td>0.0</td>\n",
       "      <td>0.0</td>\n",
       "      <td>0.0</td>\n",
       "      <td>0.0</td>\n",
       "      <td>...</td>\n",
       "      <td>0.0</td>\n",
       "      <td>11.002100</td>\n",
       "      <td>0.0</td>\n",
       "      <td>12.516355</td>\n",
       "      <td>0.0</td>\n",
       "      <td>12.516355</td>\n",
       "      <td>9.267760</td>\n",
       "      <td>0.0</td>\n",
       "      <td>0.0</td>\n",
       "      <td>1</td>\n",
       "    </tr>\n",
       "    <tr>\n",
       "      <th>4</th>\n",
       "      <td>5.135798</td>\n",
       "      <td>2.564949</td>\n",
       "      <td>3.828641</td>\n",
       "      <td>13.598908</td>\n",
       "      <td>4.753590</td>\n",
       "      <td>0.0</td>\n",
       "      <td>0.0</td>\n",
       "      <td>0.0</td>\n",
       "      <td>0.0</td>\n",
       "      <td>0.0</td>\n",
       "      <td>...</td>\n",
       "      <td>0.0</td>\n",
       "      <td>12.516952</td>\n",
       "      <td>0.0</td>\n",
       "      <td>12.427463</td>\n",
       "      <td>0.0</td>\n",
       "      <td>11.229753</td>\n",
       "      <td>12.842073</td>\n",
       "      <td>0.0</td>\n",
       "      <td>0.0</td>\n",
       "      <td>1</td>\n",
       "    </tr>\n",
       "    <tr>\n",
       "      <th>5</th>\n",
       "      <td>5.135798</td>\n",
       "      <td>2.564949</td>\n",
       "      <td>3.850148</td>\n",
       "      <td>13.469725</td>\n",
       "      <td>4.204693</td>\n",
       "      <td>0.0</td>\n",
       "      <td>0.0</td>\n",
       "      <td>0.0</td>\n",
       "      <td>0.0</td>\n",
       "      <td>0.0</td>\n",
       "      <td>...</td>\n",
       "      <td>0.0</td>\n",
       "      <td>10.485703</td>\n",
       "      <td>0.0</td>\n",
       "      <td>10.485703</td>\n",
       "      <td>0.0</td>\n",
       "      <td>12.158761</td>\n",
       "      <td>10.843436</td>\n",
       "      <td>0.0</td>\n",
       "      <td>0.0</td>\n",
       "      <td>2</td>\n",
       "    </tr>\n",
       "  </tbody>\n",
       "</table>\n",
       "<p>5 rows × 560 columns</p>\n",
       "</div>\n",
       "    <div class=\"colab-df-buttons\">\n",
       "\n",
       "  <div class=\"colab-df-container\">\n",
       "    <button class=\"colab-df-convert\" onclick=\"convertToInteractive('df-7e90f540-613f-4f1a-8f4c-41ac6eca2d6e')\"\n",
       "            title=\"Convert this dataframe to an interactive table.\"\n",
       "            style=\"display:none;\">\n",
       "\n",
       "  <svg xmlns=\"http://www.w3.org/2000/svg\" height=\"24px\" viewBox=\"0 -960 960 960\">\n",
       "    <path d=\"M120-120v-720h720v720H120Zm60-500h600v-160H180v160Zm220 220h160v-160H400v160Zm0 220h160v-160H400v160ZM180-400h160v-160H180v160Zm440 0h160v-160H620v160ZM180-180h160v-160H180v160Zm440 0h160v-160H620v160Z\"/>\n",
       "  </svg>\n",
       "    </button>\n",
       "\n",
       "  <style>\n",
       "    .colab-df-container {\n",
       "      display:flex;\n",
       "      gap: 12px;\n",
       "    }\n",
       "\n",
       "    .colab-df-convert {\n",
       "      background-color: #E8F0FE;\n",
       "      border: none;\n",
       "      border-radius: 50%;\n",
       "      cursor: pointer;\n",
       "      display: none;\n",
       "      fill: #1967D2;\n",
       "      height: 32px;\n",
       "      padding: 0 0 0 0;\n",
       "      width: 32px;\n",
       "    }\n",
       "\n",
       "    .colab-df-convert:hover {\n",
       "      background-color: #E2EBFA;\n",
       "      box-shadow: 0px 1px 2px rgba(60, 64, 67, 0.3), 0px 1px 3px 1px rgba(60, 64, 67, 0.15);\n",
       "      fill: #174EA6;\n",
       "    }\n",
       "\n",
       "    .colab-df-buttons div {\n",
       "      margin-bottom: 4px;\n",
       "    }\n",
       "\n",
       "    [theme=dark] .colab-df-convert {\n",
       "      background-color: #3B4455;\n",
       "      fill: #D2E3FC;\n",
       "    }\n",
       "\n",
       "    [theme=dark] .colab-df-convert:hover {\n",
       "      background-color: #434B5C;\n",
       "      box-shadow: 0px 1px 3px 1px rgba(0, 0, 0, 0.15);\n",
       "      filter: drop-shadow(0px 1px 2px rgba(0, 0, 0, 0.3));\n",
       "      fill: #FFFFFF;\n",
       "    }\n",
       "  </style>\n",
       "\n",
       "    <script>\n",
       "      const buttonEl =\n",
       "        document.querySelector('#df-7e90f540-613f-4f1a-8f4c-41ac6eca2d6e button.colab-df-convert');\n",
       "      buttonEl.style.display =\n",
       "        google.colab.kernel.accessAllowed ? 'block' : 'none';\n",
       "\n",
       "      async function convertToInteractive(key) {\n",
       "        const element = document.querySelector('#df-7e90f540-613f-4f1a-8f4c-41ac6eca2d6e');\n",
       "        const dataTable =\n",
       "          await google.colab.kernel.invokeFunction('convertToInteractive',\n",
       "                                                    [key], {});\n",
       "        if (!dataTable) return;\n",
       "\n",
       "        const docLinkHtml = 'Like what you see? Visit the ' +\n",
       "          '<a target=\"_blank\" href=https://colab.research.google.com/notebooks/data_table.ipynb>data table notebook</a>'\n",
       "          + ' to learn more about interactive tables.';\n",
       "        element.innerHTML = '';\n",
       "        dataTable['output_type'] = 'display_data';\n",
       "        await google.colab.output.renderOutput(dataTable, element);\n",
       "        const docLink = document.createElement('div');\n",
       "        docLink.innerHTML = docLinkHtml;\n",
       "        element.appendChild(docLink);\n",
       "      }\n",
       "    </script>\n",
       "  </div>\n",
       "\n",
       "\n",
       "<div id=\"df-ed553e57-5ece-48d6-a831-cb3f24da2963\">\n",
       "  <button class=\"colab-df-quickchart\" onclick=\"quickchart('df-ed553e57-5ece-48d6-a831-cb3f24da2963')\"\n",
       "            title=\"Suggest charts\"\n",
       "            style=\"display:none;\">\n",
       "\n",
       "<svg xmlns=\"http://www.w3.org/2000/svg\" height=\"24px\"viewBox=\"0 0 24 24\"\n",
       "     width=\"24px\">\n",
       "    <g>\n",
       "        <path d=\"M19 3H5c-1.1 0-2 .9-2 2v14c0 1.1.9 2 2 2h14c1.1 0 2-.9 2-2V5c0-1.1-.9-2-2-2zM9 17H7v-7h2v7zm4 0h-2V7h2v10zm4 0h-2v-4h2v4z\"/>\n",
       "    </g>\n",
       "</svg>\n",
       "  </button>\n",
       "\n",
       "<style>\n",
       "  .colab-df-quickchart {\n",
       "      --bg-color: #E8F0FE;\n",
       "      --fill-color: #1967D2;\n",
       "      --hover-bg-color: #E2EBFA;\n",
       "      --hover-fill-color: #174EA6;\n",
       "      --disabled-fill-color: #AAA;\n",
       "      --disabled-bg-color: #DDD;\n",
       "  }\n",
       "\n",
       "  [theme=dark] .colab-df-quickchart {\n",
       "      --bg-color: #3B4455;\n",
       "      --fill-color: #D2E3FC;\n",
       "      --hover-bg-color: #434B5C;\n",
       "      --hover-fill-color: #FFFFFF;\n",
       "      --disabled-bg-color: #3B4455;\n",
       "      --disabled-fill-color: #666;\n",
       "  }\n",
       "\n",
       "  .colab-df-quickchart {\n",
       "    background-color: var(--bg-color);\n",
       "    border: none;\n",
       "    border-radius: 50%;\n",
       "    cursor: pointer;\n",
       "    display: none;\n",
       "    fill: var(--fill-color);\n",
       "    height: 32px;\n",
       "    padding: 0;\n",
       "    width: 32px;\n",
       "  }\n",
       "\n",
       "  .colab-df-quickchart:hover {\n",
       "    background-color: var(--hover-bg-color);\n",
       "    box-shadow: 0 1px 2px rgba(60, 64, 67, 0.3), 0 1px 3px 1px rgba(60, 64, 67, 0.15);\n",
       "    fill: var(--button-hover-fill-color);\n",
       "  }\n",
       "\n",
       "  .colab-df-quickchart-complete:disabled,\n",
       "  .colab-df-quickchart-complete:disabled:hover {\n",
       "    background-color: var(--disabled-bg-color);\n",
       "    fill: var(--disabled-fill-color);\n",
       "    box-shadow: none;\n",
       "  }\n",
       "\n",
       "  .colab-df-spinner {\n",
       "    border: 2px solid var(--fill-color);\n",
       "    border-color: transparent;\n",
       "    border-bottom-color: var(--fill-color);\n",
       "    animation:\n",
       "      spin 1s steps(1) infinite;\n",
       "  }\n",
       "\n",
       "  @keyframes spin {\n",
       "    0% {\n",
       "      border-color: transparent;\n",
       "      border-bottom-color: var(--fill-color);\n",
       "      border-left-color: var(--fill-color);\n",
       "    }\n",
       "    20% {\n",
       "      border-color: transparent;\n",
       "      border-left-color: var(--fill-color);\n",
       "      border-top-color: var(--fill-color);\n",
       "    }\n",
       "    30% {\n",
       "      border-color: transparent;\n",
       "      border-left-color: var(--fill-color);\n",
       "      border-top-color: var(--fill-color);\n",
       "      border-right-color: var(--fill-color);\n",
       "    }\n",
       "    40% {\n",
       "      border-color: transparent;\n",
       "      border-right-color: var(--fill-color);\n",
       "      border-top-color: var(--fill-color);\n",
       "    }\n",
       "    60% {\n",
       "      border-color: transparent;\n",
       "      border-right-color: var(--fill-color);\n",
       "    }\n",
       "    80% {\n",
       "      border-color: transparent;\n",
       "      border-right-color: var(--fill-color);\n",
       "      border-bottom-color: var(--fill-color);\n",
       "    }\n",
       "    90% {\n",
       "      border-color: transparent;\n",
       "      border-bottom-color: var(--fill-color);\n",
       "    }\n",
       "  }\n",
       "</style>\n",
       "\n",
       "  <script>\n",
       "    async function quickchart(key) {\n",
       "      const quickchartButtonEl =\n",
       "        document.querySelector('#' + key + ' button');\n",
       "      quickchartButtonEl.disabled = true;  // To prevent multiple clicks.\n",
       "      quickchartButtonEl.classList.add('colab-df-spinner');\n",
       "      try {\n",
       "        const charts = await google.colab.kernel.invokeFunction(\n",
       "            'suggestCharts', [key], {});\n",
       "      } catch (error) {\n",
       "        console.error('Error during call to suggestCharts:', error);\n",
       "      }\n",
       "      quickchartButtonEl.classList.remove('colab-df-spinner');\n",
       "      quickchartButtonEl.classList.add('colab-df-quickchart-complete');\n",
       "    }\n",
       "    (() => {\n",
       "      let quickchartButtonEl =\n",
       "        document.querySelector('#df-ed553e57-5ece-48d6-a831-cb3f24da2963 button');\n",
       "      quickchartButtonEl.style.display =\n",
       "        google.colab.kernel.accessAllowed ? 'block' : 'none';\n",
       "    })();\n",
       "  </script>\n",
       "</div>\n",
       "    </div>\n",
       "  </div>\n"
      ],
      "text/plain": [
       "   Subsegmento    Region      Edad      Renta  Antiguedad  Internauta  \\\n",
       "1     5.075174  2.564949  3.828641  13.317101    4.234107         0.0   \n",
       "2     5.135798  2.564949  3.806662  13.741978    3.178054         0.0   \n",
       "3     5.017280  2.564949  3.828641  12.057845    4.897840         0.0   \n",
       "4     5.135798  2.564949  3.828641  13.598908    4.753590         0.0   \n",
       "5     5.135798  2.564949  3.850148  13.469725    4.204693         0.0   \n",
       "\n",
       "   Adicional  Dualidad  Monoproducto  Ctacte  ...  ColMx_T01  PagoNac_T01  \\\n",
       "1        0.0       0.0           0.0     0.0  ...        0.0    12.611538   \n",
       "2        0.0       0.0           0.0     0.0  ...        0.0    12.286158   \n",
       "3        0.0       0.0           0.0     0.0  ...        0.0    11.002100   \n",
       "4        0.0       0.0           0.0     0.0  ...        0.0    12.516952   \n",
       "5        0.0       0.0           0.0     0.0  ...        0.0    10.485703   \n",
       "\n",
       "   PagoInt_T01  EeccNac_T01  EeccInt_T01  UsoL1_T01  UsoL2_T01  UsoLI_T01  \\\n",
       "1          0.0    12.276494          0.0  12.276494  11.333751        0.0   \n",
       "2          0.0    11.937801          0.0   8.909235   0.000000        0.0   \n",
       "3          0.0    12.516355          0.0  12.516355   9.267760        0.0   \n",
       "4          0.0    12.427463          0.0  11.229753  12.842073        0.0   \n",
       "5          0.0    10.485703          0.0  12.158761  10.843436        0.0   \n",
       "\n",
       "   target  cluster  \n",
       "1     0.0        1  \n",
       "2     0.0        3  \n",
       "3     0.0        1  \n",
       "4     0.0        1  \n",
       "5     0.0        2  \n",
       "\n",
       "[5 rows x 560 columns]"
      ]
     },
     "execution_count": 63,
     "metadata": {},
     "output_type": "execute_result"
    }
   ],
   "source": [
    "kmeans= KMeans(n_clusters=4).fit(df5_km.values)\n",
    "\n",
    "df5_km[\"cluster\"] = kmeans.labels_\n",
    "df5_km.head()"
   ]
  },
  {
   "cell_type": "markdown",
   "metadata": {
    "id": "XXIPgv9qbdcc"
   },
   "source": [
    "En el arreglo vemos los cluster 0,1"
   ]
  },
  {
   "cell_type": "code",
   "execution_count": null,
   "metadata": {
    "colab": {
     "base_uri": "https://localhost:8080/"
    },
    "id": "x2480QFVdRNf",
    "outputId": "06e5dd93-2b32-43ae-a9ae-e8132708b018"
   },
   "outputs": [
    {
     "data": {
      "text/plain": [
       "array([0, 1, 0, ..., 0, 0, 0], dtype=int32)"
      ]
     },
     "execution_count": 297,
     "metadata": {},
     "output_type": "execute_result"
    }
   ],
   "source": [
    " kmeans.labels_"
   ]
  },
  {
   "cell_type": "markdown",
   "metadata": {
    "id": "AsNnOKHMckJ7"
   },
   "source": [
    "Imprimir los centroides"
   ]
  },
  {
   "cell_type": "code",
   "execution_count": null,
   "metadata": {
    "colab": {
     "base_uri": "https://localhost:8080/"
    },
    "id": "O3cICDWkcYti",
    "outputId": "ff948b83-8f3e-4012-f269-cb8f232c01b8"
   },
   "outputs": [
    {
     "name": "stdout",
     "output_type": "stream",
     "text": [
      "[[-3.24261292e+00 -3.20540659e-01 -2.02718215e-01 -2.76266704e-02\n",
      "   3.28466686e-02  6.90818980e-02  7.09569746e-03 -4.20489265e-03\n",
      "   4.49575322e-02 -1.49552013e-02  1.29310492e-02 -2.45004404e-03\n",
      "  -9.57361691e-03  6.78501176e-04  6.38894887e-03  3.06983475e-03\n",
      "   7.00307440e-04  2.16674867e-02  7.60122699e-03  3.41782819e-02\n",
      "   7.75638755e-05 -1.62648411e-03 -9.06161821e-03 -9.17716734e-03\n",
      "   2.42300355e-03 -1.52165368e-02 -1.44846469e-02 -7.48981340e-03\n",
      "   6.16226731e-03  2.03265767e-02 -2.04092717e-03  6.72528639e-03\n",
      "   2.74020766e-02  1.05172553e-02 -2.22048416e-04 -5.60903864e-03\n",
      "  -4.34991220e-03 -7.29064259e-03  3.50505173e-03  8.12439734e-03\n",
      "   9.69310721e-05  4.39120993e-03 -3.51210800e-03  6.74838957e-03\n",
      "   3.52483899e-03 -1.98633762e-03  2.16665516e-03  3.77631329e-03\n",
      "  -2.58829750e-03  2.29639332e-03  2.40481290e-06 -6.66110451e-03\n",
      "  -6.06403498e-04 -2.55669921e-03  2.04236186e-03  1.15836312e-03\n",
      "   2.17820606e-03 -8.49356983e-04  3.01501350e-03 -2.06717217e-03\n",
      "   4.63459573e-04 -6.50002528e-03  4.78502144e-03  1.86153500e-03\n",
      "   2.24418916e-03 -8.02916770e-04 -4.94238415e-03  1.49508988e-03\n",
      "   5.04063057e-04  3.27152655e-03  4.20716101e-03  8.24544777e-04\n",
      "  -1.03195221e-03 -3.88156290e-03  3.00584444e-03 -1.19282603e-03\n",
      "   2.89947586e-03  3.04676205e-04  1.19461661e-04  5.72169667e-04\n",
      "   1.67361343e-03  1.56980959e-03 -2.73071977e-03  3.05865863e-03\n",
      "   8.64800541e-04 -5.63515731e-03  3.17273532e-03  7.21565534e-04\n",
      "  -6.33968130e-04  2.25981393e-03  1.12373670e-03  1.83636201e-03\n",
      "   3.34305443e-03  1.88504697e-04  2.58050055e-03  2.40872221e-03\n",
      "  -1.80827874e-03 -4.55535267e-03  1.92895475e-04 -3.12123317e-03\n",
      "  -1.66477941e-03 -3.27719711e-03 -3.57262927e-03 -7.61156034e-04\n",
      "  -4.03741611e-03  3.98677381e-03  2.32713826e-04  2.84622482e-04\n",
      "   4.69454550e-04  4.27839093e-03 -1.63279184e-03  5.68498095e-04\n",
      "  -4.36134909e-03 -1.10253862e-03  2.09038515e-03 -2.12229338e-03\n",
      "  -9.00221989e-04  3.51644313e-04 -3.35947935e-03  1.15781403e-03\n",
      "  -2.12440014e-03 -2.09150513e-03  1.27649429e-03  3.12893628e-03\n",
      "   1.00000000e+00]\n",
      " [ 4.68012379e+00  4.62642320e-01  2.92586986e-01  3.98740894e-02\n",
      "  -4.74082102e-02 -9.97071937e-02 -1.02413527e-02  6.06900009e-03\n",
      "  -6.48880459e-02  2.15851214e-02 -1.86636249e-02  3.53619432e-03\n",
      "   1.38177801e-02 -9.79293419e-04 -9.22128923e-03 -4.43074983e-03\n",
      "  -1.01076681e-03 -3.12730882e-02 -1.09709929e-02 -4.93301527e-02\n",
      "  -1.11949390e-04  2.34753489e-03  1.30788028e-02  1.32455770e-02\n",
      "  -3.49716628e-03  2.19623117e-02  2.09059613e-02  1.08101876e-02\n",
      "  -8.89411551e-03 -2.93377279e-02  2.94570830e-03 -9.70673146e-03\n",
      "  -3.95499290e-02 -1.51797509e-02  3.20486626e-04  8.09563023e-03\n",
      "   6.27830952e-03  1.05227206e-02 -5.05890662e-03 -1.17260944e-02\n",
      "  -1.39902427e-04 -6.33791530e-03  5.06909107e-03 -9.74007671e-03\n",
      "  -5.08746595e-03  2.86691818e-03 -3.12717385e-03 -5.45042350e-03\n",
      "   3.73573813e-03 -3.31442737e-03 -3.47091137e-06  9.61409654e-03\n",
      "   8.75233495e-04  3.69013172e-03 -2.94777902e-03 -1.67188713e-03\n",
      "  -3.14384549e-03  1.22589280e-03 -4.35162529e-03  2.98358820e-03\n",
      "  -6.68919858e-04  9.38160788e-03 -6.90631081e-03 -2.68678823e-03\n",
      "  -3.23908012e-03  1.15886477e-03  7.13343535e-03 -2.15789114e-03\n",
      "  -7.27523624e-04 -4.72185537e-03 -6.07227406e-03 -1.19008088e-03\n",
      "   1.48943590e-03  5.60233223e-03 -4.33839142e-03  1.72162809e-03\n",
      "  -4.18486766e-03 -4.39744857e-04 -1.72421246e-04 -8.25823167e-04\n",
      "  -2.41555752e-03 -2.26573550e-03  3.94129884e-03 -4.41461913e-03\n",
      "  -1.24818277e-03  8.13332779e-03 -4.57926814e-03 -1.04144901e-03\n",
      "   9.15018043e-04 -3.26163165e-03 -1.62191017e-03 -2.65045559e-03\n",
      "  -4.82509289e-03 -2.72072350e-04 -3.72448464e-03 -3.47655376e-03\n",
      "   2.60992248e-03  6.57482559e-03 -2.78409642e-04  4.50493413e-03\n",
      "   2.40280722e-03  4.73003979e-03  5.15644255e-03  1.09859072e-03\n",
      "   5.82727808e-03 -5.75418510e-03 -3.35880211e-04 -4.10800944e-04\n",
      "  -6.77572520e-04 -6.17508153e-03  2.35663896e-03 -8.20523918e-04\n",
      "   6.29481660e-03  1.59131458e-03 -3.01709193e-03  3.06314568e-03\n",
      "   1.29930721e-03 -5.07534805e-04  4.84879929e-03 -1.67109461e-03\n",
      "   3.06618640e-03  3.01870842e-03 -1.84238805e-03 -4.51605217e-03\n",
      "  -1.33004718e-13]] 10839092.19965263\n"
     ]
    }
   ],
   "source": [
    "print(kmeans.cluster_centers_,kmeans.inertia_)"
   ]
  },
  {
   "cell_type": "code",
   "execution_count": null,
   "metadata": {
    "id": "Jua0vZbtcwBV"
   },
   "outputs": [],
   "source": []
  },
  {
   "cell_type": "markdown",
   "metadata": {
    "id": "hLjTacl7cvia"
   },
   "source": [
    " 10839092.19965263  inertia"
   ]
  },
  {
   "cell_type": "markdown",
   "metadata": {
    "id": "g8cQ4xYwcAwS"
   },
   "source": []
  }
 ],
 "metadata": {
  "colab": {
   "name": "",
   "version": ""
  },
  "kernelspec": {
   "display_name": "Python 3",
   "name": "python3"
  },
  "language_info": {
   "name": "python"
  }
 },
 "nbformat": 4,
 "nbformat_minor": 0
}
